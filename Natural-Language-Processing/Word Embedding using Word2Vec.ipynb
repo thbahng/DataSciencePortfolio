{
 "cells": [
  {
   "cell_type": "markdown",
   "metadata": {},
   "source": [
    "## Word Embedding with Word2Vec\n",
    "[Reference](https://www.geeksforgeeks.org/python-word-embedding-using-word2vec/#:~:text=Word%20Embedding%20is%20a%20language,vector%20space%20with%20several%20dimensions.&text=The%20input%20layer%20contains%20the,layer%20contains%20the%20current%20word.)\n",
    "\n",
    "Word Embedding is a language modeling technique use for mapping words to vectors of real numbers. They can be generated using various methods like neural networks, co-occurrence matrix, probabilistic models, etc. This real-valued vector encodes the meaning of the word, and words that are closer together in the vector space are expected to be similar in meaning.\n",
    "\n",
    "A word embedding provides some reasonable representation of meanning/semantics for a word, and it is used in most downstream language tasks (e.g. features for document similarity). It's components include text, tokens, frequency bound, indices, and vectors.\n",
    "\n",
    "Word2Vec consists of models for generating word embedding. These models are shallow two layer neural networks having one input layer, one hidden layer and one output layer. Word2Vec utilizes two architectures:\n",
    "\n",
    "1. ***CBOW (Continuous Bag of Words)***: CBOW model predicts the ***current word*** given context words within a specific window. The input layer contains the context words and the output layer contains the current word. The hidden layer contains the number of dimensions in which we want to represent the current word present at the output layer.\n",
    "\n",
    "2. ***Skip Gram***: Skip gram predicts the ***surrounding context words*** within a specific window given the current word. The input layer contains the current word and the output layer contains the context words. The hidden layer contains the number of dimensions in which we want to represent the current word present at the input layer.\n",
    "\n",
    "**The basic idea of word embedding is words that occur in similar context tend to be closer to each other in vector space**\n",
    "\n",
    "Once trained, such a model can detect synonymous words or suggest additional words for a partial sentence. As the name implies, word2vec represents each distinct word with a particular list of numbers called a vector. The vectors are chosen carefully such that a simple mathematical function (the cosine similarity between the vectors) indicates the level of semantic similarity between the words represented by those vectors."
   ]
  },
  {
   "cell_type": "markdown",
   "metadata": {},
   "source": [
    "## What are the main applications of Word2Vec?\n",
    "The Word2Vec model is used to extract the notion of relatedness across words or products such as semantic relatedness, synonym detection, concept categorization, selectional preferences, and analogy. A Word2Vec model learns meaningful relations and encodes the relatedness into vector similarity. The main applications of Word2Vec can be summarized in knowledge discovery and recommender systems.\n",
    "\n",
    "* Knowledge Discovery\n",
    "    - Word2Vec models can be trained over a large number of documents and find hidden relations among elements of those documents. In 2019, a paper published in Nature introduced a novel Word2Vec model to discover a new chemical compound with specific properties. They trained a Word2Vec model on over three million abstracts from scientific papers published in a hundred years, across a thousand journals. The model helped them to extract relations and analogies among chemical compounds.\n",
    "* Recommender Systems\n",
    "    - Note that humans don’t jump randomly from item to item, without having an objective in mind. Items, products or places, that a user checks during a visit are somehow related to each other and the Word2Vec model capture that relatedness."
   ]
  },
  {
   "cell_type": "markdown",
   "metadata": {},
   "source": []
  },
  {
   "cell_type": "markdown",
   "metadata": {},
   "source": []
  },
  {
   "cell_type": "code",
   "execution_count": 24,
   "metadata": {},
   "outputs": [],
   "source": [
    "from nltk.tokenize import sent_tokenize, word_tokenize\n",
    "import warnings\n",
    "import gensim\n",
    "from gensim.models import Word2Vec\n",
    "from urllib import request\n",
    "from bs4 import BeautifulSoup\n",
    "import matplotlib.pyplot as plt"
   ]
  },
  {
   "cell_type": "code",
   "execution_count": 2,
   "metadata": {},
   "outputs": [],
   "source": [
    "# read text as string from url\n",
    "url = 'http://www.gutenberg.org/files/11/11-0.txt'\n",
    "response = request.urlopen(url)\n",
    "if response.code == 200:\n",
    "    raw = response.read().decode('utf8')\n",
    "    "
   ]
  },
  {
   "cell_type": "code",
   "execution_count": 3,
   "metadata": {},
   "outputs": [],
   "source": [
    "raw = raw[1:len(raw)-6]\n",
    "# replace escape character with space\n",
    "f = raw.replace(\"\\n\", \" \")"
   ]
  },
  {
   "cell_type": "code",
   "execution_count": 4,
   "metadata": {},
   "outputs": [],
   "source": [
    "data = []\n",
    "# iterate through each sentence in the file\n",
    "for sent in sent_tokenize(f):\n",
    "    temp = []\n",
    "    # tokenize the sentence into words\n",
    "    for word in word_tokenize(sent):\n",
    "        temp.append(word.lower())\n",
    "    data.append(temp)"
   ]
  },
  {
   "cell_type": "code",
   "execution_count": 5,
   "metadata": {},
   "outputs": [
    {
     "name": "stdout",
     "output_type": "stream",
     "text": [
      "['a', 'caucus-race', 'and', 'a', 'long', 'tale', 'chapter', 'iv', '.']\n"
     ]
    }
   ],
   "source": [
    "print(data[6])"
   ]
  },
  {
   "cell_type": "code",
   "execution_count": 6,
   "metadata": {},
   "outputs": [],
   "source": [
    "# create Continuous Bag of Words Model\n",
    "# ignores all words with total frequency less than 1\n",
    "model1 = gensim.models.Word2Vec(data, min_count = 1, vector_size = 100, window = 5)"
   ]
  },
  {
   "cell_type": "code",
   "execution_count": 7,
   "metadata": {},
   "outputs": [],
   "source": [
    "# function to print cosine similarity results between two words\n",
    "def get_similarity_results(model, word1, word2):\n",
    "    w1 = word1\n",
    "    w2 = word2\n",
    "    similarity = model.wv.similarity(w1,w2)\n",
    "    print(\"Cosine similarity between '{:s}' and '{:s}' : {:.2f}\".format(w1, w2, model.wv.similarity(w1,w2)))"
   ]
  },
  {
   "cell_type": "code",
   "execution_count": 8,
   "metadata": {},
   "outputs": [
    {
     "name": "stdout",
     "output_type": "stream",
     "text": [
      "Cosine similarity between 'alice' and 'wonderland' : 0.98\n",
      "Cosine similarity between 'alice' and 'machines' : 0.91\n"
     ]
    }
   ],
   "source": [
    "get_similarity_results(model1, 'alice', 'wonderland')\n",
    "get_similarity_results(model1, 'alice', 'machines')"
   ]
  },
  {
   "cell_type": "code",
   "execution_count": 9,
   "metadata": {},
   "outputs": [],
   "source": [
    "# Create Skip Gram Model\n",
    "model2 = gensim.models.Word2Vec(data, min_count = 1, vector_size = 100, window = 5, sg = 1)"
   ]
  },
  {
   "cell_type": "code",
   "execution_count": 10,
   "metadata": {},
   "outputs": [
    {
     "name": "stdout",
     "output_type": "stream",
     "text": [
      "Cosine similarity between 'alice' and 'wonderland' : 0.61\n",
      "Cosine similarity between 'alice' and 'machines' : 0.80\n"
     ]
    }
   ],
   "source": [
    "get_similarity_results(model2, 'alice','wonderland')\n",
    "get_similarity_results(model2, 'alice','machines')"
   ]
  },
  {
   "cell_type": "markdown",
   "metadata": {},
   "source": [
    "## Parameterization\n",
    "\n",
    "One interesting task might be to change the parameter values of vector_size (dimensionality) and window (context window) to observe the variations in the cosine similarities.\n",
    "\n",
    "- Quality of word embedding increases with higher dimensionality. But after reaching some point, marginal gain diminishes.[1] Typically, the dimensionality of the vectors is set to be between 100 and 1,000.\n",
    "- The size of the context window determines how many words before and after a given word are included as context words of the given word. According to the authors' note, the recommended value is 10 for skip-gram and 5 for CBOW\n",
    "\n",
    "The use of different model parameters and different corpus sizes can greatly affect the quality of a word2vec model. Accuracy can be improved in a number of ways, including the choice of model architecture (CBOW or Skip-Gram), increasing the training data set, increasing the number of vector dimensions, and increasing the window size of words considered by the algorithm. Each of these improvements comes with the cost of increased computational complexity and therefore increased model generation time"
   ]
  },
  {
   "cell_type": "code",
   "execution_count": 21,
   "metadata": {},
   "outputs": [
    {
     "name": "stdout",
     "output_type": "stream",
     "text": [
      " Dimensionality Size: 100\n",
      "Cosine similarity between 'alice' and 'wonderland' : 0.98\n",
      "Cosine similarity between 'alice' and 'wonderland' : 0.59\n",
      " Dimensionality Size: 200\n",
      "Cosine similarity between 'alice' and 'wonderland' : 0.99\n",
      "Cosine similarity between 'alice' and 'wonderland' : 0.64\n",
      " Dimensionality Size: 300\n",
      "Cosine similarity between 'alice' and 'wonderland' : 0.99\n",
      "Cosine similarity between 'alice' and 'wonderland' : 0.76\n",
      " Dimensionality Size: 400\n",
      "Cosine similarity between 'alice' and 'wonderland' : 0.99\n",
      "Cosine similarity between 'alice' and 'wonderland' : 0.71\n",
      " Dimensionality Size: 500\n",
      "Cosine similarity between 'alice' and 'wonderland' : 0.98\n",
      "Cosine similarity between 'alice' and 'wonderland' : 0.66\n",
      " Dimensionality Size: 600\n",
      "Cosine similarity between 'alice' and 'wonderland' : 0.99\n",
      "Cosine similarity between 'alice' and 'wonderland' : 0.65\n",
      " Dimensionality Size: 700\n",
      "Cosine similarity between 'alice' and 'wonderland' : 0.99\n",
      "Cosine similarity between 'alice' and 'wonderland' : 0.72\n",
      " Dimensionality Size: 800\n",
      "Cosine similarity between 'alice' and 'wonderland' : 0.98\n",
      "Cosine similarity between 'alice' and 'wonderland' : 0.74\n",
      " Dimensionality Size: 900\n",
      "Cosine similarity between 'alice' and 'wonderland' : 0.99\n",
      "Cosine similarity between 'alice' and 'wonderland' : 0.77\n",
      " Dimensionality Size: 1000\n",
      "Cosine similarity between 'alice' and 'wonderland' : 0.99\n",
      "Cosine similarity between 'alice' and 'wonderland' : 0.77\n"
     ]
    }
   ],
   "source": [
    "try_dims = [100, 200, 300, 400, 500, 600, 700, 800, 900, 1000]\n",
    "cs_mod1 = []\n",
    "cs_mod2 = []\n",
    "for dim in try_dims:\n",
    "    mod1 = gensim.models.Word2Vec(data, min_count = 1, vector_size = dim, window = 5)\n",
    "    cs_mod1.append(mod1.wv.similarity('alice', 'wonderland'))\n",
    "    mod2 = gensim.models.Word2Vec(data, min_count = 1, vector_size= dim, window = 10, sg = 1)\n",
    "    cs_mod2.append(mod2.wv.similarity('alice', 'wonderland'))\n",
    "    print(' Dimensionality Size: {:d}'.format(dim))\n",
    "    get_similarity_results(mod1, 'alice', 'wonderland')\n",
    "    get_similarity_results(mod2, 'alice', 'wonderland')"
   ]
  },
  {
   "cell_type": "code",
   "execution_count": 37,
   "metadata": {},
   "outputs": [
    {
     "data": {
      "image/png": "[encoded data removed]",
      "text/plain": [
       "<Figure size 720x360 with 1 Axes>"
      ]
     },
     "metadata": {
      "needs_background": "light"
     },
     "output_type": "display_data"
    }
   ],
   "source": [
    "fig, ax = plt.subplots()\n",
    "fig.set_size_inches(10,5)\n",
    "ax.plot(try_dims, cs_mod1, label = 'cbow')\n",
    "ax.plot(try_dims, cs_mod2, label = 'skipgram')\n",
    "ax.set_xlabel('vector size') # add an x-label to the axes\n",
    "ax.set_ylabel('cosine similarity') # add a y-label to the axes\n",
    "ax.set_title('Word2Vec Parameterization') # add a title to the axes\n",
    "ax.legend() # add a legend\n",
    "plt.show()"
   ]
  },
  {
   "cell_type": "code",
   "execution_count": 41,
   "metadata": {},
   "outputs": [
    {
     "data": {
      "text/plain": [
       "[('very', 0.9996967911720276),\n",
       " ('that', 0.9996825456619263),\n",
       " ('it', 0.9996784925460815),\n",
       " ('then', 0.9996765851974487),\n",
       " ('he', 0.9996645450592041),\n",
       " ('as', 0.9996613264083862),\n",
       " ('and', 0.9996586441993713),\n",
       " ('so', 0.9996563792228699),\n",
       " ('not', 0.9996546506881714),\n",
       " ('be', 0.9996539950370789)]"
      ]
     },
     "execution_count": 41,
     "metadata": {},
     "output_type": "execute_result"
    }
   ],
   "source": [
    "# top 10 words most similar to given word\n",
    "model1.wv.most_similar('alice')"
   ]
  },
  {
   "cell_type": "code",
   "execution_count": 43,
   "metadata": {},
   "outputs": [
    {
     "data": {
      "text/plain": [
       "[(':', 0.9996107220649719),\n",
       " ('and', 0.9996071457862854),\n",
       " ('a', 0.9995983839035034),\n",
       " ('at', 0.9995937943458557),\n",
       " ('about', 0.9995865821838379),\n",
       " ('of', 0.9995675683021545),\n",
       " ('with', 0.9995655417442322),\n",
       " ('out', 0.9995612502098083),\n",
       " ('.', 0.9995606541633606),\n",
       " ('then', 0.9995529055595398)]"
      ]
     },
     "execution_count": 43,
     "metadata": {},
     "output_type": "execute_result"
    }
   ],
   "source": [
    "model1.wv.most_similar('rabbit')"
   ]
  },
  {
   "cell_type": "code",
   "execution_count": 44,
   "metadata": {},
   "outputs": [
    {
     "data": {
      "text/plain": [
       "[('thought', 0.9891118407249451),\n",
       " ('hatter', 0.9839142560958862),\n",
       " ('duchess', 0.9811038970947266),\n",
       " ('cat', 0.9803930521011353),\n",
       " ('well', 0.9803516268730164),\n",
       " ('”', 0.9797637462615967),\n",
       " ('herself', 0.9794520139694214),\n",
       " ('very', 0.9790695309638977),\n",
       " ('said', 0.9782736301422119),\n",
       " ('king', 0.977584183216095)]"
      ]
     },
     "execution_count": 44,
     "metadata": {},
     "output_type": "execute_result"
    }
   ],
   "source": [
    "model2.wv.most_similar('alice')"
   ]
  },
  {
   "cell_type": "code",
   "execution_count": 45,
   "metadata": {},
   "outputs": [
    {
     "data": {
      "text/plain": [
       "[('last', 0.9962745308876038),\n",
       " ('voice', 0.9958359003067017),\n",
       " ('over', 0.995801568031311),\n",
       " ('round', 0.9953614473342896),\n",
       " ('began', 0.9950187802314758),\n",
       " ('looking', 0.9949074387550354),\n",
       " ('ran', 0.993661642074585),\n",
       " ('took', 0.9933592677116394),\n",
       " ('white', 0.9930416941642761),\n",
       " ('way', 0.9929876923561096)]"
      ]
     },
     "execution_count": 45,
     "metadata": {},
     "output_type": "execute_result"
    }
   ],
   "source": [
    "model2.wv.most_similar('rabbit')"
   ]
  },
  {
   "cell_type": "markdown",
   "metadata": {},
   "source": [
    "## Analogies\n",
    "The famous examples that show an incredible property of embeddings is the concept of analogies. We can add and subtract word embeddings and arrive at interesting results. "
   ]
  },
  {
   "cell_type": "code",
   "execution_count": 57,
   "metadata": {},
   "outputs": [
    {
     "data": {
      "text/plain": [
       "[('end', 0.9906415343284607),\n",
       " ('adventures', 0.9891754388809204),\n",
       " ('associated', 0.9867567420005798),\n",
       " ('[', 0.9857655167579651),\n",
       " ('ebook', 0.9852861762046814),\n",
       " (']', 0.9820349216461182),\n",
       " ('provide', 0.9810984134674072),\n",
       " ('curious', 0.9808325171470642),\n",
       " ('full', 0.9806168079376221),\n",
       " ('permission', 0.9805628657341003)]"
      ]
     },
     "execution_count": 57,
     "metadata": {},
     "output_type": "execute_result"
    }
   ],
   "source": [
    "# Using the Gensim library in python, we can add and subtract word vectors, and it would find the most similar words to the resulting vector. The image shows a list of the most similar words, each with its cosine similarity.\n",
    "model1.wv.most_similar(positive=['rabbit','wonderland'], negative=['alice'])"
   ]
  },
  {
   "cell_type": "code",
   "execution_count": null,
   "metadata": {},
   "outputs": [],
   "source": []
  }
 ],
 "metadata": {
  "interpreter": {
   "hash": "2e67d2d51cc48135395e9785d6b518c9af6482520666ad00cf530c129701d75b"
  },
  "kernelspec": {
   "display_name": "Python 3.10.1 64-bit ('venv': venv)",
   "language": "python",
   "name": "python3"
  },
  "language_info": {
   "codemirror_mode": {
    "name": "ipython",
    "version": 3
   },
   "file_extension": ".py",
   "mimetype": "text/x-python",
   "name": "python",
   "nbconvert_exporter": "python",
   "pygments_lexer": "ipython3",
   "version": "3.8.10"
  },
  "orig_nbformat": 4
 },
 "nbformat": 4,
 "nbformat_minor": 2
}
