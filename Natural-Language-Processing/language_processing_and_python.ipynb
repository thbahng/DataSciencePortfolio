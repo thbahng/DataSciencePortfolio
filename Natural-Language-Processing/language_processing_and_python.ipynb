{
 "cells": [
  {
   "cell_type": "markdown",
   "metadata": {},
   "source": [
    "# Language Processing and Python\n",
    "\n",
    "http://www.nltk.org/book/ch01.html"
   ]
  },
  {
   "cell_type": "markdown",
   "metadata": {},
   "source": [
    "\n",
    "1. What can we achieve by combining simple programming techniques with large quantities of text?\n",
    "2. How can we automatically extract key words and phrases that sum up the style and content of a text?\n",
    "3. What tools and techniques does the Python programming language provide for such work?\n",
    "4. What are some of the interesting challenges of natural language processing?\n"
   ]
  },
  {
   "cell_type": "markdown",
   "metadata": {},
   "source": [
    "## Getting Started with NLTK"
   ]
  },
  {
   "cell_type": "code",
   "execution_count": 1,
   "metadata": {},
   "outputs": [],
   "source": [
    "import nltk\n",
    "#nltk.download()"
   ]
  },
  {
   "cell_type": "markdown",
   "metadata": {},
   "source": [
    "Select the *book* collection to download data required for the book. It consists of about 30 compressed files requiring about 100MB disk space."
   ]
  },
  {
   "cell_type": "code",
   "execution_count": 2,
   "metadata": {},
   "outputs": [
    {
     "name": "stdout",
     "output_type": "stream",
     "text": [
      "*** Introductory Examples for the NLTK Book ***\n",
      "Loading text1, ..., text9 and sent1, ..., sent9\n",
      "Type the name of the text or sentence to view it.\n",
      "Type: 'texts()' or 'sents()' to list the materials.\n",
      "text1: Moby Dick by Herman Melville 1851\n",
      "text2: Sense and Sensibility by Jane Austen 1811\n",
      "text3: The Book of Genesis\n",
      "text4: Inaugural Address Corpus\n",
      "text5: Chat Corpus\n",
      "text6: Monty Python and the Holy Grail\n",
      "text7: Wall Street Journal\n",
      "text8: Personals Corpus\n",
      "text9: The Man Who Was Thursday by G . K . Chesterton 1908\n"
     ]
    }
   ],
   "source": [
    "from nltk.book import *"
   ]
  },
  {
   "cell_type": "markdown",
   "metadata": {},
   "source": [
    "There are nine texts used in book. Any time we want to find out about these texts, we just have to enter their names at the Python prompt:"
   ]
  },
  {
   "cell_type": "code",
   "execution_count": 3,
   "metadata": {},
   "outputs": [
    {
     "data": {
      "text/plain": [
       "<Text: Moby Dick by Herman Melville 1851>"
      ]
     },
     "execution_count": 3,
     "metadata": {},
     "output_type": "execute_result"
    }
   ],
   "source": [
    "text1"
   ]
  },
  {
   "cell_type": "code",
   "execution_count": 4,
   "metadata": {},
   "outputs": [
    {
     "data": {
      "text/plain": [
       "<Text: Sense and Sensibility by Jane Austen 1811>"
      ]
     },
     "execution_count": 4,
     "metadata": {},
     "output_type": "execute_result"
    }
   ],
   "source": [
    "text2"
   ]
  },
  {
   "cell_type": "markdown",
   "metadata": {},
   "source": [
    "## Searching Text"
   ]
  },
  {
   "cell_type": "markdown",
   "metadata": {},
   "source": [
    "## Concordance\n",
    "### A concordance view shows us every occurrence of a given word, together with some context.\n",
    "\n",
    "Concordance is a list of important words present in a text, usually with citations of the passages concerned.\n",
    "\n",
    "A concordance permits us to see words in context."
   ]
  },
  {
   "cell_type": "code",
   "execution_count": 5,
   "metadata": {},
   "outputs": [
    {
     "name": "stdout",
     "output_type": "stream",
     "text": [
      "Displaying 11 of 11 matches:\n",
      "ong the former , one was of a most monstrous size . ... This came towards us , \n",
      "ON OF THE PSALMS . \" Touching that monstrous bulk of the whale or ork we have r\n",
      "ll over with a heathenish array of monstrous clubs and spears . Some were thick\n",
      "d as you gazed , and wondered what monstrous cannibal and savage could ever hav\n",
      "that has survived the flood ; most monstrous and most mountainous ! That Himmal\n",
      "they might scout at Moby Dick as a monstrous fable , or still worse and more de\n",
      "th of Radney .'\" CHAPTER 55 Of the Monstrous Pictures of Whales . I shall ere l\n",
      "ing Scenes . In connexion with the monstrous pictures of whales , I am strongly\n",
      "ere to enter upon those still more monstrous stories of them which are to be fo\n",
      "ght have been rummaged out of this monstrous cabinet there is no telling . But \n",
      "of Whale - Bones ; for Whales of a monstrous size are oftentimes cast up dead u\n"
     ]
    }
   ],
   "source": [
    "text1.concordance(\"monstrous\") # return every occurrence of word \"monstrous\" in Moby Dick corpus with context"
   ]
  },
  {
   "cell_type": "code",
   "execution_count": 6,
   "metadata": {},
   "outputs": [
    {
     "name": "stdout",
     "output_type": "stream",
     "text": [
      "Displaying 25 of 79 matches:\n",
      ", however , and , as a mark of his affection for the three girls , he left them\n",
      "t . It was very well known that no affection was ever supposed to exist between\n",
      "deration of politeness or maternal affection on the side of the former , the tw\n",
      "d the suspicion -- the hope of his affection for me may warrant , without impru\n",
      "hich forbade the indulgence of his affection . She knew that his mother neither\n",
      "rd she gave one with still greater affection . Though her late conversation wit\n",
      " can never hope to feel or inspire affection again , and if her home be uncomfo\n",
      "m of the sense , elegance , mutual affection , and domestic comfort of the fami\n",
      ", and which recommended him to her affection beyond every thing else . His soci\n",
      "ween the parties might forward the affection of Mr . Willoughby , an equally st\n",
      " the most pointed assurance of her affection . Elinor could not be surprised at\n",
      "he natural consequence of a strong affection in a young and ardent mind . This \n",
      " opinion . But by an appeal to her affection for her mother , by representing t\n",
      " every alteration of a place which affection had established as perfect with hi\n",
      "e will always have one claim of my affection , which no other can possibly shar\n",
      "f the evening declared at once his affection and happiness . \" Shall we see you\n",
      "ause he took leave of us with less affection than his usual behaviour has shewn\n",
      "ness .\" \" I want no proof of their affection ,\" said Elinor ; \" but of their en\n",
      "onths , without telling her of his affection ;-- that they should part without \n",
      "ould be the natural result of your affection for her . She used to be all unres\n",
      "distinguished Elinor by no mark of affection . Marianne saw and listened with i\n",
      "th no inclination for expense , no affection for strangers , no profession , an\n",
      "till distinguished her by the same affection which once she had felt no doubt o\n",
      "al of her confidence in Edward ' s affection , to the remembrance of every mark\n",
      " was made ? Had he never owned his affection to yourself ?\" \" Oh , no ; but if \n"
     ]
    }
   ],
   "source": [
    "text2.concordance(\"affection\") # return every occurence of word \"affection\" in Sense and Sensibility corpus with context"
   ]
  },
  {
   "cell_type": "code",
   "execution_count": 7,
   "metadata": {},
   "outputs": [
    {
     "name": "stdout",
     "output_type": "stream",
     "text": [
      "Displaying 25 of 38 matches:\n",
      "ay when they were created . And Adam lived an hundred and thirty years , and be\n",
      "ughters : And all the days that Adam lived were nine hundred and thirty yea and\n",
      "nd thirty yea and he died . And Seth lived an hundred and five years , and bega\n",
      "ve years , and begat Enos : And Seth lived after he begat Enos eight hundred an\n",
      "welve years : and he died . And Enos lived ninety years , and begat Cainan : An\n",
      " years , and begat Cainan : And Enos lived after he begat Cainan eight hundred \n",
      "ive years : and he died . And Cainan lived seventy years and begat Mahalaleel :\n",
      "rs and begat Mahalaleel : And Cainan lived after he begat Mahalaleel eight hund\n",
      "years : and he died . And Mahalaleel lived sixty and five years , and begat Jar\n",
      "s , and begat Jared : And Mahalaleel lived after he begat Jared eight hundred a\n",
      "and five yea and he died . And Jared lived an hundred sixty and two years , and\n",
      "o years , and he begat Eno And Jared lived after he begat Enoch eight hundred y\n",
      " and two yea and he died . And Enoch lived sixty and five years , and begat Met\n",
      " ; for God took him . And Methuselah lived an hundred eighty and seven years , \n",
      " , and begat Lamech . And Methuselah lived after he begat Lamech seven hundred \n",
      "nd nine yea and he died . And Lamech lived an hundred eighty and two years , an\n",
      "ch the LORD hath cursed . And Lamech lived after he begat Noah five hundred nin\n",
      "naan shall be his servant . And Noah lived after the flood three hundred and fi\n",
      "xad two years after the flo And Shem lived after he begat Arphaxad five hundred\n",
      "at sons and daughters . And Arphaxad lived five and thirty years , and begat Sa\n",
      "ars , and begat Salah : And Arphaxad lived after he begat Salah four hundred an\n",
      "begat sons and daughters . And Salah lived thirty years , and begat Eber : And \n",
      "y years , and begat Eber : And Salah lived after he begat Eber four hundred and\n",
      " begat sons and daughters . And Eber lived four and thirty years , and begat Pe\n",
      "y years , and begat Peleg : And Eber lived after he begat Peleg four hundred an\n"
     ]
    }
   ],
   "source": [
    "text3.concordance(\"lived\") # return every occurence of word \"lived\" in Genesis corpus with context"
   ]
  },
  {
   "cell_type": "code",
   "execution_count": 8,
   "metadata": {},
   "outputs": [
    {
     "name": "stdout",
     "output_type": "stream",
     "text": [
      "Displaying 25 of 330 matches:\n",
      " to the character of an independent nation seems to have been distinguished by\n",
      "f Heaven can never be expected on a nation that disregards the eternal rules o\n",
      "first , the representatives of this nation , then consisting of little more th\n",
      ", situation , and relations of this nation and country than any which had ever\n",
      ", prosperity , and happiness of the nation I have acquired an habitual attachm\n",
      "an be no spectacle presented by any nation more pleasing , more noble , majest\n",
      "party for its own ends , not of the nation for the national good . If that sol\n",
      "tures and the people throughout the nation . On this subject it might become m\n",
      "if a personal esteem for the French nation , formed in a residence of seven ye\n",
      "f our fellow - citizens by whatever nation , and if success can not be obtaine\n",
      "y , continue His blessing upon this nation and its Government and give it all \n",
      "powers so justly inspire . A rising nation , spread over a wide and fruitful l\n",
      "ing now decided by the voice of the nation , announced according to the rules \n",
      "ars witness to the fact that a just nation is trusted on its word when recours\n",
      "e union of opinion which gives to a nation the blessing of harmony and the ben\n",
      "uil suffrage of a free and virtuous nation , would under any circumstances hav\n",
      "d spirit and united councils of the nation will be safeguards to its honor and\n",
      "iction that the war with a powerful nation , which forms so prominent a featur\n",
      "out breaking down the spirit of the nation , destroying all confidence in itse\n",
      "ed on the military resources of the nation . These resources are amply suffici\n",
      "the war to an honorable issue . Our nation is in number more than half that of\n",
      "ndividually have been happy and the nation prosperous . Under this Constitutio\n",
      "rights , and is able to protect the nation against injustice from foreign powe\n",
      " great agricultural interest of the nation prospers under its protection . Loc\n",
      "ak our Union , and demolish us as a nation . Our distance from Europe and the \n",
      "Displaying 8 of 8 matches:\n",
      "menaces , by fraud or violence , by terror , intrigue , or venality , the Gove\n",
      "ameless , unreasoning , unjustified terror which paralyzes needed efforts to c\n",
      "ublic seemed frozen by a fatalistic terror , we proved that this is not true .\n",
      " to alter that uncertain balance of terror that stays the hand of mankind ' s \n",
      "eans freeing all Americans from the terror of runaway living costs . All must \n",
      "still . They fuel the fanaticism of terror . And they torment the lives of mil\n",
      "d maintain a strong defense against terror and destruction . Our children will\n",
      "k to advance their aims by inducing terror and slaughtering innocents , we say\n",
      "Displaying 25 of 112 matches:\n",
      "eliance on the protection of Almighty God , I shall forthwith commence the duti\n",
      "humble , acknowledged dependence upon God and His overruling providence . We ha\n",
      "great office I must humbly invoke the God of our fathers for wisdom and firmnes\n",
      "d the same Bible and pray to the same God , and each invokes His aid against th\n",
      "hat any men should dare to ask a just God ' s assistance in wringing their brea\n",
      "offenses which , in the providence of God , must needs come , but which , havin\n",
      "butes which the believers in a living God always ascribe to Him ? Fondly do we \n",
      "war may speedily pass away . Yet , if God wills that it continue until all the \n",
      "r all , with firmness in the right as God gives us to see the right , let us st\n",
      "the prayers of the nation to Almighty God in behalf of this consummation . Fell\n",
      "r , they have \" followed the light as God gave them to see the light .\" They ar\n",
      "ess their fathers and their fathers ' God that the Union was preserved , that s\n",
      "the support and blessings of Almighty God . Fellow citizens , in the presence o\n",
      "ng the power and goodness of Almighty God , who presides over the destiny of na\n",
      "expect the favor and help of Almighty God -- that He will give to me wisdom , s\n",
      " suggestion to enterprise and labor . God has placed upon our head a diadem and\n",
      "urn than the pledge I now give before God and these witnesses of unreserved and\n",
      "han human life can escape the laws of God and nature . Manifestly nothing is mo\n",
      "and invoking the guidance of Almighty God . Our faith teaches that there is no \n",
      "re is no safer reliance than upon the God of our fathers , who has so singularl\n",
      "e the direction and favor of Almighty God . I should shrink from the duties thi\n",
      " devolve upon it , and in the fear of God will \" take occasion by the hand and \n",
      " citizens and the aid of the Almighty God in the discharge of my responsible du\n",
      "our heartstrings like some air out of God ' s own presence , where justice and \n",
      " forward - looking men , to my side . God helping me , I will not fail them , i\n"
     ]
    },
    {
     "data": {
      "text/plain": [
       "[None, None, None]"
      ]
     },
     "execution_count": 8,
     "metadata": {},
     "output_type": "execute_result"
    }
   ],
   "source": [
    "wordList = ['nation','terror','god'] # list of words to search for in concordance to the Inaugural Address Corpus\n",
    "[text4.concordance(word) for word in wordList]"
   ]
  },
  {
   "cell_type": "code",
   "execution_count": 9,
   "metadata": {},
   "outputs": [
    {
     "name": "stdout",
     "output_type": "stream",
     "text": [
      "Displaying 25 of 149 matches:\n",
      "now im left with this gay name :P PART hey e\n",
      "what did you but on e-bay i feel like im in the wrong room yeee haw U30 im con\n",
      "ike im in the wrong room yeee haw U30 im considering changing my nickname to \"\n",
      " the hell outta my freaking PM box .. Im with my fiance !!!!!!!!!!!!!!!! answe\n",
      "m impressed . PART hiya room lmao !!! im doin alright thanks omg Finger .. Dee\n",
      "th lol JOIN so read it . thanks U7 .. Im happy to have my fiance here !! forwa\n",
      "i didnt me phone you . . . sheesh now im that phone perv guy lets hope not U12\n",
      "to spain ? i need to go this summer . im a HUGE phone perv ok seriously who wa\n",
      "an ... . ACTION video tapes . hey U20 Im blind now . ACTION has left the room \n",
      "T u got that right , i dont do shit , im the supervisor Hello U165 . hey U165 \n",
      " him in the \" untouchable \" list U115 im good U6 lmao U7 how r u U128 hehe how\n",
      "can I ask where ya all are from ..... im here in kentucky as I said ... too wi\n",
      "ic but had to resize and stuff U37 no im an equal oppertunity hater LOL Hi , U\n",
      "he cover weeeeeeeee thanks U19 ! PART im out in cal now U3 looking at some new\n",
      " :) hi U58 lol wb U29 hi U29 U13 .... im down to time now PART Hello U24 , wel\n",
      ", I 'd never kick you outta my box hi im good thanks U16 yerself ?? PART inter\n",
      "ke wth . . who are you even ty U34 yw Im glad he 's back . awwww U16 i like ps\n",
      " ha U23 !!! wow ... are you the U39 ? Im talkin about all yer typin . . It 's \n",
      "... you ??? Apparently , I 'm not U41 im good U23 dear . How are you U23 ~wink\n",
      "~ U35 ... I love that 5 am phone call im good ... me and eric r back together \n",
      " , I am happy . You know i LuverZ YOU im the same busy busy oh ok then U1 nm l\n",
      "))) . ACTION stretches . ty U19 Ugh , Im so sore ! Repeatedly , with a big sti\n",
      "'m a size queen U41 Why U45 ? naw U23 im cheating on you with Jayse hes hawt t\n",
      "oeer is sum1 gonna ghet fuked up ? :) im always hungry yeah U45 .. i believe i\n",
      "without first asking permission . U35 im sorry U35 i tried to refrain me too U\n",
      "Displaying 21 of 21 matches:\n",
      "k up PART no i dont want daughters !! ur annoying . ACTION Now Playing - Cradl\n",
      "ooo U92 !!!!!! . ACTION U1370 watches ur nad with a stick . ca u U23 ewwww lol\n",
      "er lip . Meep . ACTION is resisting . ur female right lol U115 beeeeehave Reme\n",
      " geeshh ... two kids fighting ! whats ur major i probably sucks in summer too \n",
      "II Men scorpions rock ... lol what is ur job me too U11 hehe went to manhattan\n",
      "e no one i like to say if u have done ur time then that is that U42 Ok U37 , i\n",
      "hat a ride JOIN ty ty cheers babes .. ur the first to follow up with the pseud\n",
      " charger \\ty LoL yeah ;-) well i hope ur doing ok .. i 'm dojn fine babe . . g\n",
      " gonna rock up soojn and rob u of all ur ' candy ' :) as long as you are happy\n",
      "genital warts ? LoL moped U28 ?.. ohh ur a real man i had a moped once yup heh\n",
      "b-day is in 5 days =( PART LOL U35 no ur nawt yup your gay lmao U37 dang come \n",
      " people talk to me anymore oh because ur gay . PART PART . ACTION = U58 . Man \n",
      " om hi U73 heya U7 ! h shit i get all ur money now fawker ok girl lol JOIN ed \n",
      "hat tired huh U66 ? lol U75 ... bring ur pillow get comfy U70 yep , off to bed\n",
      "talked to hi sean . ACTION whispers : ur a douche . who PART . ACTION whispers\n",
      "ew england usa ? U7 .. it adds wax to ur clothes .. u think cottons breathe ?.\n",
      "ver knew what flavor to get specially ur towels lol U31 < whistles > U34 U39 I\n",
      "cks out U7 s pic JOIN PART U41 Hi U41 ur gettin pretty savvy there U39 ahhh ..\n",
      "om ? brb U30 a week .. heck a day and ur problem there , U30 ??? Hi U34 hartfo\n",
      " JOIN U57 Whats really good room JOIN ur telllin me hey any uk girls her ? JOI\n",
      "JOIN PART JOIN JOIN yea guitar rocker ur kool u lil guitar rocker PART whats e\n",
      "Displaying 25 of 822 matches:\n",
      "ast PART 24 / m boo . 26 / m and sexy lol U115 boo . JOIN PART he drew a girl w\n",
      "ope he didnt draw a penis PART ewwwww lol & a head between her legs JOIN JOIN s\n",
      "a bowl i got a blunt an a bong ...... lol JOIN well , glad it worked out my cha\n",
      "e \" PART Hi U121 in ny . ACTION would lol @ U121 . . . but appearently she does\n",
      "30 make sure u buy a nice ring for U6 lol U7 Hi U115 . ACTION isnt falling for \n",
      " didnt ya hear !!!! PART JOIN geeshhh lol U6 PART hes deaf ppl here dont get it\n",
      "es nobody here i wanna misbeahve with lol JOIN so read it . thanks U7 .. Im hap\n",
      "ies want to chat can i talk to him !! lol U121 !!! forwards too lol JOIN ALL PE\n",
      "k to him !! lol U121 !!! forwards too lol JOIN ALL PErvs ... redirect to U121 '\n",
      " loves ME the most i love myself JOIN lol U44 how do u know that what ? jerkett\n",
      "ng wrong ... i can see it in his eyes lol U20 = fiance Jerketts lmao wtf yah I \n",
      "cooler by the minute what 'd I miss ? lol noo there too much work ! why not ?? \n",
      " that mean I want you ? U6 hello room lol U83 and this .. has been the grammar \n",
      " the rule he 's in PM land now though lol ah ok i wont bug em then someone wann\n",
      "flight to hell :) lmao bbl maybe PART LOL lol U7 it was me , U83 hahah U83 ! 80\n",
      "ht to hell :) lmao bbl maybe PART LOL lol U7 it was me , U83 hahah U83 ! 808265\n",
      "082653953 K-Fed got his ass kicked .. Lol . ACTION laughs . i got a first class\n",
      " . i got a first class ticket to hell lol U7 JOIN any texas girls in here ? any\n",
      " . whats up U155 i was only kidding . lol he 's a douchebag . Poor U121 i 'm bo\n",
      " ??? sits with U30 Cum to my shower . lol U121 . ACTION U1370 watches his nads \n",
      " ur nad with a stick . ca u U23 ewwww lol *sniffs* ewwwwww PART U115 ! owww spl\n",
      "ACTION is resisting . ur female right lol U115 beeeeehave Remember the LAst tim\n",
      "pm's me . charge that is 1.99 / min . lol @ innocent hahah lol .... yeah LOLOLO\n",
      " is 1.99 / min . lol @ innocent hahah lol .... yeah LOLOLOLLL U12 thats not nic\n",
      "s . lmao no U115 Check my record . :) Lol lick em U7 U23 how old r u lol Way to\n"
     ]
    },
    {
     "data": {
      "text/plain": [
       "[None, None, None]"
      ]
     },
     "execution_count": 9,
     "metadata": {},
     "output_type": "execute_result"
    }
   ],
   "source": [
    "wordList = ['im','ur','lol'] # list of words to search for in concordance to the NPS Chat Corpus\n",
    "[text5.concordance(word) for word in wordList]"
   ]
  },
  {
   "cell_type": "markdown",
   "metadata": {},
   "source": [
    "## Similar\n",
    "### What other words appear in a similar range of contexts as previously specified keywords?"
   ]
  },
  {
   "cell_type": "code",
   "execution_count": 10,
   "metadata": {},
   "outputs": [
    {
     "name": "stdout",
     "output_type": "stream",
     "text": [
      "true contemptible christian abundant few part mean careful puzzled\n",
      "mystifying passing curious loving wise doleful gamesome singular\n",
      "delightfully perilous fearless\n"
     ]
    }
   ],
   "source": [
    "text1.similar(\"monstrous\")"
   ]
  },
  {
   "cell_type": "code",
   "execution_count": 11,
   "metadata": {},
   "outputs": [
    {
     "name": "stdout",
     "output_type": "stream",
     "text": [
      "very so exceedingly heartily a as good great extremely remarkably\n",
      "sweet vast amazingly\n"
     ]
    }
   ],
   "source": [
    "text2.similar(\"monstrous\")"
   ]
  },
  {
   "cell_type": "markdown",
   "metadata": {},
   "source": [
    "Observe that we get different results for different texts. Austen uses this word quite differently from Melville; for her, monstrous has positive connotations, and sometimes functions as an intensifier like the word very."
   ]
  },
  {
   "cell_type": "markdown",
   "metadata": {},
   "source": [
    "## Common Contexts\n",
    "### Common contexts allows us to examine just the contexts that are shared by two or more words."
   ]
  },
  {
   "cell_type": "code",
   "execution_count": 12,
   "metadata": {},
   "outputs": [
    {
     "name": "stdout",
     "output_type": "stream",
     "text": [
      "am_glad a_pretty a_lucky is_pretty be_glad\n"
     ]
    }
   ],
   "source": [
    "text2.common_contexts(['monstrous','very'])"
   ]
  },
  {
   "cell_type": "markdown",
   "metadata": {},
   "source": [
    "## Dispersion Plot\n",
    "### It is one thing to automatically detect that a particular word occurs in a text, and to display some words that appear in the same context. However, we can also determine the location of a word in the text: how many words from the beginning it appears. This positional information can be displayed using a dispersion plot. Each stripe represents an instance of a word, and each row represents the entire text.\n",
    "\n",
    "This can be used to investigate changes in language use over time."
   ]
  },
  {
   "cell_type": "code",
   "execution_count": 13,
   "metadata": {},
   "outputs": [
    {
     "data": {
      "image/png": "[encoded data removed]",
      "text/plain": [
       "<Figure size 432x288 with 1 Axes>"
      ]
     },
     "metadata": {
      "needs_background": "light"
     },
     "output_type": "display_data"
    }
   ],
   "source": [
    "# dispersion of keywords in Inaugural Address Corpus\n",
    "text4.dispersion_plot(['citizens','democracy','freedom','duties','America'])"
   ]
  },
  {
   "cell_type": "markdown",
   "metadata": {},
   "source": [
    "## Generate\n",
    "### Generate some random text in the style of a specific corpus of text."
   ]
  },
  {
   "cell_type": "code",
   "execution_count": 14,
   "metadata": {},
   "outputs": [
    {
     "name": "stderr",
     "output_type": "stream",
     "text": [
      "Building ngram index...\n"
     ]
    },
    {
     "name": "stdout",
     "output_type": "stream",
     "text": [
      "lamb for a burnt offering in the city . , duke Elah , duke Shobal ,\n",
      "and Akan . and looked upon my affliction . Because the LORD God\n",
      "amongst the trees of the mighty God of Abraham his father , that they\n",
      "found a plain man , and the wo The blessings of my hand to do justice\n",
      "and judgment ; that the LORD that spake unto me , and put him into the\n",
      "ark , and for your little ones . they heard that they have brought it\n",
      "unto Hagar , Sarai ' s brother will I slay\n"
     ]
    },
    {
     "data": {
      "text/plain": [
       "\"lamb for a burnt offering in the city . , duke Elah , duke Shobal ,\\nand Akan . and looked upon my affliction . Because the LORD God\\namongst the trees of the mighty God of Abraham his father , that they\\nfound a plain man , and the wo The blessings of my hand to do justice\\nand judgment ; that the LORD that spake unto me , and put him into the\\nark , and for your little ones . they heard that they have brought it\\nunto Hagar , Sarai ' s brother will I slay\""
      ]
     },
     "execution_count": 14,
     "metadata": {},
     "output_type": "execute_result"
    }
   ],
   "source": [
    "text3.generate()\n",
    "# this does not work https://github.com/nltk/nltk/issues/736"
   ]
  },
  {
   "cell_type": "markdown",
   "metadata": {},
   "source": [
    "## Counting Vocabulary"
   ]
  },
  {
   "cell_type": "markdown",
   "metadata": {},
   "source": [
    "## Total Count of Tokens"
   ]
  },
  {
   "cell_type": "code",
   "execution_count": 15,
   "metadata": {},
   "outputs": [
    {
     "data": {
      "text/plain": [
       "'The Book of Genesis'"
      ]
     },
     "execution_count": 15,
     "metadata": {},
     "output_type": "execute_result"
    }
   ],
   "source": [
    "text3.name"
   ]
  },
  {
   "cell_type": "code",
   "execution_count": 16,
   "metadata": {},
   "outputs": [
    {
     "data": {
      "text/plain": [
       "44764"
      ]
     },
     "execution_count": 16,
     "metadata": {},
     "output_type": "execute_result"
    }
   ],
   "source": [
    "len(text3) # total number of words and punctuation in text corpus. "
   ]
  },
  {
   "cell_type": "markdown",
   "metadata": {},
   "source": [
    "Gensis has 44764 words and punctuation symbols. These are called **tokens**. A token is the technical name for a sequence of characters that we want to treat as a group.\n",
    "\n",
    "## Unique Count of Tokens"
   ]
  },
  {
   "cell_type": "code",
   "execution_count": 17,
   "metadata": {},
   "outputs": [
    {
     "data": {
      "text/plain": [
       "2789"
      ]
     },
     "execution_count": 17,
     "metadata": {},
     "output_type": "execute_result"
    }
   ],
   "source": [
    "# distinct count of tokens in Genesis.\n",
    "len(set(text3))"
   ]
  },
  {
   "cell_type": "code",
   "execution_count": 18,
   "metadata": {},
   "outputs": [
    {
     "name": "stdout",
     "output_type": "stream",
     "text": [
      "['!', \"'\", '(', ')', ',', ',)', '.', '.)', ':', ';', ';)', '?', '?)', 'A', 'Abel', 'Abelmizraim', 'Abidah', 'Abide', 'Abimael', 'Abimelech', 'Abr', 'Abrah', 'Abraham', 'Abram', 'Accad', 'Achbor', 'Adah', 'Adam', 'Adbeel', 'Admah']\n"
     ]
    }
   ],
   "source": [
    "# distinct tokens in Genesis\n",
    "print(sorted(set(text3))[:30])"
   ]
  },
  {
   "cell_type": "markdown",
   "metadata": {},
   "source": [
    "In a set, all duplicates are collapsed together. In Genesis, there are 2789 unique tokens."
   ]
  },
  {
   "cell_type": "markdown",
   "metadata": {},
   "source": [
    "## Lexical Richness\n",
    "### Measure of lexical richness/diversity (number of distinct words to the total number of words)"
   ]
  },
  {
   "cell_type": "code",
   "execution_count": 19,
   "metadata": {},
   "outputs": [
    {
     "data": {
      "text/plain": [
       "0.06230453042623537"
      ]
     },
     "execution_count": 19,
     "metadata": {},
     "output_type": "execute_result"
    }
   ],
   "source": [
    "len(set(text3)) / len(text3) # lexical richness (diversity) of Genesis"
   ]
  },
  {
   "cell_type": "markdown",
   "metadata": {},
   "source": [
    "The number of distinct words in Genesis is just 6% of the total number of words."
   ]
  },
  {
   "cell_type": "code",
   "execution_count": 20,
   "metadata": {},
   "outputs": [],
   "source": [
    "# function to compute lexical diversity/richness in text\n",
    "def lexical_diversity(text):\n",
    "    return len(set(text)) / len(text)\n",
    "\n",
    "# function to compute percentage\n",
    "def percentage(count, total):\n",
    "    return round(100 * count / total, 1)"
   ]
  },
  {
   "cell_type": "code",
   "execution_count": 21,
   "metadata": {},
   "outputs": [
    {
     "data": {
      "text/plain": [
       "0.06230453042623537"
      ]
     },
     "execution_count": 21,
     "metadata": {},
     "output_type": "execute_result"
    }
   ],
   "source": [
    "lexical_diversity(text3) # lexical richness of Genesis"
   ]
  },
  {
   "cell_type": "code",
   "execution_count": 22,
   "metadata": {},
   "outputs": [
    {
     "data": {
      "text/plain": [
       "0.13477005109975562"
      ]
     },
     "execution_count": 22,
     "metadata": {},
     "output_type": "execute_result"
    }
   ],
   "source": [
    "lexical_diversity(text5) # lexical richness of Chat corpus"
   ]
  },
  {
   "cell_type": "code",
   "execution_count": 23,
   "metadata": {},
   "outputs": [
    {
     "data": {
      "text/plain": [
       "1.5"
      ]
     },
     "execution_count": 23,
     "metadata": {},
     "output_type": "execute_result"
    }
   ],
   "source": [
    "# percentage of Inaugural Address where the word is 'a'\n",
    "percentage(text4.count('a'), len(text4))"
   ]
  },
  {
   "cell_type": "markdown",
   "metadata": {},
   "source": [
    "## Frequency Count of Word"
   ]
  },
  {
   "cell_type": "code",
   "execution_count": 24,
   "metadata": {},
   "outputs": [
    {
     "data": {
      "text/plain": [
       "5"
      ]
     },
     "execution_count": 24,
     "metadata": {},
     "output_type": "execute_result"
    }
   ],
   "source": [
    "text3.count('smote') # frequency count of word 'smote' in Genesis corpus"
   ]
  },
  {
   "cell_type": "code",
   "execution_count": 25,
   "metadata": {},
   "outputs": [
    {
     "data": {
      "text/plain": [
       "704"
      ]
     },
     "execution_count": 25,
     "metadata": {},
     "output_type": "execute_result"
    }
   ],
   "source": [
    "text5.count('lol') # frequency count of word 'lol' in Chat corpus"
   ]
  },
  {
   "cell_type": "markdown",
   "metadata": {},
   "source": [
    "## Converting Your Text to NLTK Text"
   ]
  },
  {
   "cell_type": "code",
   "execution_count": 26,
   "metadata": {},
   "outputs": [],
   "source": [
    "import urllib\n",
    "from bs4 import BeautifulSoup\n",
    "\n",
    "# url to a news article\n",
    "url = \"http://news.bbc.co.uk/2/hi/health/2284783.stm\"\n",
    "# extract html\n",
    "html = urllib.request.urlopen(url).read().decode('utf8')\n",
    "# extract raw text\n",
    "raw = BeautifulSoup(html, 'html.parser').get_text()\n",
    "# tokenize text\n",
    "tokens = nltk.word_tokenize(raw)\n",
    "# convert to nltk.Text\n",
    "text = nltk.Text(tokens)"
   ]
  },
  {
   "cell_type": "code",
   "execution_count": 27,
   "metadata": {},
   "outputs": [
    {
     "data": {
      "text/plain": [
       "nltk.text.Text"
      ]
     },
     "execution_count": 27,
     "metadata": {},
     "output_type": "execute_result"
    }
   ],
   "source": [
    "type(text)"
   ]
  },
  {
   "cell_type": "code",
   "execution_count": 28,
   "metadata": {},
   "outputs": [
    {
     "name": "stdout",
     "output_type": "stream",
     "text": [
      "Displaying 7 of 7 matches:\n",
      "hey say too few people now carry the gene for blondes to last beyond the next \n",
      "blonde hair is caused by a recessive gene . In order for a child to have blond\n",
      " have blonde hair , it must have the gene on both sides of the family in the g\n",
      "ere is a disadvantage of having that gene or by chance . They do n't disappear\n",
      "des would disappear is if having the gene was a disadvantage and I do not thin\n",
      "er's Polio campaign launched in Iraq Gene defect explains high blood pressure \n",
      "er's Polio campaign launched in Iraq Gene defect explains high blood pressure \n"
     ]
    }
   ],
   "source": [
    "# now you can apply nltk.Text specific methods\n",
    "text.concordance('gene')"
   ]
  },
  {
   "cell_type": "markdown",
   "metadata": {},
   "source": [
    "## Texts as Lists of Words"
   ]
  },
  {
   "cell_type": "code",
   "execution_count": 29,
   "metadata": {},
   "outputs": [
    {
     "data": {
      "text/plain": [
       "['Call', 'me', 'Ishmael', '.']"
      ]
     },
     "execution_count": 29,
     "metadata": {},
     "output_type": "execute_result"
    }
   ],
   "source": [
    "sent1 = ['Call','me','Ishmael','.'] # defining a list of words\n",
    "sent1"
   ]
  },
  {
   "cell_type": "code",
   "execution_count": 30,
   "metadata": {},
   "outputs": [
    {
     "data": {
      "text/plain": [
       "4"
      ]
     },
     "execution_count": 30,
     "metadata": {},
     "output_type": "execute_result"
    }
   ],
   "source": [
    "len(sent1) # counting the words in list"
   ]
  },
  {
   "cell_type": "code",
   "execution_count": 31,
   "metadata": {},
   "outputs": [
    {
     "data": {
      "text/plain": [
       "1.0"
      ]
     },
     "execution_count": 31,
     "metadata": {},
     "output_type": "execute_result"
    }
   ],
   "source": [
    "lexical_diversity(sent1) # measuring lexical diversity in word list"
   ]
  },
  {
   "cell_type": "code",
   "execution_count": 32,
   "metadata": {},
   "outputs": [
    {
     "data": {
      "text/plain": [
       "['.', 'God', 'In', 'and', 'beginning', 'created', 'earth', 'heaven', 'the']"
      ]
     },
     "execution_count": 32,
     "metadata": {},
     "output_type": "execute_result"
    }
   ],
   "source": [
    "sent3 = ['In', 'the', 'beginning', 'God', 'created', 'the', 'heaven', 'and', 'the', 'earth', '.'] # another word list\n",
    "sorted(set(sent3)) # unique tokens in word list"
   ]
  },
  {
   "cell_type": "code",
   "execution_count": 33,
   "metadata": {},
   "outputs": [
    {
     "data": {
      "text/plain": [
       "['Monty', 'Python', 'and', 'the', 'Holy', 'Grail']"
      ]
     },
     "execution_count": 33,
     "metadata": {},
     "output_type": "execute_result"
    }
   ],
   "source": [
    "# concatenating two word lists into one\n",
    "['Monty','Python'] + ['and','the','Holy','Grail']"
   ]
  },
  {
   "cell_type": "markdown",
   "metadata": {},
   "source": [
    "## Extracting words by index"
   ]
  },
  {
   "cell_type": "code",
   "execution_count": 34,
   "metadata": {},
   "outputs": [
    {
     "data": {
      "text/plain": [
       "'awaken'"
      ]
     },
     "execution_count": 34,
     "metadata": {},
     "output_type": "execute_result"
    }
   ],
   "source": [
    "text4[173]"
   ]
  },
  {
   "cell_type": "markdown",
   "metadata": {},
   "source": [
    "## Index of first occurrence of word in text"
   ]
  },
  {
   "cell_type": "code",
   "execution_count": 35,
   "metadata": {},
   "outputs": [
    {
     "data": {
      "text/plain": [
       "173"
      ]
     },
     "execution_count": 35,
     "metadata": {},
     "output_type": "execute_result"
    }
   ],
   "source": [
    "text4.index('awaken')"
   ]
  },
  {
   "cell_type": "markdown",
   "metadata": {},
   "source": [
    "## Slicing Subsets of Text Corpus"
   ]
  },
  {
   "cell_type": "code",
   "execution_count": 36,
   "metadata": {},
   "outputs": [
    {
     "name": "stdout",
     "output_type": "stream",
     "text": [
      "['U86', 'thats', 'why', 'something', 'like', 'gamefly', 'is', 'so', 'good', 'because', 'you', 'can', 'actually', 'play', 'a', 'full', 'game', 'without', 'buying', 'it']\n"
     ]
    }
   ],
   "source": [
    "print(text5[16715:16735])"
   ]
  },
  {
   "cell_type": "code",
   "execution_count": 37,
   "metadata": {},
   "outputs": [
    {
     "name": "stdout",
     "output_type": "stream",
     "text": [
      "['among', 'the', 'merits', 'and', 'the', 'happiness', 'of', 'Elinor', 'and', 'Marianne', ',', 'let', 'it', 'not', 'be', 'ranked', 'as', 'the', 'least', 'considerable', ',', 'that', 'though', 'sisters', ',', 'and', 'living', 'almost', 'within', 'sight', 'of', 'each', 'other', ',', 'they', 'could', 'live', 'without', 'disagreement', 'between', 'themselves', ',', 'or', 'producing', 'coolness', 'between', 'their', 'husbands', '.', 'THE', 'END']\n"
     ]
    }
   ],
   "source": [
    "print(text2[141525:])"
   ]
  },
  {
   "cell_type": "markdown",
   "metadata": {},
   "source": [
    "## Assigning unique tokens to a variable"
   ]
  },
  {
   "cell_type": "code",
   "execution_count": 38,
   "metadata": {},
   "outputs": [
    {
     "data": {
      "text/plain": [
       "19317"
      ]
     },
     "execution_count": 38,
     "metadata": {},
     "output_type": "execute_result"
    }
   ],
   "source": [
    "vocab = set(text1)\n",
    "vocab_size = len(vocab)\n",
    "vocab_size"
   ]
  },
  {
   "cell_type": "markdown",
   "metadata": {},
   "source": [
    "## String Manipulation"
   ]
  },
  {
   "cell_type": "code",
   "execution_count": 39,
   "metadata": {},
   "outputs": [
    {
     "name": "stdout",
     "output_type": "stream",
     "text": [
      "M\n",
      "Mont\n"
     ]
    }
   ],
   "source": [
    "name = 'Monty' # a string variable\n",
    "print(name[0]) # first character in string\n",
    "print(name[:4]) # first 4 characters in string"
   ]
  },
  {
   "cell_type": "code",
   "execution_count": 40,
   "metadata": {},
   "outputs": [
    {
     "data": {
      "text/plain": [
       "'MontyMonty'"
      ]
     },
     "execution_count": 40,
     "metadata": {},
     "output_type": "execute_result"
    }
   ],
   "source": [
    "# repeat string twice\n",
    "name * 2"
   ]
  },
  {
   "cell_type": "code",
   "execution_count": 41,
   "metadata": {},
   "outputs": [
    {
     "data": {
      "text/plain": [
       "'Monty!'"
      ]
     },
     "execution_count": 41,
     "metadata": {},
     "output_type": "execute_result"
    }
   ],
   "source": [
    "# concatenate strings\n",
    "name + '!'"
   ]
  },
  {
   "cell_type": "code",
   "execution_count": 42,
   "metadata": {},
   "outputs": [
    {
     "name": "stdout",
     "output_type": "stream",
     "text": [
      "Monty Python\n",
      "Monty-Python\n",
      "Monty,Python\n"
     ]
    }
   ],
   "source": [
    "# join two strings by a character\n",
    "print(' '.join(['Monty','Python']))\n",
    "print('-'.join(['Monty','Python']))\n",
    "print(','.join(['Monty','Python']))"
   ]
  },
  {
   "cell_type": "code",
   "execution_count": 43,
   "metadata": {},
   "outputs": [
    {
     "name": "stdout",
     "output_type": "stream",
     "text": [
      "['Monty', 'Python']\n",
      "['Monty', 'Python']\n",
      "['Monty', 'Python']\n"
     ]
    }
   ],
   "source": [
    "# split a string into a list of strings by a character\n",
    "print('Monty Python'.split())\n",
    "print('Monty,Python'.split(','))\n",
    "print('Monty-Python'.split('-'))"
   ]
  }
 ],
 "metadata": {
  "file_extension": ".py",
  "kernelspec": {
   "display_name": "Python 3",
   "language": "python",
   "name": "python3"
  },
  "language_info": {
   "codemirror_mode": {
    "name": "ipython",
    "version": 3
   },
   "file_extension": ".py",
   "mimetype": "text/x-python",
   "name": "python",
   "nbconvert_exporter": "python",
   "pygments_lexer": "ipython3",
   "version": "3.10.1"
  },
  "mimetype": "text/x-python",
  "name": "python",
  "npconvert_exporter": "python",
  "pygments_lexer": "ipython3",
  "version": 3
 },
 "nbformat": 4,
 "nbformat_minor": 2
}
