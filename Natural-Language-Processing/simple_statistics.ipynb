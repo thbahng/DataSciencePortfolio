{
 "cells": [
  {
   "cell_type": "markdown",
   "metadata": {},
   "source": [
    "# Simple Statistics \n",
    "[http://www.nltk.org/book/ch01.html](http://www.nltk.org/book/ch01.html)"
   ]
  },
  {
   "cell_type": "code",
   "execution_count": 9,
   "metadata": {},
   "outputs": [],
   "source": [
    "import nltk\n",
    "from nltk.book import *\n",
    "import matplotlib.pyplot as plt"
   ]
  },
  {
   "cell_type": "markdown",
   "metadata": {},
   "source": [
    "## Tokenized Text"
   ]
  },
  {
   "cell_type": "code",
   "execution_count": 2,
   "metadata": {},
   "outputs": [
    {
     "name": "stdout",
     "output_type": "stream",
     "text": [
      "['After', 'all', 'is', 'said', 'and', 'done', 'more', 'is', 'said', 'than', 'done']\n"
     ]
    }
   ],
   "source": [
    "# a list of words that make up a sentence\n",
    "saying = [\n",
    "    'After','all','is','said','and',\n",
    "    'done','more','is','said','than','done'\n",
    "]\n",
    "print(saying)"
   ]
  },
  {
   "cell_type": "markdown",
   "metadata": {},
   "source": [
    "## A Vocabulary of Tokens"
   ]
  },
  {
   "cell_type": "code",
   "execution_count": 3,
   "metadata": {},
   "outputs": [
    {
     "name": "stdout",
     "output_type": "stream",
     "text": [
      "['After', 'all', 'and', 'done', 'is', 'more', 'said', 'than']\n"
     ]
    }
   ],
   "source": [
    "# a set of tokens from saying (unique words)\n",
    "tokens = set(saying)\n",
    "# sort tokens in alphabetical order. This is a vocabulary.\n",
    "tokens = sorted(tokens)\n",
    "print(tokens)"
   ]
  },
  {
   "cell_type": "code",
   "execution_count": 4,
   "metadata": {},
   "outputs": [
    {
     "data": {
      "text/plain": [
       "['said', 'than']"
      ]
     },
     "execution_count": 4,
     "metadata": {},
     "output_type": "execute_result"
    }
   ],
   "source": [
    "tokens[-2:]"
   ]
  },
  {
   "cell_type": "markdown",
   "metadata": {},
   "source": [
    "## Frequency Distributions\n",
    "\n",
    "Automatically identify words of a text that are most informative about the topic and genre."
   ]
  },
  {
   "cell_type": "code",
   "execution_count": 5,
   "metadata": {},
   "outputs": [
    {
     "data": {
      "text/plain": [
       "[(',', 18713),\n",
       " ('the', 13721),\n",
       " ('.', 6862),\n",
       " ('of', 6536),\n",
       " ('and', 6024),\n",
       " ('a', 4569),\n",
       " ('to', 4542),\n",
       " (';', 4072),\n",
       " ('in', 3916),\n",
       " ('that', 2982)]"
      ]
     },
     "execution_count": 5,
     "metadata": {},
     "output_type": "execute_result"
    }
   ],
   "source": [
    "# frequency distribution of the words in Moby Dick\n",
    "fdist1 = FreqDist(text1)\n",
    "# top 10 most common words in Moby Dick\n",
    "fdist1.most_common(10)"
   ]
  },
  {
   "cell_type": "markdown",
   "metadata": {},
   "source": [
    "## Inspect words in Moby Dick"
   ]
  },
  {
   "cell_type": "code",
   "execution_count": 6,
   "metadata": {},
   "outputs": [
    {
     "name": "stdout",
     "output_type": "stream",
     "text": [
      "<FreqDist with 19317 samples and 260819 outcomes>\n"
     ]
    }
   ],
   "source": [
    "# inspect the total number of words that have been counted up. In the case of Moby Dick: 19317 unique words 260,819 total words\n",
    "print(fdist1)"
   ]
  },
  {
   "cell_type": "markdown",
   "metadata": {},
   "source": [
    "## Frequency of a single word - whale"
   ]
  },
  {
   "cell_type": "code",
   "execution_count": 7,
   "metadata": {},
   "outputs": [
    {
     "data": {
      "text/plain": [
       "906"
      ]
     },
     "execution_count": 7,
     "metadata": {},
     "output_type": "execute_result"
    }
   ],
   "source": [
    "# getting the frequency of a specific meaningful word in Moby Dick\n",
    "fdist1['whale']"
   ]
  },
  {
   "cell_type": "markdown",
   "metadata": {},
   "source": [
    "## Cumulative Frequency Plot of top 50 words - Moby Dick"
   ]
  },
  {
   "cell_type": "code",
   "execution_count": 15,
   "metadata": {},
   "outputs": [
    {
     "data": {
      "image/png": "[encoded data removed]",
      "text/plain": [
       "<Figure size 720x432 with 1 Axes>"
      ]
     },
     "metadata": {
      "needs_background": "light"
     },
     "output_type": "display_data"
    },
    {
     "data": {
      "text/plain": [
       "<AxesSubplot:xlabel='Samples', ylabel='Cumulative Counts'>"
      ]
     },
     "execution_count": 15,
     "metadata": {},
     "output_type": "execute_result"
    }
   ],
   "source": [
    "# Cumulative distribution plot for top 50 words\n",
    "fig = plt.gcf()\n",
    "fig.set_size_inches(10,6)\n",
    "fdist1.plot(50, cumulative = True)"
   ]
  },
  {
   "cell_type": "markdown",
   "metadata": {},
   "source": [
    "## Top 10 most common words in Sense and Sensibility"
   ]
  },
  {
   "cell_type": "code",
   "execution_count": 16,
   "metadata": {},
   "outputs": [
    {
     "data": {
      "text/plain": [
       "[(',', 9397),\n",
       " ('to', 4063),\n",
       " ('.', 3975),\n",
       " ('the', 3861),\n",
       " ('of', 3565),\n",
       " ('and', 3350),\n",
       " ('her', 2436),\n",
       " ('a', 2043),\n",
       " ('I', 2004),\n",
       " ('in', 1904)]"
      ]
     },
     "execution_count": 16,
     "metadata": {},
     "output_type": "execute_result"
    }
   ],
   "source": [
    "# frequency distribution of words from Sense and Sensibility\n",
    "fdist2 = FreqDist(text2)\n",
    "# top 10 most common words from Sense\n",
    "fdist2.most_common(10)"
   ]
  },
  {
   "cell_type": "markdown",
   "metadata": {},
   "source": [
    "## Inspect words in Sense and Sensibility"
   ]
  },
  {
   "cell_type": "code",
   "execution_count": 17,
   "metadata": {},
   "outputs": [
    {
     "name": "stdout",
     "output_type": "stream",
     "text": [
      "<FreqDist with 6833 samples and 141576 outcomes>\n"
     ]
    }
   ],
   "source": [
    "# inspect the total number of words that have been counted up. In the case of Sense and Sensibility: 6833 unique words 141576 total words\n",
    "print(fdist2)"
   ]
  },
  {
   "cell_type": "code",
   "execution_count": 18,
   "metadata": {},
   "outputs": [
    {
     "data": {
      "text/plain": [
       "2"
      ]
     },
     "execution_count": 18,
     "metadata": {},
     "output_type": "execute_result"
    }
   ],
   "source": [
    "# getting frequency for a specific word in Sense\n",
    "fdist2['Bath']"
   ]
  },
  {
   "cell_type": "markdown",
   "metadata": {},
   "source": [
    "## Cumulative Frequency plot for top 50 words - Sense"
   ]
  },
  {
   "cell_type": "code",
   "execution_count": 21,
   "metadata": {},
   "outputs": [
    {
     "data": {
      "image/png": "[encoded data removed]",
      "text/plain": [
       "<Figure size 720x432 with 1 Axes>"
      ]
     },
     "metadata": {
      "needs_background": "light"
     },
     "output_type": "display_data"
    },
    {
     "data": {
      "text/plain": [
       "<AxesSubplot:xlabel='Samples', ylabel='Cumulative Counts'>"
      ]
     },
     "execution_count": 21,
     "metadata": {},
     "output_type": "execute_result"
    }
   ],
   "source": [
    "# Cumulative distribution plot for top 50 words\n",
    "fig = plt.gcf()\n",
    "fig.set_size_inches(10,6)\n",
    "fdist2.plot(50, cumulative = True)"
   ]
  },
  {
   "cell_type": "markdown",
   "metadata": {},
   "source": [
    "## List of least common words are called Hapaxes"
   ]
  },
  {
   "cell_type": "code",
   "execution_count": 22,
   "metadata": {},
   "outputs": [
    {
     "name": "stdout",
     "output_type": "stream",
     "text": [
      "['Herman', 'Melville', ']', 'ETYMOLOGY', 'Late', 'Consumptive', 'School', 'threadbare', 'lexicons', 'mockingly', 'flags', 'mortality', 'signification', 'HACKLUYT', 'Sw', 'HVAL', 'roundness', 'Dut', 'Ger', 'WALLEN', 'WALW', 'IAN', 'RICHARDSON', 'KETOS', 'GREEK', 'CETUS', 'LATIN', 'WHOEL', 'ANGLO', 'SAXON', 'WAL', 'HWAL', 'SWEDISH', 'ICELANDIC', 'BALEINE', 'BALLENA', 'FEGEE', 'ERROMANGOAN', 'Librarian', 'painstaking', 'burrower', 'grub', 'Vaticans', 'stalls', 'higgledy', 'piggledy', 'gospel', 'promiscuously', 'commentator', 'belongest']\n",
      "There are 9002 hapaxes in Moby Dick\n"
     ]
    }
   ],
   "source": [
    "# hapaxes for Moby Dick\n",
    "print(fdist1.hapaxes()[:50])\n",
    "print(\"There are {:d} hapaxes in Moby Dick\".format(len(fdist1.hapaxes())))"
   ]
  },
  {
   "cell_type": "code",
   "execution_count": 23,
   "metadata": {},
   "outputs": [
    {
     "name": "stdout",
     "output_type": "stream",
     "text": [
      "['Sense', 'Sensibility', 'Jane', 'Austen', '1811', ']', 'generations', 'inheritor', 'bequeath', 'Gentleman', 'relish', 'devolved', 'inheriting', 'moiety', 'bequest', 'sale', 'articulation', 'economically', 'tardy', 'survived', 'including', 'legacies', 'urgency', 'prudently', 'caricature', 'warmed', 'Three', 'successively', 'funeral', 'dispute', 'decease', 'indelicacy', 'keen', 'whomsoever', 'immoveable', 'acutely', 'qualified', 'counsellor', 'joys', 'afflicted', 'strive', 'humored', 'imbibed', 'romance', 'thirteen', '2', 'installed', 'degraded', 'seasons', 'alloy']\n",
      "There are 2694 hapaxes in Sense and Sensibility\n"
     ]
    }
   ],
   "source": [
    "# hapaxes for Sense and Sensibility\n",
    "print(fdist2.hapaxes()[:50])\n",
    "print(\"There are {:d} hapaxes in Sense and Sensibility\".format(len(fdist2.hapaxes())))"
   ]
  },
  {
   "cell_type": "markdown",
   "metadata": {},
   "source": [
    "## Selection of words based on length and frequency\n",
    "\n",
    "We'll measure word length and respective frequency to get a subset of the vocabulary"
   ]
  },
  {
   "cell_type": "code",
   "execution_count": 24,
   "metadata": {},
   "outputs": [
    {
     "name": "stdout",
     "output_type": "stream",
     "text": [
      "['American', 'Atlantic', 'Christian', 'Fedallah', 'Greenland', 'Guernsey', 'Leviathan', 'Meantime', 'Meanwhile', 'NANTUCKET', 'Nantucket', 'Nantucketer', 'Nevertheless', 'Queequeg', 'Starbuck', 'Steelkilt', 'Tashtego', 'Therefore', 'according', 'actually', 'additional', 'advanced', 'advancing', 'afterwards', 'alongside', 'altogether', 'ambergris', 'answered', 'anything', 'anywhere', 'appearance', 'attached', 'barbaric', 'beginning', 'beholding', 'belonged', 'binnacle', 'blackness', 'blacksmith', 'breakfast', 'breaking', 'bulwarks', 'bursting', 'business', 'cannibal', 'captains', 'captured', 'carpenter', 'carrying', 'centuries', 'certainly', 'character', 'children', 'circumstance', 'circumstances', 'civilized', 'commanded', 'commander', 'commotion', 'complete', 'completely', 'concerning', 'concluded', 'concluding', 'connected', 'conscience', 'consider', 'considerable', 'considered', 'considering', 'continual', 'continually', 'continued', 'contrary', 'contrast', 'convenient', 'countenance', 'creature', 'creatures', 'critical', 'crossing', 'cruising', 'customary', 'dangerous', 'darkness', 'declared', 'demanded', 'departed', 'descried', 'desperate', 'difference', 'different', 'direction', 'directly', 'disappeared', 'distance', 'distinct', 'doubloon', 'doubtless', 'downwards', 'dropping', 'elephant', 'elevated', 'elsewhere', 'employed', 'enchanted', 'encounter', 'encountered', 'enormous', 'entirely', 'especially', 'everything', 'exceeding', 'exceedingly', 'excellent', 'exclaimed', 'experienced', 'external', 'fashioned', 'fastened', 'features', 'fishermen', 'floating', 'followed', 'following', 'forecastle', 'forehead', 'frequently', 'furnished', 'generally', 'gentleman', 'gentlemen', 'gigantic', 'glancing', 'greatest', 'happened', 'harpooneer', 'harpooneers', 'harpoons', 'helmsman', 'hitherto', 'hoisting', 'horizontal', 'horrible', 'immediately', 'immortal', 'important', 'impossible', 'included', 'indifferent', 'indirectly', 'indispensable', 'individual', 'infallibly', 'inserted', 'instance', 'instances', 'instantly', 'interest', 'interior', 'interval', 'intervals', 'invariably', 'invested', 'invisible', 'involuntarily', 'knowledge', 'landlord', 'latitude', 'latitudes', 'lengthwise', 'leviathan', 'lightning', 'likewise', 'lowering', 'magnitude', 'mariners', 'marvellous', 'meanwhile', 'mentioned', 'merchant', 'midnight', 'monomaniac', 'mountain', 'murmured', 'muttered', 'nameless', 'naturalists', 'naturally', 'nevertheless', 'numerous', 'observed', 'occasionally', 'officers', 'opposite', 'ordinary', 'original', 'originally', 'otherwise', 'ourselves', 'overboard', 'particular', 'peculiar', 'peculiarities', 'perceived', 'perilous', 'perpendicular', 'pictures', 'pleasant', 'pointing', 'ponderous', 'position', 'possible', 'possibly', 'practical', 'precious', 'precisely', 'prepared', 'presented', 'presently', 'previous', 'previously', 'probably', 'prodigious', 'profound', 'prolonged', 'quantity', 'question', 'reaching', 'received', 'receiving', 'reference', 'regarded', 'regularly', 'remained', 'remarkable', 'remember', 'repeated', 'resolved', 'returned', 'revealed', 'scientific', 'separate', 'shipmate', 'shipmates', 'shoulder', 'shoulders', 'sideways', 'significant', 'silently', 'simultaneously', 'skeleton', 'sleeping', 'slightest', 'slightly', 'solitary', 'something', 'sometimes', 'somewhat', 'somewhere', 'sounding', 'speaking', 'spermaceti', 'spiritual', 'spouting', 'standing', 'starboard', 'steadily', 'straight', 'straightway', 'stranded', 'strangely', 'stranger', 'strength', 'stricken', 'striking', 'strongly', 'subsequent', 'substance', 'suddenly', 'superior', 'supposed', 'suspended', 'swallowed', 'sweeping', 'swimming', 'swinging', 'tapering', 'temporary', 'terrible', 'terrific', 'themselves', 'therefore', 'thinking', 'thoughts', 'thousand', 'thousands', 'together', 'tomahawk', 'tormented', 'touching', 'troubled', 'trowsers', 'unaccountable', 'uncommon', 'understand', 'unearthly', 'valuable', 'vengeance', 'vicinity', 'vocation', 'watching', 'whaleman', 'whalemen', 'whatever', 'whenever', 'whispered', 'whiteness', 'windlass', 'windward', 'wonderful', 'wondrous', 'wrinkled', 'wrinkles', 'yourself']\n"
     ]
    }
   ],
   "source": [
    "# only words whose length is greater than 7 and their frequency is greater than 10\n",
    "print(sorted(w for w in set(fdist1) if len(w) > 7 and fdist1[w] > 10))"
   ]
  },
  {
   "cell_type": "markdown",
   "metadata": {},
   "source": [
    "## Collocations and Bigrams\n",
    "\n",
    "* A collocation is a sequence of words that occur together unusually often. \n",
    "* Thus 'red wine' is a collocation, whereas 'the wine' is not. \n",
    "* A characteristic of collocations is that they are resistant to substitution with words that have similar senses; for example, maroon wine sounds definitely odd.\n",
    "* collocations are essentially just frequent bigrams, except that we want to pay more attention to the cases that involve rare words.\n",
    "* we want to find bigrams that occur more often than we would expect based on the frequency of the individual words."
   ]
  },
  {
   "cell_type": "markdown",
   "metadata": {},
   "source": [
    "## Getting Bigrams from text"
   ]
  },
  {
   "cell_type": "code",
   "execution_count": 25,
   "metadata": {},
   "outputs": [
    {
     "data": {
      "text/plain": [
       "[('more', 'is'), ('is', 'said'), ('said', 'than'), ('than', 'done')]"
      ]
     },
     "execution_count": 25,
     "metadata": {},
     "output_type": "execute_result"
    }
   ],
   "source": [
    "list(bigrams(['more','is','said','than','done']))"
   ]
  },
  {
   "cell_type": "markdown",
   "metadata": {},
   "source": [
    "## Getting Collocations from text"
   ]
  },
  {
   "cell_type": "code",
   "execution_count": 26,
   "metadata": {},
   "outputs": [
    {
     "name": "stdout",
     "output_type": "stream",
     "text": [
      "Sperm Whale; Moby Dick; White Whale; old man; Captain Ahab; sperm\n",
      "whale; Right Whale; Captain Peleg; New Bedford; Cape Horn; cried Ahab;\n",
      "years ago; lower jaw; never mind; Father Mapple; cried Stubb; chief\n",
      "mate; white whale; ivory leg; one hand\n"
     ]
    }
   ],
   "source": [
    "# In Moby Dick, bigrams that more frequent than expected given the individual word frequencies\n",
    "text1.collocations()"
   ]
  },
  {
   "cell_type": "code",
   "execution_count": 32,
   "metadata": {},
   "outputs": [
    {
     "name": "stdout",
     "output_type": "stream",
     "text": [
      "Colonel Brandon; Sir John; Lady Middleton; Miss Dashwood; every thing;\n",
      "thousand pounds; dare say; Miss Steeles; said Elinor; Miss Steele;\n",
      "every body; John Dashwood; great deal; Harley Street; Berkeley Street;\n",
      "Miss Dashwoods; young man; Combe Magna; every day; next morning\n"
     ]
    }
   ],
   "source": [
    "# In Sense and Sensibility, bigrams that more frequent than expected given the individual word frequencies\n",
    "text2.collocations()"
   ]
  },
  {
   "cell_type": "markdown",
   "metadata": {},
   "source": [
    "## Frequency distribution of Word Lengths from Text"
   ]
  },
  {
   "cell_type": "code",
   "execution_count": 36,
   "metadata": {},
   "outputs": [
    {
     "name": "stdout",
     "output_type": "stream",
     "text": [
      "<FreqDist with 19 samples and 260819 outcomes>\n"
     ]
    },
    {
     "data": {
      "image/png": "[encoded data removed]",
      "text/plain": [
       "<Figure size 720x432 with 1 Axes>"
      ]
     },
     "metadata": {
      "needs_background": "light"
     },
     "output_type": "display_data"
    },
    {
     "data": {
      "text/plain": [
       "<AxesSubplot:xlabel='Samples', ylabel='Counts'>"
      ]
     },
     "execution_count": 36,
     "metadata": {},
     "output_type": "execute_result"
    }
   ],
   "source": [
    "# frequency distribution of word lengths\n",
    "fdist = FreqDist(len(w) for w in text1)\n",
    "print(fdist)\n",
    "# plot word lengths in descending order\n",
    "fig = plt.gcf()\n",
    "fig.set_size_inches(10,6)\n",
    "fdist.plot()"
   ]
  },
  {
   "cell_type": "markdown",
   "metadata": {},
   "source": [
    "Word lengths in this text range from 1 to 20 characters. Most of the words in this text are less than 10 characters long."
   ]
  },
  {
   "cell_type": "code",
   "execution_count": 35,
   "metadata": {},
   "outputs": [
    {
     "data": {
      "text/plain": [
       "[(3, 50223),\n",
       " (1, 47933),\n",
       " (4, 42345),\n",
       " (2, 38513),\n",
       " (5, 26597),\n",
       " (6, 17111),\n",
       " (7, 14399),\n",
       " (8, 9966),\n",
       " (9, 6428),\n",
       " (10, 3528),\n",
       " (11, 1873),\n",
       " (12, 1053),\n",
       " (13, 567),\n",
       " (14, 177),\n",
       " (15, 70),\n",
       " (16, 22),\n",
       " (17, 12),\n",
       " (18, 1),\n",
       " (20, 1)]"
      ]
     },
     "execution_count": 35,
     "metadata": {},
     "output_type": "execute_result"
    }
   ],
   "source": [
    "# word length frequencies in descending order\n",
    "fdist.most_common()"
   ]
  },
  {
   "cell_type": "code",
   "execution_count": 37,
   "metadata": {},
   "outputs": [
    {
     "data": {
      "text/plain": [
       "3"
      ]
     },
     "execution_count": 37,
     "metadata": {},
     "output_type": "execute_result"
    }
   ],
   "source": [
    "# this is the most common word length\n",
    "fdist.max()\n",
    "# word length of 3 is most common in this text"
   ]
  },
  {
   "cell_type": "code",
   "execution_count": 38,
   "metadata": {},
   "outputs": [
    {
     "name": "stdout",
     "output_type": "stream",
     "text": [
      "Word length of 3 is the most common with a count of 50223 and proportion of 0.19\n"
     ]
    }
   ],
   "source": [
    "# the frequency of 3-letter words\n",
    "print(\"Word length of {:d} is the most common with a count of {:d} and proportion of {:.2f}\".format(fdist.max(), fdist[fdist.max()], fdist.freq(fdist.max())))"
   ]
  },
  {
   "cell_type": "markdown",
   "metadata": {},
   "source": [
    "### Further analysis of word length might help us understand differences between authors, genres, or languages."
   ]
  },
  {
   "cell_type": "code",
   "execution_count": 39,
   "metadata": {},
   "outputs": [
    {
     "name": "stdout",
     "output_type": "stream",
     "text": [
      "    3     1     4     2     5     6     7     8     9    10    11    12    13    14    15    16    17    18    20 \n",
      "50223 47933 42345 38513 26597 17111 14399  9966  6428  3528  1873  1053   567   177    70    22    12     1     1 \n"
     ]
    }
   ],
   "source": [
    "fdist.tabulate()"
   ]
  },
  {
   "cell_type": "markdown",
   "metadata": {},
   "source": [
    "Functions Defined for NLTK's Frequency Distributions\n",
    "\n",
    "Example \tDescription\n",
    "* fdist = FreqDist(samples) \tcreate a frequency distribution containing the given samples\n",
    "\n",
    "* fdist[sample] += 1 \tincrement the count for this sample\n",
    "\n",
    "* fdist['monstrous'] \tcount of the number of times a given sample occurred\n",
    "\n",
    "* fdist.freq('monstrous') \tfrequency of a given sample\n",
    "\n",
    "* fdist.N() \ttotal number of samples\n",
    "\n",
    "* fdist.most_common(n) \tthe n most common samples and their frequencies\n",
    "\n",
    "* for sample in fdist: \titerate over the samples\n",
    "\n",
    "* fdist.max() \tsample with the greatest count\n",
    "\n",
    "* fdist.tabulate() \ttabulate the frequency distribution\n",
    "\n",
    "* fdist.plot() \tgraphical plot of the frequency distribution\n",
    "\n",
    "* fdist.plot(cumulative=True) \tcumulative plot of the frequency distribution\n",
    "\n",
    "* fdist1 |= fdist2 \tupdate fdist1 with counts from fdist2\n",
    "\n",
    "* fdist1 < fdist2 \ttest if samples in fdist1 occur less frequently than in fdist2"
   ]
  },
  {
   "cell_type": "markdown",
   "metadata": {},
   "source": [
    "## Python Practice\n",
    "## Conditionals"
   ]
  },
  {
   "cell_type": "code",
   "execution_count": 40,
   "metadata": {},
   "outputs": [
    {
     "name": "stdout",
     "output_type": "stream",
     "text": [
      "['Pierre', 'Vinken', ',', '61', 'years', 'old', ',', 'will', 'join', 'the', 'board', 'as', 'a', 'nonexecutive', 'director', 'Nov.', '29', '.']\n"
     ]
    }
   ],
   "source": [
    "# a tokenized sentence\n",
    "print(sent7)"
   ]
  },
  {
   "cell_type": "code",
   "execution_count": 41,
   "metadata": {},
   "outputs": [
    {
     "data": {
      "text/plain": [
       "[',', '61', 'old', ',', 'the', 'as', 'a', '29', '.']"
      ]
     },
     "execution_count": 41,
     "metadata": {},
     "output_type": "execute_result"
    }
   ],
   "source": [
    "# words with length less than 4\n",
    "[w for w in sent7 if len(w) < 4]"
   ]
  },
  {
   "cell_type": "code",
   "execution_count": 42,
   "metadata": {},
   "outputs": [
    {
     "data": {
      "text/plain": [
       "['will', 'join', 'Nov.']"
      ]
     },
     "execution_count": 42,
     "metadata": {},
     "output_type": "execute_result"
    }
   ],
   "source": [
    "# words with length equal to 4\n",
    "[w for w in sent7 if len(w) == 4]"
   ]
  },
  {
   "cell_type": "code",
   "execution_count": 43,
   "metadata": {},
   "outputs": [
    {
     "data": {
      "text/plain": [
       "['Pierre',\n",
       " 'Vinken',\n",
       " ',',\n",
       " '61',\n",
       " 'years',\n",
       " 'old',\n",
       " ',',\n",
       " 'the',\n",
       " 'board',\n",
       " 'as',\n",
       " 'a',\n",
       " 'nonexecutive',\n",
       " 'director',\n",
       " '29',\n",
       " '.']"
      ]
     },
     "execution_count": 43,
     "metadata": {},
     "output_type": "execute_result"
    }
   ],
   "source": [
    "# words with length not equal to 4\n",
    "[w for w in sent7 if len(w) != 4]"
   ]
  },
  {
   "cell_type": "code",
   "execution_count": 44,
   "metadata": {},
   "outputs": [
    {
     "data": {
      "text/plain": [
       "['indispensableness',\n",
       " 'intolerableness',\n",
       " 'reasonableness',\n",
       " 'comfortableness',\n",
       " 'uncomfortableness',\n",
       " 'palpableness',\n",
       " 'honourableness',\n",
       " 'immutableness',\n",
       " 'indomitableness']"
      ]
     },
     "execution_count": 44,
     "metadata": {},
     "output_type": "execute_result"
    }
   ],
   "source": [
    "# all words in text1 that ends with 'ableness'\n",
    "[w for w in set(text1) if w.endswith('ableness')]"
   ]
  },
  {
   "cell_type": "code",
   "execution_count": 45,
   "metadata": {},
   "outputs": [
    {
     "data": {
      "text/plain": [
       "['Sovereignty', 'sovereignties', 'sovereignty']"
      ]
     },
     "execution_count": 45,
     "metadata": {},
     "output_type": "execute_result"
    }
   ],
   "source": [
    "# words that contain substring 'gnt'\n",
    "[w for w in set(text4) if 'gnt' in w]"
   ]
  },
  {
   "cell_type": "code",
   "execution_count": 46,
   "metadata": {},
   "outputs": [
    {
     "data": {
      "text/plain": [
       "['A',\n",
       " 'Aaaaaaaaah',\n",
       " 'Aaaaaaaah',\n",
       " 'Aaaaaah',\n",
       " 'Aaaah',\n",
       " 'Aaaaugh',\n",
       " 'Aaagh',\n",
       " 'Aaah',\n",
       " 'Aaauggh',\n",
       " 'Aaaugh']"
      ]
     },
     "execution_count": 46,
     "metadata": {},
     "output_type": "execute_result"
    }
   ],
   "source": [
    "# search for titlecase words in text\n",
    "sorted(w for w in set(text6) if w.istitle())[:10]"
   ]
  },
  {
   "cell_type": "code",
   "execution_count": 47,
   "metadata": {},
   "outputs": [
    {
     "data": {
      "text/plain": [
       "['29', '61']"
      ]
     },
     "execution_count": 47,
     "metadata": {},
     "output_type": "execute_result"
    }
   ],
   "source": [
    "# search for digits in text\n",
    "sorted(item for item in set(sent7) if item.isdigit())"
   ]
  },
  {
   "cell_type": "code",
   "execution_count": 48,
   "metadata": {},
   "outputs": [
    {
     "name": "stdout",
     "output_type": "stream",
     "text": [
      "['PIERRE', 'VINKEN', ',', '61', 'YEARS', 'OLD', ',', 'WILL', 'JOIN', 'THE', 'BOARD', 'AS', 'A', 'NONEXECUTIVE', 'DIRECTOR', 'NOV.', '29', '.']\n"
     ]
    }
   ],
   "source": [
    "# convert text to uppercase\n",
    "print([w.upper() for w in sent7])"
   ]
  },
  {
   "cell_type": "code",
   "execution_count": 49,
   "metadata": {},
   "outputs": [
    {
     "data": {
      "text/plain": [
       "260819"
      ]
     },
     "execution_count": 49,
     "metadata": {},
     "output_type": "execute_result"
    }
   ],
   "source": [
    "# count of all words in a body of text\n",
    "len(text1)"
   ]
  },
  {
   "cell_type": "code",
   "execution_count": 50,
   "metadata": {},
   "outputs": [
    {
     "data": {
      "text/plain": [
       "19317"
      ]
     },
     "execution_count": 50,
     "metadata": {},
     "output_type": "execute_result"
    }
   ],
   "source": [
    "# count of unique case-sensitive words in a body of text\n",
    "len(set(text1))"
   ]
  },
  {
   "cell_type": "code",
   "execution_count": 51,
   "metadata": {},
   "outputs": [
    {
     "data": {
      "text/plain": [
       "17231"
      ]
     },
     "execution_count": 51,
     "metadata": {},
     "output_type": "execute_result"
    }
   ],
   "source": [
    "# count of unique case-insensitive words in a body of text\n",
    "len(set(word.lower() for word in text1))"
   ]
  },
  {
   "cell_type": "code",
   "execution_count": 52,
   "metadata": {},
   "outputs": [
    {
     "data": {
      "text/plain": [
       "16948"
      ]
     },
     "execution_count": 52,
     "metadata": {},
     "output_type": "execute_result"
    }
   ],
   "source": [
    "# count of alphabetical words only; eliminate numbers and punctuation tokens from vocabulary\n",
    "len(set(word.lower() for word in text1 if word.isalpha()))"
   ]
  },
  {
   "cell_type": "code",
   "execution_count": null,
   "metadata": {},
   "outputs": [],
   "source": []
  }
 ],
 "metadata": {
  "file_extension": ".py",
  "interpreter": {
   "hash": "2e67d2d51cc48135395e9785d6b518c9af6482520666ad00cf530c129701d75b"
  },
  "kernelspec": {
   "display_name": "Python 3.6.5 64-bit ('base': conda)",
   "language": "python",
   "name": "python3"
  },
  "language_info": {
   "codemirror_mode": {
    "name": "ipython",
    "version": 3
   },
   "file_extension": ".py",
   "mimetype": "text/x-python",
   "name": "python",
   "nbconvert_exporter": "python",
   "pygments_lexer": "ipython3",
   "version": "3.10.1"
  },
  "mimetype": "text/x-python",
  "name": "python",
  "npconvert_exporter": "python",
  "pygments_lexer": "ipython3",
  "version": 3
 },
 "nbformat": 4,
 "nbformat_minor": 2
}
