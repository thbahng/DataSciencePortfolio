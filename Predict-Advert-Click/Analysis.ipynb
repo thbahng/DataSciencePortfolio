{
 "cells": [
  {
   "cell_type": "markdown",
   "source": [
    "# Predict Advert Click\r\n",
    "## Author: Thomas Bahng\r\n",
    "\r\n",
    "Predict which users are likely to click a particular advertisement and explain how different features affect the prediction. \r\n",
    "\r\n",
    "SearchMe is an Internet giant and search engine company that earns the majority of its revenue through online advertising. Their aim is to maximize the number of clicks their advertisements generate. Management has decided to investigate which users are more likely to click a particular advertisement. They want to analyze which factors affect this the most. This will not only help to increase the engagement but will also help in user profiling."
   ],
   "metadata": {
    "colab_type": "text",
    "id": "x_BkOtqBIKQz"
   }
  },
  {
   "cell_type": "code",
   "execution_count": 708,
   "source": [
    "# data manipulation\r\n",
    "import pandas as pd\r\n",
    "import numpy as np\r\n",
    "pd.set_option(\"display.max_columns\", 101)\r\n",
    "\r\n",
    "# feature selection\r\n",
    "# https://www.kaggle.com/ar2017/basics-of-feature-selection-with-python\r\n",
    "from sklearn.feature_selection import RFE, mutual_info_classif\r\n",
    "\r\n",
    "# logistic regression analysis\r\n",
    "from sklearn.linear_model import LogisticRegression\r\n",
    "import statsmodels.api as sm \r\n",
    "from statsmodels.stats.outliers_influence import variance_inflation_factor\r\n",
    "from sklearn.model_selection import train_test_split\r\n",
    "from sklearn.model_selection import KFold, cross_val_score\r\n",
    "\r\n",
    "# model evaluation\r\n",
    "from sklearn.metrics import confusion_matrix, classification_report, roc_auc_score, roc_curve\r\n",
    "\r\n",
    "# data scaling\r\n",
    "from sklearn.preprocessing import scale\r\n",
    "\r\n",
    "# plotting\r\n",
    "import matplotlib.pyplot as plt \r\n",
    "import seaborn as sns\r\n",
    "\r\n",
    "# text analysis\r\n",
    "from nltk import word_tokenize, FreqDist\r\n",
    "from nltk.corpus import stopwords\r\n",
    "import re\r\n",
    "from cleantext import clean\r\n",
    "\r\n",
    "# model deployment\r\n",
    "import pickle\r\n",
    "from sklearn.pipeline import Pipeline\r\n",
    "\r\n",
    "# unsupervised learning\r\n",
    "from sklearn.cluster import KMeans, DBSCAN\r\n",
    "from sklearn.feature_extraction.text import TfidfVectorizer\r\n",
    "from sklearn.decomposition import LatentDirichletAllocation\r\n",
    "\r\n",
    "# impute missing values\r\n",
    "from sklearn.impute import KNNImputer\r\n",
    "\r\n",
    "# chi-square test\r\n",
    "from scipy.stats import chi2_contingency"
   ],
   "outputs": [],
   "metadata": {
    "colab": {},
    "colab_type": "code",
    "id": "VzGFUCCVIKRL"
   }
  },
  {
   "cell_type": "markdown",
   "source": [
    "## Data Description"
   ],
   "metadata": {
    "colab_type": "text",
    "id": "TZ23KNY8IKRT"
   }
  },
  {
   "cell_type": "markdown",
   "source": [
    "Column | Description\r\n",
    ":---|:---\r\n",
    "`id` | Unique id\r\n",
    "`Daily Time Spent on Site` | Consumer time spent on site (in minutes)\r\n",
    "`Age` | Consumer age (in years)\r\n",
    "`Area Income` | Avg. Income of geographical area of consumer (in US $$)\r\n",
    "`Daily Internet Usage` | Avg. minutes a day consumer is on the internet\r\n",
    "`Ad Topic Line` | Headline of the advertisement\r\n",
    "`gender` | Gender of the consumer\r\n",
    "`Country` | Country of consumer\r\n",
    "`Timestamp` | Timestamp at which consumer clicked on Ad or closed window (YYYY-MM-DD HH:MM:SS)\r\n",
    "`Clicked` | Whether a consumer clicked on the advert or not (0: No ,1: Yes)"
   ],
   "metadata": {
    "colab_type": "text",
    "id": "jWSkqquEIKRW"
   }
  },
  {
   "cell_type": "markdown",
   "source": [
    "## Data Wrangling & Visualization"
   ],
   "metadata": {
    "colab_type": "text",
    "id": "BWQqx7cSIKRX"
   }
  },
  {
   "cell_type": "code",
   "execution_count": 562,
   "source": [
    "# Dataset is already loaded below\r\n",
    "data = pd.read_csv(\"train.csv\")\r\n",
    "print(\"Train data shape:\", data.shape)\r\n",
    "data.head()"
   ],
   "outputs": [
    {
     "output_type": "stream",
     "name": "stdout",
     "text": [
      "Train data shape: (1000, 10)\n"
     ]
    },
    {
     "output_type": "execute_result",
     "data": {
      "text/html": [
       "<div>\n",
       "<style scoped>\n",
       "    .dataframe tbody tr th:only-of-type {\n",
       "        vertical-align: middle;\n",
       "    }\n",
       "\n",
       "    .dataframe tbody tr th {\n",
       "        vertical-align: top;\n",
       "    }\n",
       "\n",
       "    .dataframe thead th {\n",
       "        text-align: right;\n",
       "    }\n",
       "</style>\n",
       "<table border=\"1\" class=\"dataframe\">\n",
       "  <thead>\n",
       "    <tr style=\"text-align: right;\">\n",
       "      <th></th>\n",
       "      <th>id</th>\n",
       "      <th>Timestamp</th>\n",
       "      <th>Daily Time Spent on Site</th>\n",
       "      <th>Age</th>\n",
       "      <th>Area Income</th>\n",
       "      <th>Daily Internet Usage</th>\n",
       "      <th>Ad Topic Line</th>\n",
       "      <th>gender</th>\n",
       "      <th>Country</th>\n",
       "      <th>Clicked</th>\n",
       "    </tr>\n",
       "  </thead>\n",
       "  <tbody>\n",
       "    <tr>\n",
       "      <th>0</th>\n",
       "      <td>1200</td>\n",
       "      <td>2016-01-01 02:52:10</td>\n",
       "      <td>80.67</td>\n",
       "      <td>34</td>\n",
       "      <td>58909.36</td>\n",
       "      <td>239.76</td>\n",
       "      <td>Seamless impactful info-mediaries</td>\n",
       "      <td>0</td>\n",
       "      <td>Portugal</td>\n",
       "      <td>0</td>\n",
       "    </tr>\n",
       "    <tr>\n",
       "      <th>1</th>\n",
       "      <td>1201</td>\n",
       "      <td>2016-01-01 03:35:35</td>\n",
       "      <td>68.01</td>\n",
       "      <td>25</td>\n",
       "      <td>68357.96</td>\n",
       "      <td>188.32</td>\n",
       "      <td>Ameliorated actuating workforce</td>\n",
       "      <td>1</td>\n",
       "      <td>Afghanistan</td>\n",
       "      <td>0</td>\n",
       "    </tr>\n",
       "    <tr>\n",
       "      <th>2</th>\n",
       "      <td>1202</td>\n",
       "      <td>2016-01-01 05:31:22</td>\n",
       "      <td>80.94</td>\n",
       "      <td>36</td>\n",
       "      <td>60803.00</td>\n",
       "      <td>239.94</td>\n",
       "      <td>Self-enabling local strategy</td>\n",
       "      <td>0</td>\n",
       "      <td>Bermuda</td>\n",
       "      <td>0</td>\n",
       "    </tr>\n",
       "    <tr>\n",
       "      <th>3</th>\n",
       "      <td>1203</td>\n",
       "      <td>2016-01-01 08:27:06</td>\n",
       "      <td>78.77</td>\n",
       "      <td>28</td>\n",
       "      <td>63497.62</td>\n",
       "      <td>211.83</td>\n",
       "      <td>Public-key intangible Graphical User Interface</td>\n",
       "      <td>0</td>\n",
       "      <td>Guam</td>\n",
       "      <td>0</td>\n",
       "    </tr>\n",
       "    <tr>\n",
       "      <th>4</th>\n",
       "      <td>1204</td>\n",
       "      <td>2016-01-01 15:14:24</td>\n",
       "      <td>36.56</td>\n",
       "      <td>29</td>\n",
       "      <td>42838.29</td>\n",
       "      <td>195.89</td>\n",
       "      <td>Team-oriented bi-directional secured line</td>\n",
       "      <td>0</td>\n",
       "      <td>Uganda</td>\n",
       "      <td>1</td>\n",
       "    </tr>\n",
       "  </tbody>\n",
       "</table>\n",
       "</div>"
      ],
      "text/plain": [
       "     id            Timestamp  Daily Time Spent on Site  Age  Area Income  \\\n",
       "0  1200  2016-01-01 02:52:10                     80.67   34     58909.36   \n",
       "1  1201  2016-01-01 03:35:35                     68.01   25     68357.96   \n",
       "2  1202  2016-01-01 05:31:22                     80.94   36     60803.00   \n",
       "3  1203  2016-01-01 08:27:06                     78.77   28     63497.62   \n",
       "4  1204  2016-01-01 15:14:24                     36.56   29     42838.29   \n",
       "\n",
       "   Daily Internet Usage                                   Ad Topic Line  \\\n",
       "0                239.76               Seamless impactful info-mediaries   \n",
       "1                188.32                 Ameliorated actuating workforce   \n",
       "2                239.94                    Self-enabling local strategy   \n",
       "3                211.83  Public-key intangible Graphical User Interface   \n",
       "4                195.89       Team-oriented bi-directional secured line   \n",
       "\n",
       "   gender      Country  Clicked  \n",
       "0       0     Portugal        0  \n",
       "1       1  Afghanistan        0  \n",
       "2       0      Bermuda        0  \n",
       "3       0         Guam        0  \n",
       "4       0       Uganda        1  "
      ]
     },
     "metadata": {},
     "execution_count": 562
    }
   ],
   "metadata": {
    "colab": {},
    "colab_type": "code",
    "id": "SsjL7tf7IKRc"
   }
  },
  {
   "cell_type": "markdown",
   "source": [
    "The training set consists of 1000 observations of the 10 variables shown above. Since id is not a variable, we will set it as the index."
   ],
   "metadata": {}
  },
  {
   "cell_type": "code",
   "execution_count": 563,
   "source": [
    "data.set_index('id', inplace=True)"
   ],
   "outputs": [],
   "metadata": {}
  },
  {
   "cell_type": "code",
   "execution_count": 564,
   "source": [
    "#Explore columns\r\n",
    "data.dtypes"
   ],
   "outputs": [
    {
     "output_type": "execute_result",
     "data": {
      "text/plain": [
       "Timestamp                    object\n",
       "Daily Time Spent on Site    float64\n",
       "Age                           int64\n",
       "Area Income                 float64\n",
       "Daily Internet Usage        float64\n",
       "Ad Topic Line                object\n",
       "gender                        int64\n",
       "Country                      object\n",
       "Clicked                       int64\n",
       "dtype: object"
      ]
     },
     "metadata": {},
     "execution_count": 564
    }
   ],
   "metadata": {
    "colab": {},
    "colab_type": "code",
    "id": "0mhMZRlBIKRu",
    "outputId": "0a669059-5528-4ec0-d64b-8231f6aadf45"
   }
  },
  {
   "cell_type": "markdown",
   "source": [
    "Predictor variables consist of datetime, float, integer, and strings."
   ],
   "metadata": {}
  },
  {
   "cell_type": "markdown",
   "source": [
    "### Missing Values"
   ],
   "metadata": {}
  },
  {
   "cell_type": "code",
   "execution_count": 565,
   "source": [
    "# percent missing values assessment\r\n",
    "data.isna().sum() / data.shape[0]"
   ],
   "outputs": [
    {
     "output_type": "execute_result",
     "data": {
      "text/plain": [
       "Timestamp                   0.000\n",
       "Daily Time Spent on Site    0.000\n",
       "Age                         0.000\n",
       "Area Income                 0.225\n",
       "Daily Internet Usage        0.000\n",
       "Ad Topic Line               0.000\n",
       "gender                      0.000\n",
       "Country                     0.000\n",
       "Clicked                     0.000\n",
       "dtype: float64"
      ]
     },
     "metadata": {},
     "execution_count": 565
    }
   ],
   "metadata": {}
  },
  {
   "cell_type": "markdown",
   "source": [
    "Approximtely 22% of Daily Internet Usage has missing values. Per the definition above, this variable represents the average income of the geographical area in which the consumer resides."
   ],
   "metadata": {}
  },
  {
   "cell_type": "markdown",
   "source": [
    "### Feature Extraction\r\n",
    "The Timestamp of when the Clicked event occurred can provide additional features such as Quarter, Day of Week or Time of Day. Once we've extracted these features from Timestamp, we no longer need this variable as it won't be used as a predictor."
   ],
   "metadata": {}
  },
  {
   "cell_type": "code",
   "execution_count": 566,
   "source": [
    "# time stamp 2016-01-01 15:14:24\r\n",
    "# create day-of-week and time-of-day variable\r\n",
    "date_pattern='%Y-%m-%d'\r\n",
    "time_pattern='%H:%M:%S'\r\n",
    "full_pattern = ' '.join([date_pattern, time_pattern])\r\n",
    "data['Quarter'] = pd.to_datetime(data['Timestamp'], format = date_pattern).dt.quarter\r\n",
    "data['Day of Week'] = pd.to_datetime(data['Timestamp'], format = date_pattern).dt.day_name()\r\n",
    "data['Time of Day'] = pd.to_datetime(data['Timestamp'], format = full_pattern).dt.hour\r\n",
    "data.drop('Timestamp',1, inplace=True)"
   ],
   "outputs": [],
   "metadata": {}
  },
  {
   "cell_type": "markdown",
   "source": [
    "### Descriptive Statistics"
   ],
   "metadata": {}
  },
  {
   "cell_type": "code",
   "execution_count": 567,
   "source": [
    "data.describe()"
   ],
   "outputs": [
    {
     "output_type": "execute_result",
     "data": {
      "text/html": [
       "<div>\n",
       "<style scoped>\n",
       "    .dataframe tbody tr th:only-of-type {\n",
       "        vertical-align: middle;\n",
       "    }\n",
       "\n",
       "    .dataframe tbody tr th {\n",
       "        vertical-align: top;\n",
       "    }\n",
       "\n",
       "    .dataframe thead th {\n",
       "        text-align: right;\n",
       "    }\n",
       "</style>\n",
       "<table border=\"1\" class=\"dataframe\">\n",
       "  <thead>\n",
       "    <tr style=\"text-align: right;\">\n",
       "      <th></th>\n",
       "      <th>Daily Time Spent on Site</th>\n",
       "      <th>Age</th>\n",
       "      <th>Area Income</th>\n",
       "      <th>Daily Internet Usage</th>\n",
       "      <th>gender</th>\n",
       "      <th>Clicked</th>\n",
       "      <th>Quarter</th>\n",
       "      <th>Time of Day</th>\n",
       "    </tr>\n",
       "  </thead>\n",
       "  <tbody>\n",
       "    <tr>\n",
       "      <th>count</th>\n",
       "      <td>1000.000000</td>\n",
       "      <td>1000.000000</td>\n",
       "      <td>775.000000</td>\n",
       "      <td>1000.000000</td>\n",
       "      <td>1000.000000</td>\n",
       "      <td>1000.000000</td>\n",
       "      <td>1000.000000</td>\n",
       "      <td>1000.000000</td>\n",
       "    </tr>\n",
       "    <tr>\n",
       "      <th>mean</th>\n",
       "      <td>65.120650</td>\n",
       "      <td>35.816000</td>\n",
       "      <td>55343.014555</td>\n",
       "      <td>179.592310</td>\n",
       "      <td>0.474000</td>\n",
       "      <td>0.503000</td>\n",
       "      <td>1.403000</td>\n",
       "      <td>11.695000</td>\n",
       "    </tr>\n",
       "    <tr>\n",
       "      <th>std</th>\n",
       "      <td>15.781456</td>\n",
       "      <td>8.782669</td>\n",
       "      <td>13182.578667</td>\n",
       "      <td>43.735785</td>\n",
       "      <td>0.499573</td>\n",
       "      <td>0.500241</td>\n",
       "      <td>0.490746</td>\n",
       "      <td>6.847837</td>\n",
       "    </tr>\n",
       "    <tr>\n",
       "      <th>min</th>\n",
       "      <td>32.600000</td>\n",
       "      <td>19.000000</td>\n",
       "      <td>14548.060000</td>\n",
       "      <td>105.000000</td>\n",
       "      <td>0.000000</td>\n",
       "      <td>0.000000</td>\n",
       "      <td>1.000000</td>\n",
       "      <td>0.000000</td>\n",
       "    </tr>\n",
       "    <tr>\n",
       "      <th>25%</th>\n",
       "      <td>51.450000</td>\n",
       "      <td>29.000000</td>\n",
       "      <td>48270.620000</td>\n",
       "      <td>137.885000</td>\n",
       "      <td>0.000000</td>\n",
       "      <td>0.000000</td>\n",
       "      <td>1.000000</td>\n",
       "      <td>6.000000</td>\n",
       "    </tr>\n",
       "    <tr>\n",
       "      <th>50%</th>\n",
       "      <td>68.390000</td>\n",
       "      <td>35.000000</td>\n",
       "      <td>57737.510000</td>\n",
       "      <td>182.425000</td>\n",
       "      <td>0.000000</td>\n",
       "      <td>1.000000</td>\n",
       "      <td>1.000000</td>\n",
       "      <td>11.500000</td>\n",
       "    </tr>\n",
       "    <tr>\n",
       "      <th>75%</th>\n",
       "      <td>78.572500</td>\n",
       "      <td>41.250000</td>\n",
       "      <td>65207.185000</td>\n",
       "      <td>217.707500</td>\n",
       "      <td>1.000000</td>\n",
       "      <td>1.000000</td>\n",
       "      <td>2.000000</td>\n",
       "      <td>18.000000</td>\n",
       "    </tr>\n",
       "    <tr>\n",
       "      <th>max</th>\n",
       "      <td>91.370000</td>\n",
       "      <td>61.000000</td>\n",
       "      <td>79484.800000</td>\n",
       "      <td>269.960000</td>\n",
       "      <td>1.000000</td>\n",
       "      <td>1.000000</td>\n",
       "      <td>2.000000</td>\n",
       "      <td>23.000000</td>\n",
       "    </tr>\n",
       "  </tbody>\n",
       "</table>\n",
       "</div>"
      ],
      "text/plain": [
       "       Daily Time Spent on Site          Age   Area Income  \\\n",
       "count               1000.000000  1000.000000    775.000000   \n",
       "mean                  65.120650    35.816000  55343.014555   \n",
       "std                   15.781456     8.782669  13182.578667   \n",
       "min                   32.600000    19.000000  14548.060000   \n",
       "25%                   51.450000    29.000000  48270.620000   \n",
       "50%                   68.390000    35.000000  57737.510000   \n",
       "75%                   78.572500    41.250000  65207.185000   \n",
       "max                   91.370000    61.000000  79484.800000   \n",
       "\n",
       "       Daily Internet Usage       gender      Clicked      Quarter  \\\n",
       "count           1000.000000  1000.000000  1000.000000  1000.000000   \n",
       "mean             179.592310     0.474000     0.503000     1.403000   \n",
       "std               43.735785     0.499573     0.500241     0.490746   \n",
       "min              105.000000     0.000000     0.000000     1.000000   \n",
       "25%              137.885000     0.000000     0.000000     1.000000   \n",
       "50%              182.425000     0.000000     1.000000     1.000000   \n",
       "75%              217.707500     1.000000     1.000000     2.000000   \n",
       "max              269.960000     1.000000     1.000000     2.000000   \n",
       "\n",
       "       Time of Day  \n",
       "count  1000.000000  \n",
       "mean     11.695000  \n",
       "std       6.847837  \n",
       "min       0.000000  \n",
       "25%       6.000000  \n",
       "50%      11.500000  \n",
       "75%      18.000000  \n",
       "max      23.000000  "
      ]
     },
     "metadata": {},
     "execution_count": 567
    }
   ],
   "metadata": {}
  },
  {
   "cell_type": "markdown",
   "source": [
    "It is clear that the numeric columns should be transformed by either scaling or min-max due to the different scales of their distributions."
   ],
   "metadata": {}
  },
  {
   "cell_type": "code",
   "execution_count": 568,
   "source": [
    "# create histograms of the numeric variables\r\n",
    "data.select_dtypes(np.number).hist(figsize=(10,10));"
   ],
   "outputs": [
    {
     "output_type": "display_data",
     "data": {
      "image/png": "[encoded data removed]",
      "text/plain": [
       "<Figure size 720x720 with 9 Axes>"
      ]
     },
     "metadata": {
      "needs_background": "light"
     }
    }
   ],
   "metadata": {}
  },
  {
   "cell_type": "code",
   "execution_count": 569,
   "source": [
    "# create boxplots of the numeric variables\r\n",
    "x = data.select_dtypes(np.number)\r\n",
    "x_scaled = scale(x)\r\n",
    "x_scaled = pd.DataFrame(x_scaled, columns=x.columns)\r\n",
    "x_scaled.boxplot(rot=60);"
   ],
   "outputs": [
    {
     "output_type": "display_data",
     "data": {
      "image/png": "[encoded data removed]",
      "text/plain": [
       "<Figure size 432x288 with 1 Axes>"
      ]
     },
     "metadata": {
      "needs_background": "light"
     }
    }
   ],
   "metadata": {}
  },
  {
   "cell_type": "markdown",
   "source": [
    "* Age contains a small number of outliers in the upper tail of the distribution.\r\n",
    "* Area Income contains several outliers in the lower tail of the distribution."
   ],
   "metadata": {}
  },
  {
   "cell_type": "code",
   "execution_count": 570,
   "source": [
    "data['Clicked'].value_counts().plot(kind='barh', title = 'Data set is balanced in terms of Response Variable.');"
   ],
   "outputs": [
    {
     "output_type": "display_data",
     "data": {
      "image/png": "[encoded data removed]",
      "text/plain": [
       "<Figure size 432x288 with 1 Axes>"
      ]
     },
     "metadata": {
      "needs_background": "light"
     }
    }
   ],
   "metadata": {}
  },
  {
   "cell_type": "markdown",
   "source": [
    "The response variable, Clicked, appears to be uniformly distributed."
   ],
   "metadata": {}
  },
  {
   "cell_type": "markdown",
   "source": [
    "### Daily Time Spent on Site by Label"
   ],
   "metadata": {}
  },
  {
   "cell_type": "code",
   "execution_count": 571,
   "source": [
    "sns.boxplot(y = 'Daily Time Spent on Site', x = 'Clicked', data = data, palette='colorblind');"
   ],
   "outputs": [
    {
     "output_type": "display_data",
     "data": {
      "image/png": "[encoded data removed]",
      "text/plain": [
       "<Figure size 432x288 with 1 Axes>"
      ]
     },
     "metadata": {
      "needs_background": "light"
     }
    }
   ],
   "metadata": {}
  },
  {
   "cell_type": "markdown",
   "source": [
    "It would appear that those who clicked ads spent less time on the site on average on a given day. There appears to be a significant difference given that the IQR by groups do not overlap."
   ],
   "metadata": {}
  },
  {
   "cell_type": "markdown",
   "source": [
    "### Age by Label"
   ],
   "metadata": {}
  },
  {
   "cell_type": "code",
   "execution_count": 572,
   "source": [
    "sns.boxplot(y = 'Age', x = 'Clicked', data = data, palette='colorblind');"
   ],
   "outputs": [
    {
     "output_type": "display_data",
     "data": {
      "image/png": "[encoded data removed]",
      "text/plain": [
       "<Figure size 432x288 with 1 Axes>"
      ]
     },
     "metadata": {
      "needs_background": "light"
     }
    }
   ],
   "metadata": {}
  },
  {
   "cell_type": "markdown",
   "source": [
    "Age may also have a relationship with Clicked in that those who were older tended to click on ads more than those who were younger."
   ],
   "metadata": {}
  },
  {
   "cell_type": "markdown",
   "source": [
    "### Area Income by Label"
   ],
   "metadata": {}
  },
  {
   "cell_type": "code",
   "execution_count": 573,
   "source": [
    "sns.boxplot(y = 'Area Income', x = 'Clicked', data = data, palette='colorblind');"
   ],
   "outputs": [
    {
     "output_type": "display_data",
     "data": {
      "image/png": "[encoded data removed]",
      "text/plain": [
       "<Figure size 432x288 with 1 Axes>"
      ]
     },
     "metadata": {
      "needs_background": "light"
     }
    }
   ],
   "metadata": {}
  },
  {
   "cell_type": "markdown",
   "source": [
    "Those who clicked on ads seem to generally be of a lower area income group. However, we saw that this variable has a substantial proportion of missing values (25%). Let's see how that missingness varies across classes of the response variable."
   ],
   "metadata": {}
  },
  {
   "cell_type": "code",
   "execution_count": 574,
   "source": [
    "data['Area Income'].isna().groupby(data['Clicked'], sort=False).sum()"
   ],
   "outputs": [
    {
     "output_type": "execute_result",
     "data": {
      "text/plain": [
       "Clicked\n",
       "0    110\n",
       "1    115\n",
       "Name: Area Income, dtype: int64"
      ]
     },
     "metadata": {},
     "execution_count": 574
    }
   ],
   "metadata": {}
  },
  {
   "cell_type": "markdown",
   "source": [
    "There are an equal number of missing values respective to each class."
   ],
   "metadata": {}
  },
  {
   "cell_type": "markdown",
   "source": [
    "### Daily Internet Usage by Label"
   ],
   "metadata": {}
  },
  {
   "cell_type": "code",
   "execution_count": 575,
   "source": [
    "sns.boxplot(y = 'Daily Internet Usage', x = 'Clicked', data = data, palette='colorblind');"
   ],
   "outputs": [
    {
     "output_type": "display_data",
     "data": {
      "image/png": "[encoded data removed]",
      "text/plain": [
       "<Figure size 432x288 with 1 Axes>"
      ]
     },
     "metadata": {
      "needs_background": "light"
     }
    }
   ],
   "metadata": {}
  },
  {
   "cell_type": "markdown",
   "source": [
    "Similary to the time spent on the site, an individual who spent less time on the internet was also more likely to click the ad."
   ],
   "metadata": {}
  },
  {
   "cell_type": "markdown",
   "source": [
    "### Time of Day by Label"
   ],
   "metadata": {}
  },
  {
   "cell_type": "code",
   "execution_count": 576,
   "source": [
    "sns.boxplot(y = 'Time of Day', x = 'Clicked', data = data, palette='colorblind');"
   ],
   "outputs": [
    {
     "output_type": "display_data",
     "data": {
      "image/png": "[encoded data removed]",
      "text/plain": [
       "<Figure size 432x288 with 1 Axes>"
      ]
     },
     "metadata": {
      "needs_background": "light"
     }
    }
   ],
   "metadata": {}
  },
  {
   "cell_type": "markdown",
   "source": [
    "It would appear that time of day made no difference on whether an individual clicked an ad."
   ],
   "metadata": {}
  },
  {
   "cell_type": "markdown",
   "source": [
    "### Gender"
   ],
   "metadata": {}
  },
  {
   "cell_type": "code",
   "execution_count": 577,
   "source": [
    "data.groupby(['gender','Clicked'])['gender'].count().unstack('Clicked').fillna(0).plot(kind='bar', stacked=True, title = 'Gender does not appear to be strong predictor');"
   ],
   "outputs": [
    {
     "output_type": "display_data",
     "data": {
      "image/png": "[encoded data removed]",
      "text/plain": [
       "<Figure size 432x288 with 1 Axes>"
      ]
     },
     "metadata": {
      "needs_background": "light"
     }
    }
   ],
   "metadata": {}
  },
  {
   "cell_type": "markdown",
   "source": [
    "### Country\r\n",
    "Encodings to address high cardinality in the Country variable."
   ],
   "metadata": {}
  },
  {
   "cell_type": "code",
   "execution_count": 578,
   "source": [
    "x=data['Country'].drop_duplicates().count()\r\n",
    "print(\"Number of unique countries: {:d}\".format(x))"
   ],
   "outputs": [
    {
     "output_type": "stream",
     "name": "stdout",
     "text": [
      "Number of unique countries: 233\n"
     ]
    }
   ],
   "metadata": {}
  },
  {
   "cell_type": "code",
   "execution_count": 579,
   "source": [
    "# By country, the proportion favoring clicked.\r\n",
    "x = data.groupby(['Country','Clicked'])['Country'].count().unstack('Clicked').fillna(0)\r\n",
    "# (1==100% favored click)\r\n",
    "sort_order = (x[1] - x[0]) / x.sum(axis=1)\r\n",
    "sort_order.sort_values(ascending=False)"
   ],
   "outputs": [
    {
     "output_type": "execute_result",
     "data": {
      "text/plain": [
       "Country\n",
       "Dominican Republic    1.0\n",
       "Slovenia              1.0\n",
       "Lithuania             1.0\n",
       "Macao                 1.0\n",
       "Macedonia             1.0\n",
       "                     ... \n",
       "Sri Lanka            -1.0\n",
       "Sudan                -1.0\n",
       "Tanzania             -1.0\n",
       "Swaziland            -1.0\n",
       "Greenland            -1.0\n",
       "Length: 233, dtype: float64"
      ]
     },
     "metadata": {},
     "execution_count": 579
    }
   ],
   "metadata": {}
  },
  {
   "cell_type": "code",
   "execution_count": 580,
   "source": [
    "sort_order.hist();"
   ],
   "outputs": [
    {
     "output_type": "display_data",
     "data": {
      "image/png": "[encoded data removed]",
      "text/plain": [
       "<Figure size 432x288 with 1 Axes>"
      ]
     },
     "metadata": {
      "needs_background": "light"
     }
    }
   ],
   "metadata": {}
  },
  {
   "cell_type": "markdown",
   "source": [
    "Typically countries will not exhibit a preference for clicking or not clicking. However, as shown via the tails of the distribution there are about an small but equal proportion of countries that prefer one or the other."
   ],
   "metadata": {}
  },
  {
   "cell_type": "markdown",
   "source": [
    "Certain countries display extreme leaning (i.e. 100% observations) towards one class versus the other such as 'Ethiopia', 'Croatia', and about 50 other countries. Perhaps we can encode these country names within a new variable like 'click_preference' and give them the label 'strong', but categorize the others as 'weak'"
   ],
   "metadata": {}
  },
  {
   "cell_type": "code",
   "execution_count": 581,
   "source": [
    "def click_preference(x):\r\n",
    "    \"\"\"[function to help build country x-ref]\r\n",
    "\r\n",
    "    Args:\r\n",
    "        x ([float]): [proportion of records partitioned by country in favor of Clicked]\r\n",
    "\r\n",
    "    Returns:\r\n",
    "        [str]: [label]\r\n",
    "    \"\"\"\r\n",
    "    if x >= -1 and x <= 1:\r\n",
    "        if x == 1:\r\n",
    "            out = 'strong'\r\n",
    "        elif x == -1:\r\n",
    "            out = 'weak'\r\n",
    "        else:\r\n",
    "            out = 'maybe'\r\n",
    "        return out"
   ],
   "outputs": [],
   "metadata": {}
  },
  {
   "cell_type": "code",
   "execution_count": 582,
   "source": [
    "# This dictionary serves to classify click preference label based on country\r\n",
    "country_dict = sort_order.apply(click_preference).to_dict()"
   ],
   "outputs": [],
   "metadata": {}
  },
  {
   "cell_type": "code",
   "execution_count": 583,
   "source": [
    "def get_country_label(country_name):\r\n",
    "    \"\"\"[function to apply to country variable in data]\r\n",
    "    Depends on country_dict\r\n",
    "    \r\n",
    "    Args:\r\n",
    "        country_name ([str]): [name of country]\r\n",
    "\r\n",
    "    Returns:\r\n",
    "        [str]: [click preference label]\r\n",
    "    \"\"\"\r\n",
    "    try:\r\n",
    "        return country_dict[country_name]\r\n",
    "    except:\r\n",
    "        return None"
   ],
   "outputs": [],
   "metadata": {}
  },
  {
   "cell_type": "code",
   "execution_count": 584,
   "source": [
    "click_pref = data['Country'].apply(get_country_label)\r\n",
    "data['Country Click Pref'] = click_pref.astype('category').cat.codes\r\n",
    "data.drop('Country', 1, inplace=True)"
   ],
   "outputs": [],
   "metadata": {}
  },
  {
   "cell_type": "code",
   "execution_count": 585,
   "source": [
    "# chi-square test between click preference and Clicked\r\n",
    "a = pd.Categorical(data['Country Click Pref'])\r\n",
    "b = pd.Categorical(data['Clicked'])\r\n",
    "ct = pd.crosstab(a,b)\r\n",
    "stat, p, dof, expected = chi2_contingency(ct)\r\n",
    "print(\"Chi2: {:.2f} | p-value: {:.2f}\".format(stat, p))"
   ],
   "outputs": [
    {
     "output_type": "stream",
     "name": "stdout",
     "text": [
      "Chi2: 126.97 | p-value: 0.00\n"
     ]
    }
   ],
   "metadata": {}
  },
  {
   "cell_type": "code",
   "execution_count": 586,
   "source": [
    "data.head()"
   ],
   "outputs": [
    {
     "output_type": "execute_result",
     "data": {
      "text/html": [
       "<div>\n",
       "<style scoped>\n",
       "    .dataframe tbody tr th:only-of-type {\n",
       "        vertical-align: middle;\n",
       "    }\n",
       "\n",
       "    .dataframe tbody tr th {\n",
       "        vertical-align: top;\n",
       "    }\n",
       "\n",
       "    .dataframe thead th {\n",
       "        text-align: right;\n",
       "    }\n",
       "</style>\n",
       "<table border=\"1\" class=\"dataframe\">\n",
       "  <thead>\n",
       "    <tr style=\"text-align: right;\">\n",
       "      <th></th>\n",
       "      <th>Daily Time Spent on Site</th>\n",
       "      <th>Age</th>\n",
       "      <th>Area Income</th>\n",
       "      <th>Daily Internet Usage</th>\n",
       "      <th>Ad Topic Line</th>\n",
       "      <th>gender</th>\n",
       "      <th>Clicked</th>\n",
       "      <th>Quarter</th>\n",
       "      <th>Day of Week</th>\n",
       "      <th>Time of Day</th>\n",
       "      <th>Country Click Pref</th>\n",
       "    </tr>\n",
       "    <tr>\n",
       "      <th>id</th>\n",
       "      <th></th>\n",
       "      <th></th>\n",
       "      <th></th>\n",
       "      <th></th>\n",
       "      <th></th>\n",
       "      <th></th>\n",
       "      <th></th>\n",
       "      <th></th>\n",
       "      <th></th>\n",
       "      <th></th>\n",
       "      <th></th>\n",
       "    </tr>\n",
       "  </thead>\n",
       "  <tbody>\n",
       "    <tr>\n",
       "      <th>1200</th>\n",
       "      <td>80.67</td>\n",
       "      <td>34</td>\n",
       "      <td>58909.36</td>\n",
       "      <td>239.76</td>\n",
       "      <td>Seamless impactful info-mediaries</td>\n",
       "      <td>0</td>\n",
       "      <td>0</td>\n",
       "      <td>1</td>\n",
       "      <td>Friday</td>\n",
       "      <td>2</td>\n",
       "      <td>0</td>\n",
       "    </tr>\n",
       "    <tr>\n",
       "      <th>1201</th>\n",
       "      <td>68.01</td>\n",
       "      <td>25</td>\n",
       "      <td>68357.96</td>\n",
       "      <td>188.32</td>\n",
       "      <td>Ameliorated actuating workforce</td>\n",
       "      <td>1</td>\n",
       "      <td>0</td>\n",
       "      <td>1</td>\n",
       "      <td>Friday</td>\n",
       "      <td>3</td>\n",
       "      <td>0</td>\n",
       "    </tr>\n",
       "    <tr>\n",
       "      <th>1202</th>\n",
       "      <td>80.94</td>\n",
       "      <td>36</td>\n",
       "      <td>60803.00</td>\n",
       "      <td>239.94</td>\n",
       "      <td>Self-enabling local strategy</td>\n",
       "      <td>0</td>\n",
       "      <td>0</td>\n",
       "      <td>1</td>\n",
       "      <td>Friday</td>\n",
       "      <td>5</td>\n",
       "      <td>2</td>\n",
       "    </tr>\n",
       "    <tr>\n",
       "      <th>1203</th>\n",
       "      <td>78.77</td>\n",
       "      <td>28</td>\n",
       "      <td>63497.62</td>\n",
       "      <td>211.83</td>\n",
       "      <td>Public-key intangible Graphical User Interface</td>\n",
       "      <td>0</td>\n",
       "      <td>0</td>\n",
       "      <td>1</td>\n",
       "      <td>Friday</td>\n",
       "      <td>8</td>\n",
       "      <td>0</td>\n",
       "    </tr>\n",
       "    <tr>\n",
       "      <th>1204</th>\n",
       "      <td>36.56</td>\n",
       "      <td>29</td>\n",
       "      <td>42838.29</td>\n",
       "      <td>195.89</td>\n",
       "      <td>Team-oriented bi-directional secured line</td>\n",
       "      <td>0</td>\n",
       "      <td>1</td>\n",
       "      <td>1</td>\n",
       "      <td>Friday</td>\n",
       "      <td>15</td>\n",
       "      <td>1</td>\n",
       "    </tr>\n",
       "  </tbody>\n",
       "</table>\n",
       "</div>"
      ],
      "text/plain": [
       "      Daily Time Spent on Site  Age  Area Income  Daily Internet Usage  \\\n",
       "id                                                                       \n",
       "1200                     80.67   34     58909.36                239.76   \n",
       "1201                     68.01   25     68357.96                188.32   \n",
       "1202                     80.94   36     60803.00                239.94   \n",
       "1203                     78.77   28     63497.62                211.83   \n",
       "1204                     36.56   29     42838.29                195.89   \n",
       "\n",
       "                                       Ad Topic Line  gender  Clicked  \\\n",
       "id                                                                      \n",
       "1200               Seamless impactful info-mediaries       0        0   \n",
       "1201                 Ameliorated actuating workforce       1        0   \n",
       "1202                    Self-enabling local strategy       0        0   \n",
       "1203  Public-key intangible Graphical User Interface       0        0   \n",
       "1204       Team-oriented bi-directional secured line       0        1   \n",
       "\n",
       "      Quarter Day of Week  Time of Day  Country Click Pref  \n",
       "id                                                          \n",
       "1200        1      Friday            2                   0  \n",
       "1201        1      Friday            3                   0  \n",
       "1202        1      Friday            5                   2  \n",
       "1203        1      Friday            8                   0  \n",
       "1204        1      Friday           15                   1  "
      ]
     },
     "metadata": {},
     "execution_count": 586
    }
   ],
   "metadata": {}
  },
  {
   "cell_type": "code",
   "execution_count": 587,
   "source": [
    "click_pref.value_counts().plot(kind='bar', title = 'Most Countries Have Mixed Preference in Favoring a Specific Class', xlabel='Click Preference');"
   ],
   "outputs": [
    {
     "output_type": "display_data",
     "data": {
      "image/png": "[encoded data removed]",
      "text/plain": [
       "<Figure size 432x288 with 1 Axes>"
      ]
     },
     "metadata": {
      "needs_background": "light"
     }
    }
   ],
   "metadata": {}
  },
  {
   "cell_type": "markdown",
   "source": [
    "### Day of Week\r\n",
    "Shall we keep this variable?"
   ],
   "metadata": {}
  },
  {
   "cell_type": "code",
   "execution_count": 588,
   "source": [
    "data.groupby(['Day of Week','Clicked'])['Day of Week'].count().unstack('Clicked').fillna(0).plot(kind='bar', stacked=True, title = 'Day of week does not appear to have a strong relationship with Clicked.');"
   ],
   "outputs": [
    {
     "output_type": "display_data",
     "data": {
      "image/png": "[encoded data removed]",
      "text/plain": [
       "<Figure size 432x288 with 1 Axes>"
      ]
     },
     "metadata": {
      "needs_background": "light"
     }
    }
   ],
   "metadata": {}
  },
  {
   "cell_type": "code",
   "execution_count": 589,
   "source": [
    "# chi-square test between Day of Week and Clicked\r\n",
    "a = pd.Categorical(data['Day of Week'])\r\n",
    "b = pd.Categorical(data['Clicked'])\r\n",
    "ct = pd.crosstab(a,b)\r\n",
    "stat, p, dof, expected = chi2_contingency(ct)\r\n",
    "print(\"Chi2: {:.2f} | p-value: {:.2f}\".format(stat, p))"
   ],
   "outputs": [
    {
     "output_type": "stream",
     "name": "stdout",
     "text": [
      "Chi2: 6.98 | p-value: 0.32\n"
     ]
    }
   ],
   "metadata": {}
  },
  {
   "cell_type": "markdown",
   "source": [
    "Day of week does not appear to have a significant relationship with the response variable. We should remove this variable."
   ],
   "metadata": {}
  },
  {
   "cell_type": "code",
   "execution_count": 590,
   "source": [
    "data.drop('Day of Week', 1, inplace=True)"
   ],
   "outputs": [],
   "metadata": {}
  },
  {
   "cell_type": "markdown",
   "source": [
    "### Quarter\r\n",
    "Shall we keep this variable?"
   ],
   "metadata": {}
  },
  {
   "cell_type": "code",
   "execution_count": 591,
   "source": [
    "data.groupby(['Quarter','Clicked'])['Quarter'].count().unstack('Clicked').fillna(0).plot(kind='bar', stacked=True, title = 'Quarter does not appear to have a strong relationship with Clicked.');"
   ],
   "outputs": [
    {
     "output_type": "display_data",
     "data": {
      "image/png": "[encoded data removed]",
      "text/plain": [
       "<Figure size 432x288 with 1 Axes>"
      ]
     },
     "metadata": {
      "needs_background": "light"
     }
    }
   ],
   "metadata": {}
  },
  {
   "cell_type": "code",
   "execution_count": 592,
   "source": [
    "# chi-square test between Quarter and Clicked\r\n",
    "a = pd.Categorical(data['Quarter'])\r\n",
    "b = pd.Categorical(data['Clicked'])\r\n",
    "ct = pd.crosstab(a,b)\r\n",
    "stat, p, dof, expected = chi2_contingency(ct)\r\n",
    "print(\"Chi2: {:.2f} | p-value: {:.2f}\".format(stat, p))"
   ],
   "outputs": [
    {
     "output_type": "stream",
     "name": "stdout",
     "text": [
      "Chi2: 1.01 | p-value: 0.32\n"
     ]
    }
   ],
   "metadata": {}
  },
  {
   "cell_type": "markdown",
   "source": [
    "Quarter does not appear to have a significant relationship with the response variable. We should remove this variable."
   ],
   "metadata": {}
  },
  {
   "cell_type": "code",
   "execution_count": 593,
   "source": [
    "data.drop('Quarter', 1, inplace=True)"
   ],
   "outputs": [],
   "metadata": {}
  },
  {
   "cell_type": "code",
   "execution_count": 594,
   "source": [
    "# correlations between variables\r\n",
    "num_vars = ['Daily Time Spent on Site','Age','Area Income','Daily Internet Usage','Clicked','Time of Day']\r\n",
    "data[num_vars].corr()"
   ],
   "outputs": [
    {
     "output_type": "execute_result",
     "data": {
      "text/html": [
       "<div>\n",
       "<style scoped>\n",
       "    .dataframe tbody tr th:only-of-type {\n",
       "        vertical-align: middle;\n",
       "    }\n",
       "\n",
       "    .dataframe tbody tr th {\n",
       "        vertical-align: top;\n",
       "    }\n",
       "\n",
       "    .dataframe thead th {\n",
       "        text-align: right;\n",
       "    }\n",
       "</style>\n",
       "<table border=\"1\" class=\"dataframe\">\n",
       "  <thead>\n",
       "    <tr style=\"text-align: right;\">\n",
       "      <th></th>\n",
       "      <th>Daily Time Spent on Site</th>\n",
       "      <th>Age</th>\n",
       "      <th>Area Income</th>\n",
       "      <th>Daily Internet Usage</th>\n",
       "      <th>Clicked</th>\n",
       "      <th>Time of Day</th>\n",
       "    </tr>\n",
       "  </thead>\n",
       "  <tbody>\n",
       "    <tr>\n",
       "      <th>Daily Time Spent on Site</th>\n",
       "      <td>1.000000</td>\n",
       "      <td>-0.247097</td>\n",
       "      <td>0.324726</td>\n",
       "      <td>0.374857</td>\n",
       "      <td>-0.581175</td>\n",
       "      <td>-0.000697</td>\n",
       "    </tr>\n",
       "    <tr>\n",
       "      <th>Age</th>\n",
       "      <td>-0.247097</td>\n",
       "      <td>1.000000</td>\n",
       "      <td>-0.191739</td>\n",
       "      <td>-0.310589</td>\n",
       "      <td>0.370820</td>\n",
       "      <td>-0.025217</td>\n",
       "    </tr>\n",
       "    <tr>\n",
       "      <th>Area Income</th>\n",
       "      <td>0.324726</td>\n",
       "      <td>-0.191739</td>\n",
       "      <td>1.000000</td>\n",
       "      <td>0.343353</td>\n",
       "      <td>-0.479343</td>\n",
       "      <td>0.025362</td>\n",
       "    </tr>\n",
       "    <tr>\n",
       "      <th>Daily Internet Usage</th>\n",
       "      <td>0.374857</td>\n",
       "      <td>-0.310589</td>\n",
       "      <td>0.343353</td>\n",
       "      <td>1.000000</td>\n",
       "      <td>-0.589340</td>\n",
       "      <td>0.092216</td>\n",
       "    </tr>\n",
       "    <tr>\n",
       "      <th>Clicked</th>\n",
       "      <td>-0.581175</td>\n",
       "      <td>0.370820</td>\n",
       "      <td>-0.479343</td>\n",
       "      <td>-0.589340</td>\n",
       "      <td>1.000000</td>\n",
       "      <td>-0.051893</td>\n",
       "    </tr>\n",
       "    <tr>\n",
       "      <th>Time of Day</th>\n",
       "      <td>-0.000697</td>\n",
       "      <td>-0.025217</td>\n",
       "      <td>0.025362</td>\n",
       "      <td>0.092216</td>\n",
       "      <td>-0.051893</td>\n",
       "      <td>1.000000</td>\n",
       "    </tr>\n",
       "  </tbody>\n",
       "</table>\n",
       "</div>"
      ],
      "text/plain": [
       "                          Daily Time Spent on Site       Age  Area Income  \\\n",
       "Daily Time Spent on Site                  1.000000 -0.247097     0.324726   \n",
       "Age                                      -0.247097  1.000000    -0.191739   \n",
       "Area Income                               0.324726 -0.191739     1.000000   \n",
       "Daily Internet Usage                      0.374857 -0.310589     0.343353   \n",
       "Clicked                                  -0.581175  0.370820    -0.479343   \n",
       "Time of Day                              -0.000697 -0.025217     0.025362   \n",
       "\n",
       "                          Daily Internet Usage   Clicked  Time of Day  \n",
       "Daily Time Spent on Site              0.374857 -0.581175    -0.000697  \n",
       "Age                                  -0.310589  0.370820    -0.025217  \n",
       "Area Income                           0.343353 -0.479343     0.025362  \n",
       "Daily Internet Usage                  1.000000 -0.589340     0.092216  \n",
       "Clicked                              -0.589340  1.000000    -0.051893  \n",
       "Time of Day                           0.092216 -0.051893     1.000000  "
      ]
     },
     "metadata": {},
     "execution_count": 594
    }
   ],
   "metadata": {}
  },
  {
   "cell_type": "markdown",
   "source": [
    "People who clicked advertisements appear to be those who:\r\n",
    "* spent a low amount of time on site \r\n",
    "* spent a low amount of time on the internet\r\n",
    "* live in areas with lower average income\r\n",
    "* were generally older in age"
   ],
   "metadata": {}
  },
  {
   "cell_type": "markdown",
   "source": [
    "## Visualization, Modeling, Machine Learning\n",
    "\n",
    "Predict which users might click a particular advertisement.\n",
    "Please explain the findings effectively to technical and non-technical audiences using comments and visualizations, if appropriate.\n",
    "- **Build an optimized model that effectively solves the business problem.**\n",
    "- **The model's performance will be evaluated on the basis of accuracy.**\n",
    "- **Read the test.csv file and prepare features for testing.**"
   ],
   "metadata": {
    "colab_type": "text",
    "id": "ymsdDaIPIKSX"
   }
  },
  {
   "cell_type": "code",
   "execution_count": 595,
   "source": [
    "data['Ad Topic Line'].sample(10)"
   ],
   "outputs": [
    {
     "output_type": "execute_result",
     "data": {
      "text/plain": [
       "id\n",
       "1448            Enterprise-wide foreground emulation\n",
       "1280     Vision-oriented contextually-based extranet\n",
       "1698                     Robust transitional ability\n",
       "2152          Public-key non-volatile implementation\n",
       "1894    Reverse-engineered well-modulated capability\n",
       "1964                   Total coherent superstructure\n",
       "1600       Reverse-engineered content-based intranet\n",
       "1629                        Ergonomic neutral portal\n",
       "1684                  Exclusive zero tolerance frame\n",
       "2149                    Networked local secured line\n",
       "Name: Ad Topic Line, dtype: object"
      ]
     },
     "metadata": {},
     "execution_count": 595
    }
   ],
   "metadata": {}
  },
  {
   "cell_type": "code",
   "execution_count": 596,
   "source": [
    "def clean_text(x):\r\n",
    "    \"\"\"[function to clean text]\r\n",
    "    removes non-alphanumeric characters and lowers text\r\n",
    "    Args:\r\n",
    "        x ([str]): [a string]\r\n",
    "\r\n",
    "    Returns:\r\n",
    "        [str]: [clean string]\r\n",
    "    \"\"\"\r\n",
    "    pattern = re.compile('[^a-zA-Z0-9]+')\r\n",
    "    out = ' '.join(re.sub(pattern, ' ', x).lower().split())\r\n",
    "    return out"
   ],
   "outputs": [],
   "metadata": {}
  },
  {
   "cell_type": "code",
   "execution_count": 597,
   "source": [
    "import nltk\r\n",
    "nltk.download('punkt')"
   ],
   "outputs": [
    {
     "output_type": "stream",
     "name": "stderr",
     "text": [
      "[nltk_data] Downloading package punkt to\n",
      "[nltk_data]     C:\\Users\\white\\AppData\\Roaming\\nltk_data...\n",
      "[nltk_data]   Package punkt is already up-to-date!\n"
     ]
    },
    {
     "output_type": "execute_result",
     "data": {
      "text/plain": [
       "True"
      ]
     },
     "metadata": {},
     "execution_count": 597
    }
   ],
   "metadata": {}
  },
  {
   "cell_type": "code",
   "execution_count": 598,
   "source": [
    "def get_document_statistics(clean_str_list):\r\n",
    "    \"\"\"[function to compute and print document statistics]\r\n",
    "    - avg characters per line\r\n",
    "    - avg words per line\r\n",
    "    - avg vocab per line\r\n",
    "    - avg lexical richness per line\r\n",
    "    Args:\r\n",
    "        clean_str_list ([list]): [list of cleaned text strings]\r\n",
    "    \"\"\"\r\n",
    "    docs = [word_tokenize(x) for x in clean_str_list]\r\n",
    "    # avg number of characters per ad topic line\r\n",
    "    avg_chars = int(sum([len(t) for t in texts]) / len(texts))\r\n",
    "    print('Average number of characters per line: {:d}'.format(avg_chars))\r\n",
    "    # average number of words per ad topic line\r\n",
    "    avg_words = int(sum([len(doc) for doc in docs]) / len(docs))\r\n",
    "    print('Average number of words per line: {:d}'.format(avg_words))\r\n",
    "    # average vocabulary size per ad topic line\r\n",
    "    avg_vocab = int(sum([len(set(doc)) for doc in docs]) / len(docs))\r\n",
    "    print('Average vocabulary size per line: {:d}'.format(avg_vocab))\r\n",
    "    # average lexical richness per line (proportion of unique words to total words)\r\n",
    "    avg_lex_rich = sum([len(set(doc)) / len(doc) for doc in docs if len(doc) > 0]) / len(docs)\r\n",
    "    print('Average lexical richness per line: {:.2f}'.format(avg_lex_rich))"
   ],
   "outputs": [],
   "metadata": {}
  },
  {
   "cell_type": "code",
   "execution_count": 599,
   "source": [
    "# ad line text statistics of not-clicked ad topic lines\r\n",
    "print('Text statistics for Ad Topic Lines that were not clicked')\r\n",
    "texts = data.loc[data['Clicked']==0, 'Ad Topic Line'].apply(clean_text)\r\n",
    "get_document_statistics(texts)"
   ],
   "outputs": [
    {
     "output_type": "stream",
     "name": "stdout",
     "text": [
      "Text statistics for Ad Topic Lines that were not clicked\n",
      "Average number of characters per line: 32\n",
      "Average number of words per line: 3\n",
      "Average vocabulary size per line: 3\n",
      "Average lexical richness per line: 1.00\n"
     ]
    }
   ],
   "metadata": {}
  },
  {
   "cell_type": "code",
   "execution_count": 600,
   "source": [
    "# ad line text statistics of not-clicked ad topic lines\r\n",
    "print('Text statistics for Ad Topic Lines that were clicked')\r\n",
    "texts = data.loc[data['Clicked']==1, 'Ad Topic Line'].apply(clean_text)\r\n",
    "get_document_statistics(texts)"
   ],
   "outputs": [
    {
     "output_type": "stream",
     "name": "stdout",
     "text": [
      "Text statistics for Ad Topic Lines that were clicked\n",
      "Average number of characters per line: 33\n",
      "Average number of words per line: 3\n",
      "Average vocabulary size per line: 3\n",
      "Average lexical richness per line: 1.00\n"
     ]
    }
   ],
   "metadata": {}
  },
  {
   "cell_type": "code",
   "execution_count": 601,
   "source": [
    "def get_corpus_statistics(clean_str_list):\r\n",
    "    \"\"\"[function to compute and print document statistics]\r\n",
    "    - total number of words\r\n",
    "    - total vocab size\r\n",
    "    - total lexical richness\r\n",
    "    - avg chars per word\r\n",
    "    Args:\r\n",
    "        clean_str_list ([list]): [list of cleaned text strings]\r\n",
    "    \"\"\"\r\n",
    "    docs = [word_tokenize(x) for x in clean_str_list]\r\n",
    "    words = []\r\n",
    "    for doc in docs:\r\n",
    "        words.extend(doc)\r\n",
    "    # total number of words\r\n",
    "    print(\"Total number of words: {:d}\".format(len(words)))\r\n",
    "    # vocabulary size\r\n",
    "    print(\"Total vocabulary size: {:d}\".format(len(set(words))))\r\n",
    "    # lexical richness\r\n",
    "    print(\"Total lexical richness: {:.2f}\".format(len(set(words)) / len(words)))\r\n",
    "    # average number of characters per word\r\n",
    "    word_lengths = [len(w) for w in words]\r\n",
    "    print(\"Average number of characters per word: {:.2f}\".format(sum(word_lengths) / len(word_lengths)))"
   ],
   "outputs": [],
   "metadata": {}
  },
  {
   "cell_type": "code",
   "execution_count": 602,
   "source": [
    "# corpus statistics of not-clicked ad topic lines\r\n",
    "print(\"Corpus level statistics for Ad Topic Lines that were not clicked\")\r\n",
    "texts = data.loc[data['Clicked']==0, 'Ad Topic Line'].apply(clean_text)\r\n",
    "get_corpus_statistics(texts)"
   ],
   "outputs": [
    {
     "output_type": "stream",
     "name": "stdout",
     "text": [
      "Corpus level statistics for Ad Topic Lines that were not clicked\n",
      "Total number of words: 1964\n",
      "Total vocabulary size: 341\n",
      "Total lexical richness: 0.17\n",
      "Average number of characters per word: 7.58\n"
     ]
    }
   ],
   "metadata": {}
  },
  {
   "cell_type": "code",
   "execution_count": 603,
   "source": [
    "# corpus statistics of clicked ad topic lines\r\n",
    "print(\"Corpus level statistics for Ad Topic Lines that were clicked\")\r\n",
    "texts = data.loc[data['Clicked']==1, 'Ad Topic Line'].apply(clean_text)\r\n",
    "get_corpus_statistics(texts)"
   ],
   "outputs": [
    {
     "output_type": "stream",
     "name": "stdout",
     "text": [
      "Corpus level statistics for Ad Topic Lines that were clicked\n",
      "Total number of words: 1999\n",
      "Total vocabulary size: 341\n",
      "Total lexical richness: 0.17\n",
      "Average number of characters per word: 7.70\n"
     ]
    }
   ],
   "metadata": {}
  },
  {
   "cell_type": "markdown",
   "source": [
    "Simple text statistics do not seem to distinguish between classes very well."
   ],
   "metadata": {}
  },
  {
   "cell_type": "code",
   "execution_count": 604,
   "source": [
    "# Frequency distribution of not-clicked ad topic lines\r\n",
    "print('Frequency distributions for Ad Topic lines that were not clicked')\r\n",
    "texts = data.loc[data['Clicked']==0, 'Ad Topic Line'].apply(clean_text)\r\n",
    "docs = [word_tokenize(x) for x in texts]\r\n",
    "words = []\r\n",
    "for doc in docs:\r\n",
    "    words.extend(doc)\r\n",
    "fdist_not_clicked = FreqDist(words)\r\n",
    "fdist_not_clicked.plot(30, title = 'Top 30 Common Words - Not Clicked');"
   ],
   "outputs": [
    {
     "output_type": "stream",
     "name": "stdout",
     "text": [
      "Frequency distributions for Ad Topic lines that were not clicked\n"
     ]
    },
    {
     "output_type": "display_data",
     "data": {
      "image/png": "[encoded data removed]",
      "text/plain": [
       "<Figure size 432x288 with 1 Axes>"
      ]
     },
     "metadata": {
      "needs_background": "light"
     }
    }
   ],
   "metadata": {}
  },
  {
   "cell_type": "code",
   "execution_count": 605,
   "source": [
    "# Frequency distribution of clicked ad topic lines\r\n",
    "print('Frequency distributions for Ad Topic lines that were clicked')\r\n",
    "texts = data.loc[data['Clicked']==1, 'Ad Topic Line'].apply(clean_text)\r\n",
    "docs = [word_tokenize(x) for x in texts]\r\n",
    "words = []\r\n",
    "for doc in docs:\r\n",
    "    words.extend(doc)\r\n",
    "fdist_clicked = FreqDist(words)\r\n",
    "fdist_clicked.plot(30, title = 'Top 30 Common Words - Clicked');"
   ],
   "outputs": [
    {
     "output_type": "stream",
     "name": "stdout",
     "text": [
      "Frequency distributions for Ad Topic lines that were clicked\n"
     ]
    },
    {
     "output_type": "display_data",
     "data": {
      "image/png": "[encoded data removed]",
      "text/plain": [
       "<Figure size 432x288 with 1 Axes>"
      ]
     },
     "metadata": {
      "needs_background": "light"
     }
    }
   ],
   "metadata": {}
  },
  {
   "cell_type": "markdown",
   "source": [
    "Distributions of top terms appear similar between classes of the response variable."
   ],
   "metadata": {}
  },
  {
   "cell_type": "markdown",
   "source": [
    "### Vectorization, Clustering, LDA"
   ],
   "metadata": {}
  },
  {
   "cell_type": "code",
   "execution_count": 606,
   "source": [
    "import nltk\r\n",
    "nltk.download('stopwords')"
   ],
   "outputs": [
    {
     "output_type": "stream",
     "name": "stderr",
     "text": [
      "[nltk_data] Downloading package stopwords to\n",
      "[nltk_data]     C:\\Users\\white\\AppData\\Roaming\\nltk_data...\n",
      "[nltk_data]   Package stopwords is already up-to-date!\n"
     ]
    },
    {
     "output_type": "execute_result",
     "data": {
      "text/plain": [
       "True"
      ]
     },
     "metadata": {},
     "execution_count": 606
    }
   ],
   "metadata": {}
  },
  {
   "cell_type": "code",
   "execution_count": 607,
   "source": [
    "from nltk.corpus import stopwords\r\n",
    "# common english stopwords\r\n",
    "stopwords = stopwords.words('english')\r\n",
    "\r\n",
    "# vectorization\r\n",
    "pattern = re.compile(r'[A-Za-z]+') # custom token pattern alphabetic words\r\n",
    "vec = TfidfVectorizer(\r\n",
    "    max_df = 0.95, min_df = 2, stop_words = stopwords,\r\n",
    "    use_idf = True, norm = 'l2', token_pattern = pattern, ngram_range=(1,2)\r\n",
    ")\r\n",
    "dtm = vec.fit_transform(data['Ad Topic Line'])\r\n",
    "feat_names = vec.get_feature_names()\r\n",
    "print('Vocabulary size: {:d}'.format(len(feat_names)))\r\n",
    "# convert to array\r\n",
    "dtm_array = dtm.toarray()\r\n",
    "# scale features\r\n",
    "dtm_norm = scale(dtm_array)\r\n",
    "# convert to dataframe\r\n",
    "dtm_df = pd.DataFrame(dtm_array, columns = feat_names, index=data.index.values)\r\n",
    "dtm_df.head()"
   ],
   "outputs": [
    {
     "output_type": "stream",
     "name": "stdout",
     "text": [
      "Vocabulary size: 834\n"
     ]
    },
    {
     "output_type": "execute_result",
     "data": {
      "text/html": [
       "<div>\n",
       "<style scoped>\n",
       "    .dataframe tbody tr th:only-of-type {\n",
       "        vertical-align: middle;\n",
       "    }\n",
       "\n",
       "    .dataframe tbody tr th {\n",
       "        vertical-align: top;\n",
       "    }\n",
       "\n",
       "    .dataframe thead th {\n",
       "        text-align: right;\n",
       "    }\n",
       "</style>\n",
       "<table border=\"1\" class=\"dataframe\">\n",
       "  <thead>\n",
       "    <tr style=\"text-align: right;\">\n",
       "      <th></th>\n",
       "      <th>ability</th>\n",
       "      <th>access</th>\n",
       "      <th>actuating</th>\n",
       "      <th>adapter</th>\n",
       "      <th>adaptive</th>\n",
       "      <th>adaptive hour</th>\n",
       "      <th>added</th>\n",
       "      <th>administration</th>\n",
       "      <th>administration instruction</th>\n",
       "      <th>administration neural</th>\n",
       "      <th>administration secured</th>\n",
       "      <th>administration success</th>\n",
       "      <th>advanced</th>\n",
       "      <th>advanced exuding</th>\n",
       "      <th>advanced systemic</th>\n",
       "      <th>algorithm</th>\n",
       "      <th>alliance</th>\n",
       "      <th>alone</th>\n",
       "      <th>alone eco</th>\n",
       "      <th>alone explicit</th>\n",
       "      <th>ameliorated</th>\n",
       "      <th>ameliorated client</th>\n",
       "      <th>ameliorated coherent</th>\n",
       "      <th>ameliorated exuding</th>\n",
       "      <th>ameliorated upward</th>\n",
       "      <th>analyzer</th>\n",
       "      <th>analyzing</th>\n",
       "      <th>analyzing concept</th>\n",
       "      <th>analyzing emulation</th>\n",
       "      <th>analyzing encryption</th>\n",
       "      <th>application</th>\n",
       "      <th>approach</th>\n",
       "      <th>architected</th>\n",
       "      <th>architected intangible</th>\n",
       "      <th>architected needs</th>\n",
       "      <th>architected system</th>\n",
       "      <th>architected zero</th>\n",
       "      <th>architecture</th>\n",
       "      <th>archive</th>\n",
       "      <th>area</th>\n",
       "      <th>area network</th>\n",
       "      <th>array</th>\n",
       "      <th>assimilated</th>\n",
       "      <th>assimilated hybrid</th>\n",
       "      <th>assimilated next</th>\n",
       "      <th>asymmetric</th>\n",
       "      <th>asymmetric emulation</th>\n",
       "      <th>asymmetric infrastructure</th>\n",
       "      <th>asynchronous</th>\n",
       "      <th>asynchronous application</th>\n",
       "      <th>...</th>\n",
       "      <th>universal empowering</th>\n",
       "      <th>universal incremental</th>\n",
       "      <th>upgradable</th>\n",
       "      <th>upgradable asymmetric</th>\n",
       "      <th>upgradable even</th>\n",
       "      <th>upward</th>\n",
       "      <th>upward trending</th>\n",
       "      <th>user</th>\n",
       "      <th>user centric</th>\n",
       "      <th>user facing</th>\n",
       "      <th>user friendly</th>\n",
       "      <th>user interface</th>\n",
       "      <th>utilization</th>\n",
       "      <th>value</th>\n",
       "      <th>value added</th>\n",
       "      <th>versatile</th>\n",
       "      <th>versatile local</th>\n",
       "      <th>versatile scalable</th>\n",
       "      <th>versatile solution</th>\n",
       "      <th>versatile thgeneration</th>\n",
       "      <th>virtual</th>\n",
       "      <th>virtual bandwidth</th>\n",
       "      <th>virtual executive</th>\n",
       "      <th>virtual impactful</th>\n",
       "      <th>virtual thgeneration</th>\n",
       "      <th>vision</th>\n",
       "      <th>vision oriented</th>\n",
       "      <th>visionary</th>\n",
       "      <th>volatile</th>\n",
       "      <th>volatile analyzer</th>\n",
       "      <th>volatile implementation</th>\n",
       "      <th>volatile neural</th>\n",
       "      <th>warehouse</th>\n",
       "      <th>web</th>\n",
       "      <th>web enabled</th>\n",
       "      <th>website</th>\n",
       "      <th>well</th>\n",
       "      <th>well modulated</th>\n",
       "      <th>wide</th>\n",
       "      <th>wide foreground</th>\n",
       "      <th>workforce</th>\n",
       "      <th>worthy</th>\n",
       "      <th>worthy forecast</th>\n",
       "      <th>worthy superstructure</th>\n",
       "      <th>worthy task</th>\n",
       "      <th>worthy toolset</th>\n",
       "      <th>zero</th>\n",
       "      <th>zero administration</th>\n",
       "      <th>zero defect</th>\n",
       "      <th>zero tolerance</th>\n",
       "    </tr>\n",
       "  </thead>\n",
       "  <tbody>\n",
       "    <tr>\n",
       "      <th>1200</th>\n",
       "      <td>0.0</td>\n",
       "      <td>0.0</td>\n",
       "      <td>0.000000</td>\n",
       "      <td>0.0</td>\n",
       "      <td>0.0</td>\n",
       "      <td>0.0</td>\n",
       "      <td>0.0</td>\n",
       "      <td>0.0</td>\n",
       "      <td>0.0</td>\n",
       "      <td>0.0</td>\n",
       "      <td>0.0</td>\n",
       "      <td>0.0</td>\n",
       "      <td>0.0</td>\n",
       "      <td>0.0</td>\n",
       "      <td>0.0</td>\n",
       "      <td>0.0</td>\n",
       "      <td>0.0</td>\n",
       "      <td>0.0</td>\n",
       "      <td>0.0</td>\n",
       "      <td>0.0</td>\n",
       "      <td>0.000000</td>\n",
       "      <td>0.0</td>\n",
       "      <td>0.0</td>\n",
       "      <td>0.0</td>\n",
       "      <td>0.0</td>\n",
       "      <td>0.0</td>\n",
       "      <td>0.0</td>\n",
       "      <td>0.0</td>\n",
       "      <td>0.0</td>\n",
       "      <td>0.0</td>\n",
       "      <td>0.0</td>\n",
       "      <td>0.0</td>\n",
       "      <td>0.0</td>\n",
       "      <td>0.0</td>\n",
       "      <td>0.0</td>\n",
       "      <td>0.0</td>\n",
       "      <td>0.0</td>\n",
       "      <td>0.0</td>\n",
       "      <td>0.0</td>\n",
       "      <td>0.0</td>\n",
       "      <td>0.0</td>\n",
       "      <td>0.0</td>\n",
       "      <td>0.0</td>\n",
       "      <td>0.0</td>\n",
       "      <td>0.0</td>\n",
       "      <td>0.0</td>\n",
       "      <td>0.0</td>\n",
       "      <td>0.0</td>\n",
       "      <td>0.0</td>\n",
       "      <td>0.0</td>\n",
       "      <td>...</td>\n",
       "      <td>0.0</td>\n",
       "      <td>0.0</td>\n",
       "      <td>0.0</td>\n",
       "      <td>0.0</td>\n",
       "      <td>0.0</td>\n",
       "      <td>0.0</td>\n",
       "      <td>0.0</td>\n",
       "      <td>0.000000</td>\n",
       "      <td>0.0</td>\n",
       "      <td>0.0</td>\n",
       "      <td>0.0</td>\n",
       "      <td>0.000000</td>\n",
       "      <td>0.0</td>\n",
       "      <td>0.0</td>\n",
       "      <td>0.0</td>\n",
       "      <td>0.0</td>\n",
       "      <td>0.0</td>\n",
       "      <td>0.0</td>\n",
       "      <td>0.0</td>\n",
       "      <td>0.0</td>\n",
       "      <td>0.0</td>\n",
       "      <td>0.0</td>\n",
       "      <td>0.0</td>\n",
       "      <td>0.0</td>\n",
       "      <td>0.0</td>\n",
       "      <td>0.0</td>\n",
       "      <td>0.0</td>\n",
       "      <td>0.0</td>\n",
       "      <td>0.0</td>\n",
       "      <td>0.0</td>\n",
       "      <td>0.0</td>\n",
       "      <td>0.0</td>\n",
       "      <td>0.0</td>\n",
       "      <td>0.0</td>\n",
       "      <td>0.0</td>\n",
       "      <td>0.0</td>\n",
       "      <td>0.0</td>\n",
       "      <td>0.0</td>\n",
       "      <td>0.0</td>\n",
       "      <td>0.0</td>\n",
       "      <td>0.000000</td>\n",
       "      <td>0.0</td>\n",
       "      <td>0.0</td>\n",
       "      <td>0.0</td>\n",
       "      <td>0.0</td>\n",
       "      <td>0.0</td>\n",
       "      <td>0.0</td>\n",
       "      <td>0.0</td>\n",
       "      <td>0.0</td>\n",
       "      <td>0.0</td>\n",
       "    </tr>\n",
       "    <tr>\n",
       "      <th>1201</th>\n",
       "      <td>0.0</td>\n",
       "      <td>0.0</td>\n",
       "      <td>0.610504</td>\n",
       "      <td>0.0</td>\n",
       "      <td>0.0</td>\n",
       "      <td>0.0</td>\n",
       "      <td>0.0</td>\n",
       "      <td>0.0</td>\n",
       "      <td>0.0</td>\n",
       "      <td>0.0</td>\n",
       "      <td>0.0</td>\n",
       "      <td>0.0</td>\n",
       "      <td>0.0</td>\n",
       "      <td>0.0</td>\n",
       "      <td>0.0</td>\n",
       "      <td>0.0</td>\n",
       "      <td>0.0</td>\n",
       "      <td>0.0</td>\n",
       "      <td>0.0</td>\n",
       "      <td>0.0</td>\n",
       "      <td>0.531562</td>\n",
       "      <td>0.0</td>\n",
       "      <td>0.0</td>\n",
       "      <td>0.0</td>\n",
       "      <td>0.0</td>\n",
       "      <td>0.0</td>\n",
       "      <td>0.0</td>\n",
       "      <td>0.0</td>\n",
       "      <td>0.0</td>\n",
       "      <td>0.0</td>\n",
       "      <td>0.0</td>\n",
       "      <td>0.0</td>\n",
       "      <td>0.0</td>\n",
       "      <td>0.0</td>\n",
       "      <td>0.0</td>\n",
       "      <td>0.0</td>\n",
       "      <td>0.0</td>\n",
       "      <td>0.0</td>\n",
       "      <td>0.0</td>\n",
       "      <td>0.0</td>\n",
       "      <td>0.0</td>\n",
       "      <td>0.0</td>\n",
       "      <td>0.0</td>\n",
       "      <td>0.0</td>\n",
       "      <td>0.0</td>\n",
       "      <td>0.0</td>\n",
       "      <td>0.0</td>\n",
       "      <td>0.0</td>\n",
       "      <td>0.0</td>\n",
       "      <td>0.0</td>\n",
       "      <td>...</td>\n",
       "      <td>0.0</td>\n",
       "      <td>0.0</td>\n",
       "      <td>0.0</td>\n",
       "      <td>0.0</td>\n",
       "      <td>0.0</td>\n",
       "      <td>0.0</td>\n",
       "      <td>0.0</td>\n",
       "      <td>0.000000</td>\n",
       "      <td>0.0</td>\n",
       "      <td>0.0</td>\n",
       "      <td>0.0</td>\n",
       "      <td>0.000000</td>\n",
       "      <td>0.0</td>\n",
       "      <td>0.0</td>\n",
       "      <td>0.0</td>\n",
       "      <td>0.0</td>\n",
       "      <td>0.0</td>\n",
       "      <td>0.0</td>\n",
       "      <td>0.0</td>\n",
       "      <td>0.0</td>\n",
       "      <td>0.0</td>\n",
       "      <td>0.0</td>\n",
       "      <td>0.0</td>\n",
       "      <td>0.0</td>\n",
       "      <td>0.0</td>\n",
       "      <td>0.0</td>\n",
       "      <td>0.0</td>\n",
       "      <td>0.0</td>\n",
       "      <td>0.0</td>\n",
       "      <td>0.0</td>\n",
       "      <td>0.0</td>\n",
       "      <td>0.0</td>\n",
       "      <td>0.0</td>\n",
       "      <td>0.0</td>\n",
       "      <td>0.0</td>\n",
       "      <td>0.0</td>\n",
       "      <td>0.0</td>\n",
       "      <td>0.0</td>\n",
       "      <td>0.0</td>\n",
       "      <td>0.0</td>\n",
       "      <td>0.587134</td>\n",
       "      <td>0.0</td>\n",
       "      <td>0.0</td>\n",
       "      <td>0.0</td>\n",
       "      <td>0.0</td>\n",
       "      <td>0.0</td>\n",
       "      <td>0.0</td>\n",
       "      <td>0.0</td>\n",
       "      <td>0.0</td>\n",
       "      <td>0.0</td>\n",
       "    </tr>\n",
       "    <tr>\n",
       "      <th>1202</th>\n",
       "      <td>0.0</td>\n",
       "      <td>0.0</td>\n",
       "      <td>0.000000</td>\n",
       "      <td>0.0</td>\n",
       "      <td>0.0</td>\n",
       "      <td>0.0</td>\n",
       "      <td>0.0</td>\n",
       "      <td>0.0</td>\n",
       "      <td>0.0</td>\n",
       "      <td>0.0</td>\n",
       "      <td>0.0</td>\n",
       "      <td>0.0</td>\n",
       "      <td>0.0</td>\n",
       "      <td>0.0</td>\n",
       "      <td>0.0</td>\n",
       "      <td>0.0</td>\n",
       "      <td>0.0</td>\n",
       "      <td>0.0</td>\n",
       "      <td>0.0</td>\n",
       "      <td>0.0</td>\n",
       "      <td>0.000000</td>\n",
       "      <td>0.0</td>\n",
       "      <td>0.0</td>\n",
       "      <td>0.0</td>\n",
       "      <td>0.0</td>\n",
       "      <td>0.0</td>\n",
       "      <td>0.0</td>\n",
       "      <td>0.0</td>\n",
       "      <td>0.0</td>\n",
       "      <td>0.0</td>\n",
       "      <td>0.0</td>\n",
       "      <td>0.0</td>\n",
       "      <td>0.0</td>\n",
       "      <td>0.0</td>\n",
       "      <td>0.0</td>\n",
       "      <td>0.0</td>\n",
       "      <td>0.0</td>\n",
       "      <td>0.0</td>\n",
       "      <td>0.0</td>\n",
       "      <td>0.0</td>\n",
       "      <td>0.0</td>\n",
       "      <td>0.0</td>\n",
       "      <td>0.0</td>\n",
       "      <td>0.0</td>\n",
       "      <td>0.0</td>\n",
       "      <td>0.0</td>\n",
       "      <td>0.0</td>\n",
       "      <td>0.0</td>\n",
       "      <td>0.0</td>\n",
       "      <td>0.0</td>\n",
       "      <td>...</td>\n",
       "      <td>0.0</td>\n",
       "      <td>0.0</td>\n",
       "      <td>0.0</td>\n",
       "      <td>0.0</td>\n",
       "      <td>0.0</td>\n",
       "      <td>0.0</td>\n",
       "      <td>0.0</td>\n",
       "      <td>0.000000</td>\n",
       "      <td>0.0</td>\n",
       "      <td>0.0</td>\n",
       "      <td>0.0</td>\n",
       "      <td>0.000000</td>\n",
       "      <td>0.0</td>\n",
       "      <td>0.0</td>\n",
       "      <td>0.0</td>\n",
       "      <td>0.0</td>\n",
       "      <td>0.0</td>\n",
       "      <td>0.0</td>\n",
       "      <td>0.0</td>\n",
       "      <td>0.0</td>\n",
       "      <td>0.0</td>\n",
       "      <td>0.0</td>\n",
       "      <td>0.0</td>\n",
       "      <td>0.0</td>\n",
       "      <td>0.0</td>\n",
       "      <td>0.0</td>\n",
       "      <td>0.0</td>\n",
       "      <td>0.0</td>\n",
       "      <td>0.0</td>\n",
       "      <td>0.0</td>\n",
       "      <td>0.0</td>\n",
       "      <td>0.0</td>\n",
       "      <td>0.0</td>\n",
       "      <td>0.0</td>\n",
       "      <td>0.0</td>\n",
       "      <td>0.0</td>\n",
       "      <td>0.0</td>\n",
       "      <td>0.0</td>\n",
       "      <td>0.0</td>\n",
       "      <td>0.0</td>\n",
       "      <td>0.000000</td>\n",
       "      <td>0.0</td>\n",
       "      <td>0.0</td>\n",
       "      <td>0.0</td>\n",
       "      <td>0.0</td>\n",
       "      <td>0.0</td>\n",
       "      <td>0.0</td>\n",
       "      <td>0.0</td>\n",
       "      <td>0.0</td>\n",
       "      <td>0.0</td>\n",
       "    </tr>\n",
       "    <tr>\n",
       "      <th>1203</th>\n",
       "      <td>0.0</td>\n",
       "      <td>0.0</td>\n",
       "      <td>0.000000</td>\n",
       "      <td>0.0</td>\n",
       "      <td>0.0</td>\n",
       "      <td>0.0</td>\n",
       "      <td>0.0</td>\n",
       "      <td>0.0</td>\n",
       "      <td>0.0</td>\n",
       "      <td>0.0</td>\n",
       "      <td>0.0</td>\n",
       "      <td>0.0</td>\n",
       "      <td>0.0</td>\n",
       "      <td>0.0</td>\n",
       "      <td>0.0</td>\n",
       "      <td>0.0</td>\n",
       "      <td>0.0</td>\n",
       "      <td>0.0</td>\n",
       "      <td>0.0</td>\n",
       "      <td>0.0</td>\n",
       "      <td>0.000000</td>\n",
       "      <td>0.0</td>\n",
       "      <td>0.0</td>\n",
       "      <td>0.0</td>\n",
       "      <td>0.0</td>\n",
       "      <td>0.0</td>\n",
       "      <td>0.0</td>\n",
       "      <td>0.0</td>\n",
       "      <td>0.0</td>\n",
       "      <td>0.0</td>\n",
       "      <td>0.0</td>\n",
       "      <td>0.0</td>\n",
       "      <td>0.0</td>\n",
       "      <td>0.0</td>\n",
       "      <td>0.0</td>\n",
       "      <td>0.0</td>\n",
       "      <td>0.0</td>\n",
       "      <td>0.0</td>\n",
       "      <td>0.0</td>\n",
       "      <td>0.0</td>\n",
       "      <td>0.0</td>\n",
       "      <td>0.0</td>\n",
       "      <td>0.0</td>\n",
       "      <td>0.0</td>\n",
       "      <td>0.0</td>\n",
       "      <td>0.0</td>\n",
       "      <td>0.0</td>\n",
       "      <td>0.0</td>\n",
       "      <td>0.0</td>\n",
       "      <td>0.0</td>\n",
       "      <td>...</td>\n",
       "      <td>0.0</td>\n",
       "      <td>0.0</td>\n",
       "      <td>0.0</td>\n",
       "      <td>0.0</td>\n",
       "      <td>0.0</td>\n",
       "      <td>0.0</td>\n",
       "      <td>0.0</td>\n",
       "      <td>0.271766</td>\n",
       "      <td>0.0</td>\n",
       "      <td>0.0</td>\n",
       "      <td>0.0</td>\n",
       "      <td>0.349121</td>\n",
       "      <td>0.0</td>\n",
       "      <td>0.0</td>\n",
       "      <td>0.0</td>\n",
       "      <td>0.0</td>\n",
       "      <td>0.0</td>\n",
       "      <td>0.0</td>\n",
       "      <td>0.0</td>\n",
       "      <td>0.0</td>\n",
       "      <td>0.0</td>\n",
       "      <td>0.0</td>\n",
       "      <td>0.0</td>\n",
       "      <td>0.0</td>\n",
       "      <td>0.0</td>\n",
       "      <td>0.0</td>\n",
       "      <td>0.0</td>\n",
       "      <td>0.0</td>\n",
       "      <td>0.0</td>\n",
       "      <td>0.0</td>\n",
       "      <td>0.0</td>\n",
       "      <td>0.0</td>\n",
       "      <td>0.0</td>\n",
       "      <td>0.0</td>\n",
       "      <td>0.0</td>\n",
       "      <td>0.0</td>\n",
       "      <td>0.0</td>\n",
       "      <td>0.0</td>\n",
       "      <td>0.0</td>\n",
       "      <td>0.0</td>\n",
       "      <td>0.000000</td>\n",
       "      <td>0.0</td>\n",
       "      <td>0.0</td>\n",
       "      <td>0.0</td>\n",
       "      <td>0.0</td>\n",
       "      <td>0.0</td>\n",
       "      <td>0.0</td>\n",
       "      <td>0.0</td>\n",
       "      <td>0.0</td>\n",
       "      <td>0.0</td>\n",
       "    </tr>\n",
       "    <tr>\n",
       "      <th>1204</th>\n",
       "      <td>0.0</td>\n",
       "      <td>0.0</td>\n",
       "      <td>0.000000</td>\n",
       "      <td>0.0</td>\n",
       "      <td>0.0</td>\n",
       "      <td>0.0</td>\n",
       "      <td>0.0</td>\n",
       "      <td>0.0</td>\n",
       "      <td>0.0</td>\n",
       "      <td>0.0</td>\n",
       "      <td>0.0</td>\n",
       "      <td>0.0</td>\n",
       "      <td>0.0</td>\n",
       "      <td>0.0</td>\n",
       "      <td>0.0</td>\n",
       "      <td>0.0</td>\n",
       "      <td>0.0</td>\n",
       "      <td>0.0</td>\n",
       "      <td>0.0</td>\n",
       "      <td>0.0</td>\n",
       "      <td>0.000000</td>\n",
       "      <td>0.0</td>\n",
       "      <td>0.0</td>\n",
       "      <td>0.0</td>\n",
       "      <td>0.0</td>\n",
       "      <td>0.0</td>\n",
       "      <td>0.0</td>\n",
       "      <td>0.0</td>\n",
       "      <td>0.0</td>\n",
       "      <td>0.0</td>\n",
       "      <td>0.0</td>\n",
       "      <td>0.0</td>\n",
       "      <td>0.0</td>\n",
       "      <td>0.0</td>\n",
       "      <td>0.0</td>\n",
       "      <td>0.0</td>\n",
       "      <td>0.0</td>\n",
       "      <td>0.0</td>\n",
       "      <td>0.0</td>\n",
       "      <td>0.0</td>\n",
       "      <td>0.0</td>\n",
       "      <td>0.0</td>\n",
       "      <td>0.0</td>\n",
       "      <td>0.0</td>\n",
       "      <td>0.0</td>\n",
       "      <td>0.0</td>\n",
       "      <td>0.0</td>\n",
       "      <td>0.0</td>\n",
       "      <td>0.0</td>\n",
       "      <td>0.0</td>\n",
       "      <td>...</td>\n",
       "      <td>0.0</td>\n",
       "      <td>0.0</td>\n",
       "      <td>0.0</td>\n",
       "      <td>0.0</td>\n",
       "      <td>0.0</td>\n",
       "      <td>0.0</td>\n",
       "      <td>0.0</td>\n",
       "      <td>0.000000</td>\n",
       "      <td>0.0</td>\n",
       "      <td>0.0</td>\n",
       "      <td>0.0</td>\n",
       "      <td>0.000000</td>\n",
       "      <td>0.0</td>\n",
       "      <td>0.0</td>\n",
       "      <td>0.0</td>\n",
       "      <td>0.0</td>\n",
       "      <td>0.0</td>\n",
       "      <td>0.0</td>\n",
       "      <td>0.0</td>\n",
       "      <td>0.0</td>\n",
       "      <td>0.0</td>\n",
       "      <td>0.0</td>\n",
       "      <td>0.0</td>\n",
       "      <td>0.0</td>\n",
       "      <td>0.0</td>\n",
       "      <td>0.0</td>\n",
       "      <td>0.0</td>\n",
       "      <td>0.0</td>\n",
       "      <td>0.0</td>\n",
       "      <td>0.0</td>\n",
       "      <td>0.0</td>\n",
       "      <td>0.0</td>\n",
       "      <td>0.0</td>\n",
       "      <td>0.0</td>\n",
       "      <td>0.0</td>\n",
       "      <td>0.0</td>\n",
       "      <td>0.0</td>\n",
       "      <td>0.0</td>\n",
       "      <td>0.0</td>\n",
       "      <td>0.0</td>\n",
       "      <td>0.000000</td>\n",
       "      <td>0.0</td>\n",
       "      <td>0.0</td>\n",
       "      <td>0.0</td>\n",
       "      <td>0.0</td>\n",
       "      <td>0.0</td>\n",
       "      <td>0.0</td>\n",
       "      <td>0.0</td>\n",
       "      <td>0.0</td>\n",
       "      <td>0.0</td>\n",
       "    </tr>\n",
       "  </tbody>\n",
       "</table>\n",
       "<p>5 rows × 834 columns</p>\n",
       "</div>"
      ],
      "text/plain": [
       "      ability  access  actuating  adapter  adaptive  adaptive hour  added  \\\n",
       "1200      0.0     0.0   0.000000      0.0       0.0            0.0    0.0   \n",
       "1201      0.0     0.0   0.610504      0.0       0.0            0.0    0.0   \n",
       "1202      0.0     0.0   0.000000      0.0       0.0            0.0    0.0   \n",
       "1203      0.0     0.0   0.000000      0.0       0.0            0.0    0.0   \n",
       "1204      0.0     0.0   0.000000      0.0       0.0            0.0    0.0   \n",
       "\n",
       "      administration  administration instruction  administration neural  \\\n",
       "1200             0.0                         0.0                    0.0   \n",
       "1201             0.0                         0.0                    0.0   \n",
       "1202             0.0                         0.0                    0.0   \n",
       "1203             0.0                         0.0                    0.0   \n",
       "1204             0.0                         0.0                    0.0   \n",
       "\n",
       "      administration secured  administration success  advanced  \\\n",
       "1200                     0.0                     0.0       0.0   \n",
       "1201                     0.0                     0.0       0.0   \n",
       "1202                     0.0                     0.0       0.0   \n",
       "1203                     0.0                     0.0       0.0   \n",
       "1204                     0.0                     0.0       0.0   \n",
       "\n",
       "      advanced exuding  advanced systemic  algorithm  alliance  alone  \\\n",
       "1200               0.0                0.0        0.0       0.0    0.0   \n",
       "1201               0.0                0.0        0.0       0.0    0.0   \n",
       "1202               0.0                0.0        0.0       0.0    0.0   \n",
       "1203               0.0                0.0        0.0       0.0    0.0   \n",
       "1204               0.0                0.0        0.0       0.0    0.0   \n",
       "\n",
       "      alone eco  alone explicit  ameliorated  ameliorated client  \\\n",
       "1200        0.0             0.0     0.000000                 0.0   \n",
       "1201        0.0             0.0     0.531562                 0.0   \n",
       "1202        0.0             0.0     0.000000                 0.0   \n",
       "1203        0.0             0.0     0.000000                 0.0   \n",
       "1204        0.0             0.0     0.000000                 0.0   \n",
       "\n",
       "      ameliorated coherent  ameliorated exuding  ameliorated upward  analyzer  \\\n",
       "1200                   0.0                  0.0                 0.0       0.0   \n",
       "1201                   0.0                  0.0                 0.0       0.0   \n",
       "1202                   0.0                  0.0                 0.0       0.0   \n",
       "1203                   0.0                  0.0                 0.0       0.0   \n",
       "1204                   0.0                  0.0                 0.0       0.0   \n",
       "\n",
       "      analyzing  analyzing concept  analyzing emulation  analyzing encryption  \\\n",
       "1200        0.0                0.0                  0.0                   0.0   \n",
       "1201        0.0                0.0                  0.0                   0.0   \n",
       "1202        0.0                0.0                  0.0                   0.0   \n",
       "1203        0.0                0.0                  0.0                   0.0   \n",
       "1204        0.0                0.0                  0.0                   0.0   \n",
       "\n",
       "      application  approach  architected  architected intangible  \\\n",
       "1200          0.0       0.0          0.0                     0.0   \n",
       "1201          0.0       0.0          0.0                     0.0   \n",
       "1202          0.0       0.0          0.0                     0.0   \n",
       "1203          0.0       0.0          0.0                     0.0   \n",
       "1204          0.0       0.0          0.0                     0.0   \n",
       "\n",
       "      architected needs  architected system  architected zero  architecture  \\\n",
       "1200                0.0                 0.0               0.0           0.0   \n",
       "1201                0.0                 0.0               0.0           0.0   \n",
       "1202                0.0                 0.0               0.0           0.0   \n",
       "1203                0.0                 0.0               0.0           0.0   \n",
       "1204                0.0                 0.0               0.0           0.0   \n",
       "\n",
       "      archive  area  area network  array  assimilated  assimilated hybrid  \\\n",
       "1200      0.0   0.0           0.0    0.0          0.0                 0.0   \n",
       "1201      0.0   0.0           0.0    0.0          0.0                 0.0   \n",
       "1202      0.0   0.0           0.0    0.0          0.0                 0.0   \n",
       "1203      0.0   0.0           0.0    0.0          0.0                 0.0   \n",
       "1204      0.0   0.0           0.0    0.0          0.0                 0.0   \n",
       "\n",
       "      assimilated next  asymmetric  asymmetric emulation  \\\n",
       "1200               0.0         0.0                   0.0   \n",
       "1201               0.0         0.0                   0.0   \n",
       "1202               0.0         0.0                   0.0   \n",
       "1203               0.0         0.0                   0.0   \n",
       "1204               0.0         0.0                   0.0   \n",
       "\n",
       "      asymmetric infrastructure  asynchronous  asynchronous application  ...  \\\n",
       "1200                        0.0           0.0                       0.0  ...   \n",
       "1201                        0.0           0.0                       0.0  ...   \n",
       "1202                        0.0           0.0                       0.0  ...   \n",
       "1203                        0.0           0.0                       0.0  ...   \n",
       "1204                        0.0           0.0                       0.0  ...   \n",
       "\n",
       "      universal empowering  universal incremental  upgradable  \\\n",
       "1200                   0.0                    0.0         0.0   \n",
       "1201                   0.0                    0.0         0.0   \n",
       "1202                   0.0                    0.0         0.0   \n",
       "1203                   0.0                    0.0         0.0   \n",
       "1204                   0.0                    0.0         0.0   \n",
       "\n",
       "      upgradable asymmetric  upgradable even  upward  upward trending  \\\n",
       "1200                    0.0              0.0     0.0              0.0   \n",
       "1201                    0.0              0.0     0.0              0.0   \n",
       "1202                    0.0              0.0     0.0              0.0   \n",
       "1203                    0.0              0.0     0.0              0.0   \n",
       "1204                    0.0              0.0     0.0              0.0   \n",
       "\n",
       "          user  user centric  user facing  user friendly  user interface  \\\n",
       "1200  0.000000           0.0          0.0            0.0        0.000000   \n",
       "1201  0.000000           0.0          0.0            0.0        0.000000   \n",
       "1202  0.000000           0.0          0.0            0.0        0.000000   \n",
       "1203  0.271766           0.0          0.0            0.0        0.349121   \n",
       "1204  0.000000           0.0          0.0            0.0        0.000000   \n",
       "\n",
       "      utilization  value  value added  versatile  versatile local  \\\n",
       "1200          0.0    0.0          0.0        0.0              0.0   \n",
       "1201          0.0    0.0          0.0        0.0              0.0   \n",
       "1202          0.0    0.0          0.0        0.0              0.0   \n",
       "1203          0.0    0.0          0.0        0.0              0.0   \n",
       "1204          0.0    0.0          0.0        0.0              0.0   \n",
       "\n",
       "      versatile scalable  versatile solution  versatile thgeneration  virtual  \\\n",
       "1200                 0.0                 0.0                     0.0      0.0   \n",
       "1201                 0.0                 0.0                     0.0      0.0   \n",
       "1202                 0.0                 0.0                     0.0      0.0   \n",
       "1203                 0.0                 0.0                     0.0      0.0   \n",
       "1204                 0.0                 0.0                     0.0      0.0   \n",
       "\n",
       "      virtual bandwidth  virtual executive  virtual impactful  \\\n",
       "1200                0.0                0.0                0.0   \n",
       "1201                0.0                0.0                0.0   \n",
       "1202                0.0                0.0                0.0   \n",
       "1203                0.0                0.0                0.0   \n",
       "1204                0.0                0.0                0.0   \n",
       "\n",
       "      virtual thgeneration  vision  vision oriented  visionary  volatile  \\\n",
       "1200                   0.0     0.0              0.0        0.0       0.0   \n",
       "1201                   0.0     0.0              0.0        0.0       0.0   \n",
       "1202                   0.0     0.0              0.0        0.0       0.0   \n",
       "1203                   0.0     0.0              0.0        0.0       0.0   \n",
       "1204                   0.0     0.0              0.0        0.0       0.0   \n",
       "\n",
       "      volatile analyzer  volatile implementation  volatile neural  warehouse  \\\n",
       "1200                0.0                      0.0              0.0        0.0   \n",
       "1201                0.0                      0.0              0.0        0.0   \n",
       "1202                0.0                      0.0              0.0        0.0   \n",
       "1203                0.0                      0.0              0.0        0.0   \n",
       "1204                0.0                      0.0              0.0        0.0   \n",
       "\n",
       "      web  web enabled  website  well  well modulated  wide  wide foreground  \\\n",
       "1200  0.0          0.0      0.0   0.0             0.0   0.0              0.0   \n",
       "1201  0.0          0.0      0.0   0.0             0.0   0.0              0.0   \n",
       "1202  0.0          0.0      0.0   0.0             0.0   0.0              0.0   \n",
       "1203  0.0          0.0      0.0   0.0             0.0   0.0              0.0   \n",
       "1204  0.0          0.0      0.0   0.0             0.0   0.0              0.0   \n",
       "\n",
       "      workforce  worthy  worthy forecast  worthy superstructure  worthy task  \\\n",
       "1200   0.000000     0.0              0.0                    0.0          0.0   \n",
       "1201   0.587134     0.0              0.0                    0.0          0.0   \n",
       "1202   0.000000     0.0              0.0                    0.0          0.0   \n",
       "1203   0.000000     0.0              0.0                    0.0          0.0   \n",
       "1204   0.000000     0.0              0.0                    0.0          0.0   \n",
       "\n",
       "      worthy toolset  zero  zero administration  zero defect  zero tolerance  \n",
       "1200             0.0   0.0                  0.0          0.0             0.0  \n",
       "1201             0.0   0.0                  0.0          0.0             0.0  \n",
       "1202             0.0   0.0                  0.0          0.0             0.0  \n",
       "1203             0.0   0.0                  0.0          0.0             0.0  \n",
       "1204             0.0   0.0                  0.0          0.0             0.0  \n",
       "\n",
       "[5 rows x 834 columns]"
      ]
     },
     "metadata": {},
     "execution_count": 607
    }
   ],
   "metadata": {}
  },
  {
   "cell_type": "markdown",
   "source": [
    "### Top Text Features based on Mutual Information"
   ],
   "metadata": {}
  },
  {
   "cell_type": "code",
   "execution_count": 608,
   "source": [
    "X = dtm_df\r\n",
    "y = data.loc[:, 'Clicked']\r\n",
    "mi = mutual_info_classif(X,y)\r\n",
    "mi_df = pd.DataFrame({\r\n",
    "    'feature_name': X.columns,\r\n",
    "    'mi_score': mi\r\n",
    "})\r\n",
    "\r\n",
    "top_20_text_features = mi_df.sort_values(by = 'mi_score', ascending=False).head(20)\r\n",
    "top_20_text_features.set_index('feature_name').plot(kind='barh');"
   ],
   "outputs": [
    {
     "output_type": "display_data",
     "data": {
      "image/png": "[encoded data removed]",
      "text/plain": [
       "<Figure size 432x288 with 1 Axes>"
      ]
     },
     "metadata": {
      "needs_background": "light"
     }
    }
   ],
   "metadata": {}
  },
  {
   "cell_type": "code",
   "execution_count": 609,
   "source": [
    "mi_df['mi_score'].hist();"
   ],
   "outputs": [
    {
     "output_type": "display_data",
     "data": {
      "image/png": "[encoded data removed]",
      "text/plain": [
       "<Figure size 432x288 with 1 Axes>"
      ]
     },
     "metadata": {
      "needs_background": "light"
     }
    }
   ],
   "metadata": {}
  },
  {
   "cell_type": "markdown",
   "source": [
    "The distribution of mutual information scores display a very tight range below 0.05. These features may not be very useful in distinguishing the response class variable."
   ],
   "metadata": {}
  },
  {
   "cell_type": "code",
   "execution_count": 610,
   "source": [
    "# finding optimal number of clusters\r\n",
    "number_clusters = range(1,7)\r\n",
    "kmeans = []\r\n",
    "for k in number_clusters:\r\n",
    "    kmeans.append(\r\n",
    "        KMeans(\r\n",
    "            n_clusters=k, algorithm='auto', init='random',\r\n",
    "            n_init=20, random_state=1, verbose=False\r\n",
    "        )\r\n",
    "    )\r\n",
    "score = [kmeans[i].fit(dtm_df).inertia_ for i in range(len(kmeans))]\r\n",
    "# plot Elbow Method\r\n",
    "plt.plot(number_clusters, score)\r\n",
    "plt.xlabel('Number of Clusters')\r\n",
    "plt.ylabel('Score')\r\n",
    "plt.title('Elbow Method')\r\n",
    "plt.show()"
   ],
   "outputs": [
    {
     "output_type": "stream",
     "name": "stderr",
     "text": [
      "C:\\Users\\white\\anaconda3\\lib\\site-packages\\sklearn\\cluster\\_kmeans.py:881: UserWarning: KMeans is known to have a memory leak on Windows with MKL, when there are less chunks than available threads. You can avoid it by setting the environment variable OMP_NUM_THREADS=4.\n",
      "  warnings.warn(\n"
     ]
    },
    {
     "output_type": "display_data",
     "data": {
      "image/png": "[encoded data removed]",
      "text/plain": [
       "<Figure size 432x288 with 1 Axes>"
      ]
     },
     "metadata": {
      "needs_background": "light"
     }
    }
   ],
   "metadata": {}
  },
  {
   "cell_type": "markdown",
   "source": [
    "The optimal number of clusters is not very apparent using the KMeans algorithm. Next we'll try clustering with DBSCAN.\r\n",
    "* eps (epsilon radium) = 0.7\r\n",
    "* min_samples = 2"
   ],
   "metadata": {}
  },
  {
   "cell_type": "code",
   "execution_count": 611,
   "source": [
    "db = DBSCAN(eps=0.7, min_samples=2).fit(dtm_df)\r\n",
    "# define the indices where dbscan was able to cluster the points\r\n",
    "core_samples_mask = np.zeros_like(db.labels_, dtype=bool)\r\n",
    "core_samples_mask[db.core_sample_indices_] = True\r\n",
    "np.unique(core_samples_mask, return_counts = True)\r\n",
    "labels = db.labels_\r\n",
    "# Number of clusters in labels, ignoring noise if present.\r\n",
    "n_clusters_ = len(set(labels)) - (1 if -1 in labels else 0)\r\n",
    "print('Estimated number of clusters: {:d}'.format(n_clusters_))\r\n",
    "db_df = pd.DataFrame({\r\n",
    "    'cluster':labels,\r\n",
    "    'Clicked':data['Clicked']\r\n",
    "})\r\n",
    "print('Number not assigned to cluster: {:d}'.format(db_df[db_df['cluster']==-1].shape[0]))\r\n",
    "db_df.value_counts()"
   ],
   "outputs": [
    {
     "output_type": "stream",
     "name": "stdout",
     "text": [
      "Estimated number of clusters: 197\n",
      "Number not assigned to cluster: 605\n"
     ]
    },
    {
     "output_type": "execute_result",
     "data": {
      "text/plain": [
       "cluster  Clicked\n",
       "-1       0          306\n",
       "         1          299\n",
       " 60      1            2\n",
       " 94      0            2\n",
       " 96      1            2\n",
       "                   ... \n",
       " 112     1            1\n",
       " 113     0            1\n",
       "         1            1\n",
       " 35      0            1\n",
       " 196     1            1\n",
       "Length: 278, dtype: int64"
      ]
     },
     "metadata": {},
     "execution_count": 611
    }
   ],
   "metadata": {}
  },
  {
   "cell_type": "code",
   "execution_count": 612,
   "source": [
    "# LDA (latent dirischelet allocation)\r\n",
    "num_topics = 20\r\n",
    "lda = LatentDirichletAllocation(\r\n",
    "    n_components=num_topics, max_iter=5,\r\n",
    "    learning_method='online', learning_offset=50,\r\n",
    "    random_state=0\r\n",
    ")\r\n",
    "lda_z = lda.fit_transform(dtm_df)\r\n",
    "\r\n",
    "# function to display topics\r\n",
    "def display_topics(model, feature_names, top_n):\r\n",
    "    for idx, topic in enumerate(model.components_):\r\n",
    "        print(\"Topic {:d}:\".format(idx))\r\n",
    "        print(\" \".join([feature_names[i] for i in topic.argsort()[:-top_n - 1:-1]]))\r\n",
    "display_topics(model = lda, feature_names=feat_names, top_n=10)"
   ],
   "outputs": [
    {
     "output_type": "stream",
     "name": "stdout",
     "text": [
      "Topic 0:\n",
      "context sensitive sensitive context roots grass roots grass synergized asymmetric customizable workforce\n",
      "Topic 1:\n",
      "intermediate analyzing forecast oriented team oriented team analyzing emulation initiative progressive local forecast\n",
      "Topic 2:\n",
      "solution next next generation generation internet solution internet group engine system engine cross\n",
      "Topic 3:\n",
      "knowledge knowledge user thgeneration dedicated full full range polarized range user versatile\n",
      "Topic 4:\n",
      "desk even keeled even keeled service desk service stand alone stand alone distributed\n",
      "Topic 5:\n",
      "disintermediate tolerance sized zero tolerance right sized right zero groupware solution public key\n",
      "Topic 6:\n",
      "assimilated secondary discrete universal incremental discrete extranet incremental array operative secondary secondary functionalities switchable secondary secondary ability\n",
      "Topic 7:\n",
      "non volatile non volatile human human resource resource info mediaries info mediaries challenge\n",
      "Topic 8:\n",
      "line front line front business focused business client driven client focused driven directional\n",
      "Topic 9:\n",
      "monitored asynchronous local vision vision oriented oriented bandwidth monitored bandwidth area network local area\n",
      "Topic 10:\n",
      "zero oriented defect zero defect attitude interface engineered graphic graphic interface attitude oriented\n",
      "Topic 11:\n",
      "budgetary budgetary management management modulated well well modulated emptive pre emptive pre innovative\n",
      "Topic 12:\n",
      "enhanced robust diverse utilization application mobile framework enhanced maximized maximized access tertiary utilization\n",
      "Topic 13:\n",
      "contextually contextually based value added value added universal based cohesive improvement process improvement\n",
      "Topic 14:\n",
      "interactive optional support integrated encryption algorithm modular visionary capability balanced\n",
      "Topic 15:\n",
      "frame time frame time website global alliance horizontal proactive homogeneous alliance innovative homogeneous\n",
      "Topic 16:\n",
      "secured secured line line graphical user interface graphical user interface user neural net enabling\n",
      "Topic 17:\n",
      "open multi open source source worthy system worthy system portal layered multi layered\n",
      "Topic 18:\n",
      "trending upward trending upward instruction set instruction set advanced realigned managed productivity\n",
      "Topic 19:\n",
      "face based configurable focused customer fully fully configurable level high level high\n"
     ]
    }
   ],
   "metadata": {}
  },
  {
   "cell_type": "code",
   "execution_count": 613,
   "source": [
    "# documents across different topic spaces\r\n",
    "docs_vs_topics = pd.DataFrame(lda_z, index=dtm_df.index.values)\r\n",
    "#docs_vs_topics\r\n",
    "most_likely_topics = docs_vs_topics.idxmax(axis=1)\r\n",
    "most_likely_topics.groupby(most_likely_topics).count()\r\n",
    "docs_vs_topics['Clicked'] = data['Clicked'].values\r\n",
    "docs_vs_topics['Topic'] = most_likely_topics\r\n",
    "# plot topics by Clicked\r\n",
    "docs_vs_topics.groupby(['Topic','Clicked'])['Topic'].count().unstack('Clicked').fillna(0).plot(kind='bar', stacked=True, title = 'Topic relationship with Clicked.');"
   ],
   "outputs": [
    {
     "output_type": "display_data",
     "data": {
      "image/png": "[encoded data removed]",
      "text/plain": [
       "<Figure size 432x288 with 1 Axes>"
      ]
     },
     "metadata": {
      "needs_background": "light"
     }
    }
   ],
   "metadata": {}
  },
  {
   "cell_type": "code",
   "execution_count": 614,
   "source": [
    "# chi-square test between Quarter and Clicked\r\n",
    "a = pd.Categorical(docs_vs_topics['Topic'])\r\n",
    "b = pd.Categorical(docs_vs_topics['Clicked'])\r\n",
    "ct = pd.crosstab(a,b)\r\n",
    "stat, p, dof, expected = chi2_contingency(ct)\r\n",
    "print(\"Chi2: {:.2f} | p-value: {:.2f}\".format(stat, p))"
   ],
   "outputs": [
    {
     "output_type": "stream",
     "name": "stdout",
     "text": [
      "Chi2: 34.09 | p-value: 0.02\n"
     ]
    }
   ],
   "metadata": {}
  },
  {
   "cell_type": "code",
   "execution_count": 615,
   "source": [
    "# which topics display most relationship with response?\r\n",
    "x = (ct / expected)\r\n",
    "abs(x[1] - x[0]).sort_values(ascending=False).head()"
   ],
   "outputs": [
    {
     "output_type": "execute_result",
     "data": {
      "text/plain": [
       "row_0\n",
       "3     0.863031\n",
       "13    0.821363\n",
       "8     0.656091\n",
       "4     0.606204\n",
       "6     0.588021\n",
       "dtype: float64"
      ]
     },
     "metadata": {},
     "execution_count": 615
    }
   ],
   "metadata": {}
  },
  {
   "cell_type": "markdown",
   "source": [
    "Unsupervised approaches indicate that the Ad Topic Line may not be very predictive of the response variable. However, topic modeling does seem to indicate a relationship between topics and whether the user clicked based on a significant chi-square statistic, particularly for topics 3 and 13 in this case. However, for the purpose of classification it may not be feasible to rely on an unsupervised technique to generate predictors. Therefore, we'll drop the text column and and its derivatives for now."
   ],
   "metadata": {}
  },
  {
   "cell_type": "code",
   "execution_count": 616,
   "source": [
    "# removing Ad Topic Line variable\r\n",
    "data.drop('Ad Topic Line', 1, inplace=True)\r\n",
    "data.head()"
   ],
   "outputs": [
    {
     "output_type": "execute_result",
     "data": {
      "text/html": [
       "<div>\n",
       "<style scoped>\n",
       "    .dataframe tbody tr th:only-of-type {\n",
       "        vertical-align: middle;\n",
       "    }\n",
       "\n",
       "    .dataframe tbody tr th {\n",
       "        vertical-align: top;\n",
       "    }\n",
       "\n",
       "    .dataframe thead th {\n",
       "        text-align: right;\n",
       "    }\n",
       "</style>\n",
       "<table border=\"1\" class=\"dataframe\">\n",
       "  <thead>\n",
       "    <tr style=\"text-align: right;\">\n",
       "      <th></th>\n",
       "      <th>Daily Time Spent on Site</th>\n",
       "      <th>Age</th>\n",
       "      <th>Area Income</th>\n",
       "      <th>Daily Internet Usage</th>\n",
       "      <th>gender</th>\n",
       "      <th>Clicked</th>\n",
       "      <th>Time of Day</th>\n",
       "      <th>Country Click Pref</th>\n",
       "    </tr>\n",
       "    <tr>\n",
       "      <th>id</th>\n",
       "      <th></th>\n",
       "      <th></th>\n",
       "      <th></th>\n",
       "      <th></th>\n",
       "      <th></th>\n",
       "      <th></th>\n",
       "      <th></th>\n",
       "      <th></th>\n",
       "    </tr>\n",
       "  </thead>\n",
       "  <tbody>\n",
       "    <tr>\n",
       "      <th>1200</th>\n",
       "      <td>80.67</td>\n",
       "      <td>34</td>\n",
       "      <td>58909.36</td>\n",
       "      <td>239.76</td>\n",
       "      <td>0</td>\n",
       "      <td>0</td>\n",
       "      <td>2</td>\n",
       "      <td>0</td>\n",
       "    </tr>\n",
       "    <tr>\n",
       "      <th>1201</th>\n",
       "      <td>68.01</td>\n",
       "      <td>25</td>\n",
       "      <td>68357.96</td>\n",
       "      <td>188.32</td>\n",
       "      <td>1</td>\n",
       "      <td>0</td>\n",
       "      <td>3</td>\n",
       "      <td>0</td>\n",
       "    </tr>\n",
       "    <tr>\n",
       "      <th>1202</th>\n",
       "      <td>80.94</td>\n",
       "      <td>36</td>\n",
       "      <td>60803.00</td>\n",
       "      <td>239.94</td>\n",
       "      <td>0</td>\n",
       "      <td>0</td>\n",
       "      <td>5</td>\n",
       "      <td>2</td>\n",
       "    </tr>\n",
       "    <tr>\n",
       "      <th>1203</th>\n",
       "      <td>78.77</td>\n",
       "      <td>28</td>\n",
       "      <td>63497.62</td>\n",
       "      <td>211.83</td>\n",
       "      <td>0</td>\n",
       "      <td>0</td>\n",
       "      <td>8</td>\n",
       "      <td>0</td>\n",
       "    </tr>\n",
       "    <tr>\n",
       "      <th>1204</th>\n",
       "      <td>36.56</td>\n",
       "      <td>29</td>\n",
       "      <td>42838.29</td>\n",
       "      <td>195.89</td>\n",
       "      <td>0</td>\n",
       "      <td>1</td>\n",
       "      <td>15</td>\n",
       "      <td>1</td>\n",
       "    </tr>\n",
       "  </tbody>\n",
       "</table>\n",
       "</div>"
      ],
      "text/plain": [
       "      Daily Time Spent on Site  Age  Area Income  Daily Internet Usage  \\\n",
       "id                                                                       \n",
       "1200                     80.67   34     58909.36                239.76   \n",
       "1201                     68.01   25     68357.96                188.32   \n",
       "1202                     80.94   36     60803.00                239.94   \n",
       "1203                     78.77   28     63497.62                211.83   \n",
       "1204                     36.56   29     42838.29                195.89   \n",
       "\n",
       "      gender  Clicked  Time of Day  Country Click Pref  \n",
       "id                                                      \n",
       "1200       0        0            2                   0  \n",
       "1201       1        0            3                   0  \n",
       "1202       0        0            5                   2  \n",
       "1203       0        0            8                   0  \n",
       "1204       0        1           15                   1  "
      ]
     },
     "metadata": {},
     "execution_count": 616
    }
   ],
   "metadata": {}
  },
  {
   "cell_type": "markdown",
   "source": [
    "Now to address the missingness in Area Income, we'll use KNN Imputation to fill in values with estimates based on similar observations."
   ],
   "metadata": {}
  },
  {
   "cell_type": "code",
   "execution_count": 617,
   "source": [
    "# Recall that Area Income had about 22.5% missing values\r\n",
    "data.isna().sum()"
   ],
   "outputs": [
    {
     "output_type": "execute_result",
     "data": {
      "text/plain": [
       "Daily Time Spent on Site      0\n",
       "Age                           0\n",
       "Area Income                 225\n",
       "Daily Internet Usage          0\n",
       "gender                        0\n",
       "Clicked                       0\n",
       "Time of Day                   0\n",
       "Country Click Pref            0\n",
       "dtype: int64"
      ]
     },
     "metadata": {},
     "execution_count": 617
    }
   ],
   "metadata": {}
  },
  {
   "cell_type": "code",
   "execution_count": 618,
   "source": [
    "data.dtypes"
   ],
   "outputs": [
    {
     "output_type": "execute_result",
     "data": {
      "text/plain": [
       "Daily Time Spent on Site    float64\n",
       "Age                           int64\n",
       "Area Income                 float64\n",
       "Daily Internet Usage        float64\n",
       "gender                        int64\n",
       "Clicked                       int64\n",
       "Time of Day                   int64\n",
       "Country Click Pref             int8\n",
       "dtype: object"
      ]
     },
     "metadata": {},
     "execution_count": 618
    }
   ],
   "metadata": {}
  },
  {
   "cell_type": "markdown",
   "source": [
    "### Scale and Impute Missing Values"
   ],
   "metadata": {}
  },
  {
   "cell_type": "code",
   "execution_count": 721,
   "source": [
    "# separate predictors and label\r\n",
    "X = data.loc[:, data.columns != 'Clicked']\r\n",
    "y = data['Clicked']\r\n",
    "\r\n",
    "# subset columns\r\n",
    "keep = ['Daily Time Spent on Site','Age','Area Income','Daily Internet Usage','gender','Country Click Pref','Time of Day']\r\n",
    "X = X[keep]\r\n",
    "\r\n",
    "# scale variables and impute missing values in dataset\r\n",
    "imputer = KNNImputer(n_neighbors=20, weights='uniform')\r\n",
    "X = pd.DataFrame(imputer.fit_transform(scale(X)), columns=X.columns)\r\n",
    "\r\n",
    "# one final check for missing values\r\n",
    "X.isna().sum()"
   ],
   "outputs": [
    {
     "output_type": "execute_result",
     "data": {
      "text/plain": [
       "Daily Time Spent on Site    0\n",
       "Age                         0\n",
       "Area Income                 0\n",
       "Daily Internet Usage        0\n",
       "gender                      0\n",
       "Country Click Pref          0\n",
       "Time of Day                 0\n",
       "dtype: int64"
      ]
     },
     "metadata": {},
     "execution_count": 721
    }
   ],
   "metadata": {}
  },
  {
   "cell_type": "markdown",
   "source": [
    "### Checking for Multicollinearity"
   ],
   "metadata": {}
  },
  {
   "cell_type": "code",
   "execution_count": 722,
   "source": [
    "variables = list(range(X.shape[1]))\r\n",
    "vif = [\r\n",
    "    variance_inflation_factor(X.iloc[:, variables].values, ix) for ix in range(X.iloc[:, variables].shape[1])\r\n",
    "]\r\n",
    "vif_df = pd.DataFrame({'variable': X.columns, 'vif': vif})\r\n",
    "\r\n",
    "# exclude features with high variance inflation factors\r\n",
    "keep = X.columns[~vif_df['vif'].isin([np.inf])]\r\n",
    "X = X[keep]\r\n",
    "\r\n",
    "vif_df"
   ],
   "outputs": [
    {
     "output_type": "execute_result",
     "data": {
      "text/html": [
       "<div>\n",
       "<style scoped>\n",
       "    .dataframe tbody tr th:only-of-type {\n",
       "        vertical-align: middle;\n",
       "    }\n",
       "\n",
       "    .dataframe tbody tr th {\n",
       "        vertical-align: top;\n",
       "    }\n",
       "\n",
       "    .dataframe thead th {\n",
       "        text-align: right;\n",
       "    }\n",
       "</style>\n",
       "<table border=\"1\" class=\"dataframe\">\n",
       "  <thead>\n",
       "    <tr style=\"text-align: right;\">\n",
       "      <th></th>\n",
       "      <th>variable</th>\n",
       "      <th>vif</th>\n",
       "    </tr>\n",
       "  </thead>\n",
       "  <tbody>\n",
       "    <tr>\n",
       "      <th>0</th>\n",
       "      <td>Daily Time Spent on Site</td>\n",
       "      <td>1.253135</td>\n",
       "    </tr>\n",
       "    <tr>\n",
       "      <th>1</th>\n",
       "      <td>Age</td>\n",
       "      <td>1.136830</td>\n",
       "    </tr>\n",
       "    <tr>\n",
       "      <th>2</th>\n",
       "      <td>Area Income</td>\n",
       "      <td>1.212608</td>\n",
       "    </tr>\n",
       "    <tr>\n",
       "      <th>3</th>\n",
       "      <td>Daily Internet Usage</td>\n",
       "      <td>1.331631</td>\n",
       "    </tr>\n",
       "    <tr>\n",
       "      <th>4</th>\n",
       "      <td>gender</td>\n",
       "      <td>1.003512</td>\n",
       "    </tr>\n",
       "    <tr>\n",
       "      <th>5</th>\n",
       "      <td>Country Click Pref</td>\n",
       "      <td>1.011583</td>\n",
       "    </tr>\n",
       "    <tr>\n",
       "      <th>6</th>\n",
       "      <td>Time of Day</td>\n",
       "      <td>1.011917</td>\n",
       "    </tr>\n",
       "  </tbody>\n",
       "</table>\n",
       "</div>"
      ],
      "text/plain": [
       "                   variable       vif\n",
       "0  Daily Time Spent on Site  1.253135\n",
       "1                       Age  1.136830\n",
       "2               Area Income  1.212608\n",
       "3      Daily Internet Usage  1.331631\n",
       "4                    gender  1.003512\n",
       "5        Country Click Pref  1.011583\n",
       "6               Time of Day  1.011917"
      ]
     },
     "metadata": {},
     "execution_count": 722
    }
   ],
   "metadata": {}
  },
  {
   "cell_type": "markdown",
   "source": [
    "### Feature Importance using recursive feature elimination"
   ],
   "metadata": {}
  },
  {
   "cell_type": "code",
   "execution_count": 723,
   "source": [
    "# implementing the model\r\n",
    "# exogenous variable is one whose value is determined outside the model i.e. X\r\n",
    "# endogenous variable is one whoe value is determined by the model i.e. y\r\n",
    "logit_model = sm.Logit(list(y), X)\r\n",
    "result = logit_model.fit()\r\n",
    "print(result.summary2())"
   ],
   "outputs": [
    {
     "output_type": "stream",
     "name": "stdout",
     "text": [
      "Optimization terminated successfully.\n",
      "         Current function value: 0.372191\n",
      "         Iterations 6\n",
      "                             Results: Logit\n",
      "=========================================================================\n",
      "Model:                 Logit              Pseudo R-squared:   0.463      \n",
      "Dependent Variable:    y                  AIC:                758.3817   \n",
      "Date:                  2021-09-07 00:14   BIC:                792.7359   \n",
      "No. Observations:      1000               Log-Likelihood:     -372.19    \n",
      "Df Model:              6                  LL-Null:            -693.13    \n",
      "Df Residuals:          993                LLR p-value:        2.1516e-135\n",
      "Converged:             1.0000             Scale:              1.0000     \n",
      "No. Iterations:        6.0000                                            \n",
      "-------------------------------------------------------------------------\n",
      "                          Coef.  Std.Err.    z     P>|z|   [0.025  0.975]\n",
      "-------------------------------------------------------------------------\n",
      "Daily Time Spent on Site -1.1278   0.1045 -10.7970 0.0000 -1.3326 -0.9231\n",
      "Age                       0.4574   0.0946   4.8331 0.0000  0.2719  0.6429\n",
      "Area Income              -0.4232   0.1092  -3.8773 0.0001 -0.6372 -0.2093\n",
      "Daily Internet Usage     -1.0538   0.1049 -10.0458 0.0000 -1.2594 -0.8482\n",
      "gender                   -0.0316   0.0940  -0.3363 0.7367 -0.2158  0.1526\n",
      "Country Click Pref       -0.2028   0.1055  -1.9232 0.0545 -0.4095  0.0039\n",
      "Time of Day              -0.0668   0.0952  -0.7016 0.4829 -0.2533  0.1198\n",
      "=========================================================================\n",
      "\n"
     ]
    }
   ],
   "metadata": {}
  },
  {
   "cell_type": "markdown",
   "source": [
    "### Exclude Insignificant Features"
   ],
   "metadata": {}
  },
  {
   "cell_type": "code",
   "execution_count": 724,
   "source": [
    "excl = ['gender','Time of Day','Country Click Pref']\r\n",
    "keep = X.columns[~X.columns.isin(excl)]\r\n",
    "X = X[keep]\r\n",
    "\r\n",
    "logit_model = sm.Logit(list(y), X)\r\n",
    "result = logit_model.fit()\r\n",
    "print(result.summary2())"
   ],
   "outputs": [
    {
     "output_type": "stream",
     "name": "stdout",
     "text": [
      "Optimization terminated successfully.\n",
      "         Current function value: 0.374446\n",
      "         Iterations 6\n",
      "                             Results: Logit\n",
      "=========================================================================\n",
      "Model:                 Logit              Pseudo R-squared:   0.460      \n",
      "Dependent Variable:    y                  AIC:                756.8919   \n",
      "Date:                  2021-09-07 00:14   BIC:                776.5229   \n",
      "No. Observations:      1000               Log-Likelihood:     -374.45    \n",
      "Df Model:              3                  LL-Null:            -693.13    \n",
      "Df Residuals:          996                LLR p-value:        7.9880e-138\n",
      "Converged:             1.0000             Scale:              1.0000     \n",
      "No. Iterations:        6.0000                                            \n",
      "-------------------------------------------------------------------------\n",
      "                          Coef.  Std.Err.    z     P>|z|   [0.025  0.975]\n",
      "-------------------------------------------------------------------------\n",
      "Daily Time Spent on Site -1.1280   0.1033 -10.9202 0.0000 -1.3305 -0.9256\n",
      "Age                       0.4665   0.0942   4.9516 0.0000  0.2819  0.6512\n",
      "Area Income              -0.4363   0.1092  -3.9968 0.0001 -0.6502 -0.2223\n",
      "Daily Internet Usage     -1.0496   0.1035 -10.1426 0.0000 -1.2524 -0.8467\n",
      "=========================================================================\n",
      "\n"
     ]
    }
   ],
   "metadata": {}
  },
  {
   "cell_type": "code",
   "execution_count": 725,
   "source": [
    "# Logistic Regression Model Fitting\r\n",
    "X_train, X_test, y_train, y_test = train_test_split(X, y, test_size = 0.3, random_state=0)\r\n",
    "logreg = LogisticRegression(C=1e8) # negate regularization effect that sklearn applies to logistic regression\r\n",
    "logreg.fit(X_train, y_train)"
   ],
   "outputs": [
    {
     "output_type": "execute_result",
     "data": {
      "text/plain": [
       "LogisticRegression(C=100000000.0)"
      ]
     },
     "metadata": {},
     "execution_count": 725
    }
   ],
   "metadata": {}
  },
  {
   "cell_type": "code",
   "execution_count": 726,
   "source": [
    "# prediction of sample test set\r\n",
    "y_pred = logreg.predict(X_test)\r\n",
    "print('Accuracy of logistic regression classifier on test set: {:.2f}'.format(logreg.score(X_test, y_test)))"
   ],
   "outputs": [
    {
     "output_type": "stream",
     "name": "stdout",
     "text": [
      "Accuracy of logistic regression classifier on test set: 0.86\n"
     ]
    }
   ],
   "metadata": {}
  },
  {
   "cell_type": "code",
   "execution_count": 699,
   "source": [
    "# Confusion Matrix\r\n",
    "cmatrix = confusion_matrix(y_test, y_pred)\r\n",
    "print(cmatrix)\r\n",
    "# plot heatmap\r\n",
    "class_names=[0,1] # name  of classes\r\n",
    "fig, ax = plt.subplots()\r\n",
    "tick_marks = np.arange(len(class_names))\r\n",
    "plt.xticks(tick_marks, class_names)\r\n",
    "plt.yticks(tick_marks, class_names)\r\n",
    "sns.heatmap(pd.DataFrame(cmatrix), annot=True, cmap = \"YlGnBu\", fmt = 'g')\r\n",
    "ax.xaxis.set_label_position(\"top\")\r\n",
    "plt.tight_layout()\r\n",
    "plt.title('Confusion matrix', y=1.1)\r\n",
    "plt.ylabel('Actual label')\r\n",
    "plt.xlabel('Predicted label')"
   ],
   "outputs": [
    {
     "output_type": "stream",
     "name": "stdout",
     "text": [
      "[[140  18]\n",
      " [ 25 117]]\n"
     ]
    },
    {
     "output_type": "execute_result",
     "data": {
      "text/plain": [
       "Text(0.5, 257.44, 'Predicted label')"
      ]
     },
     "metadata": {},
     "execution_count": 699
    },
    {
     "output_type": "display_data",
     "data": {
      "image/png": "[encoded data removed]",
      "text/plain": [
       "<Figure size 432x288 with 2 Axes>"
      ]
     },
     "metadata": {
      "needs_background": "light"
     }
    }
   ],
   "metadata": {}
  },
  {
   "cell_type": "code",
   "execution_count": 700,
   "source": [
    "# Compute precision, recall, F-measure and support\r\n",
    "print(classification_report(y_test, y_pred))"
   ],
   "outputs": [
    {
     "output_type": "stream",
     "name": "stdout",
     "text": [
      "              precision    recall  f1-score   support\n",
      "\n",
      "           0       0.85      0.89      0.87       158\n",
      "           1       0.87      0.82      0.84       142\n",
      "\n",
      "    accuracy                           0.86       300\n",
      "   macro avg       0.86      0.86      0.86       300\n",
      "weighted avg       0.86      0.86      0.86       300\n",
      "\n"
     ]
    }
   ],
   "metadata": {}
  },
  {
   "cell_type": "code",
   "execution_count": 701,
   "source": [
    "logit_roc_auc = roc_auc_score(y_test, logreg.predict(X_test))\r\n",
    "fpr, tpr, thresholds = roc_curve(y_test, logreg.predict_proba(X_test)[:,1])\r\n",
    "\r\n",
    "plt.figure()\r\n",
    "plt.plot(fpr, tpr, label = 'Logistic Regression (area = %0.2f)' % logit_roc_auc)\r\n",
    "plt.plot([0, 1], [0, 1], 'r--')\r\n",
    "plt.xlim([0.0, 1.0])\r\n",
    "plt.ylim([0.0, 1.05])\r\n",
    "plt.xlabel('False Positive Rate')\r\n",
    "plt.ylabel(\"True Positive Rate\")\r\n",
    "plt.title(\"Receiver operating characteristic\")\r\n",
    "plt.legend(loc='lower right')\r\n",
    "#plt.savefig('Log_ROC')\r\n",
    "plt.show()"
   ],
   "outputs": [
    {
     "output_type": "display_data",
     "data": {
      "image/png": "[encoded data removed]",
      "text/plain": [
       "<Figure size 432x288 with 1 Axes>"
      ]
     },
     "metadata": {
      "needs_background": "light"
     }
    }
   ],
   "metadata": {}
  },
  {
   "cell_type": "markdown",
   "source": [
    "The ROC curve is another common tool used with binary classifiers. The dotted line represents the ROC curve of a purely random classifier; a good classifier stays as far away from that line as possible."
   ],
   "metadata": {}
  },
  {
   "cell_type": "markdown",
   "source": [
    "### K-fold Cross-Validation"
   ],
   "metadata": {}
  },
  {
   "cell_type": "code",
   "execution_count": 702,
   "source": [
    "# perform a 10-fold cross-validation and average the accuracy scores\r\n",
    "cv = KFold(random_state=1, shuffle=True, n_splits=10)\r\n",
    "model = LogisticRegression()\r\n",
    "scores = cross_val_score(model, X_train, y_train, scoring='accuracy', cv=cv, n_jobs=1)\r\n",
    "print('Scores:', scores)\r\n",
    "print('Accuracy: %.3f | Standard Dev %.3f' % (np.mean(scores), np.std(scores)))"
   ],
   "outputs": [
    {
     "output_type": "stream",
     "name": "stdout",
     "text": [
      "Scores: [0.88571429 0.78571429 0.85714286 0.84285714 0.88571429 0.87142857\n",
      " 0.85714286 0.88571429 0.85714286 0.84285714]\n",
      "Accuracy: 0.857 | Standard Dev 0.029\n"
     ]
    }
   ],
   "metadata": {}
  },
  {
   "cell_type": "markdown",
   "source": [
    "### Interpretation of the Coefficients"
   ],
   "metadata": {}
  },
  {
   "cell_type": "code",
   "execution_count": 703,
   "source": [
    "mod = sm.Logit(list(y_train), X_train)\r\n",
    "result_mod = mod.fit()\r\n",
    "print(result.summary2())"
   ],
   "outputs": [
    {
     "output_type": "stream",
     "name": "stdout",
     "text": [
      "Optimization terminated successfully.\n",
      "         Current function value: 0.372665\n",
      "         Iterations 6\n",
      "                             Results: Logit\n",
      "=========================================================================\n",
      "Model:                 Logit              Pseudo R-squared:   0.460      \n",
      "Dependent Variable:    y                  AIC:                756.8919   \n",
      "Date:                  2021-09-06 23:58   BIC:                776.5229   \n",
      "No. Observations:      1000               Log-Likelihood:     -374.45    \n",
      "Df Model:              3                  LL-Null:            -693.13    \n",
      "Df Residuals:          996                LLR p-value:        7.9880e-138\n",
      "Converged:             1.0000             Scale:              1.0000     \n",
      "No. Iterations:        6.0000                                            \n",
      "-------------------------------------------------------------------------\n",
      "                          Coef.  Std.Err.    z     P>|z|   [0.025  0.975]\n",
      "-------------------------------------------------------------------------\n",
      "Daily Time Spent on Site -1.1280   0.1033 -10.9202 0.0000 -1.3305 -0.9256\n",
      "Age                       0.4665   0.0942   4.9516 0.0000  0.2819  0.6512\n",
      "Area Income              -0.4363   0.1092  -3.9968 0.0001 -0.6502 -0.2223\n",
      "Daily Internet Usage     -1.0496   0.1035 -10.1426 0.0000 -1.2524 -0.8467\n",
      "=========================================================================\n",
      "\n"
     ]
    }
   ],
   "metadata": {}
  },
  {
   "cell_type": "markdown",
   "source": [
    "Per the above summary, the coefficients represent the log-odds of the effect the variables have on Clicked. If we convert these log-odds to plain-odds, we get:"
   ],
   "metadata": {}
  },
  {
   "cell_type": "code",
   "execution_count": 704,
   "source": [
    "var_names = X_train.columns.values\r\n",
    "odds = np.exp(logreg.coef_)[0]\r\n",
    "list(zip(var_names, odds))"
   ],
   "outputs": [
    {
     "output_type": "execute_result",
     "data": {
      "text/plain": [
       "[('Daily Time Spent on Site', 0.3351970142301521),\n",
       " ('Age', 1.8523787166980987),\n",
       " ('Area Income', 0.5928408070758107),\n",
       " ('Daily Internet Usage', 0.36780826612479567)]"
      ]
     },
     "metadata": {},
     "execution_count": 704
    }
   ],
   "metadata": {}
  },
  {
   "cell_type": "markdown",
   "source": [
    "* A one unit increase in Daily Time Spent on Site results in a 0.33:1 (67%) decrease in the odds that an ad will be clicked.\r\n",
    "* A one unit increase in Age results in 1.85:1 (85%) increase in the odds that an ad will be clicked.\r\n",
    "* A one unit increase in Area Income results in a 0.59:1 (41%) decrease in the odds that an ad will be clicked.\r\n",
    "* A one unit increase in Daily Internet Usage results in a 0.37:1 (63%) decrease in the odds that an ad will be clicked."
   ],
   "metadata": {}
  },
  {
   "cell_type": "markdown",
   "source": [
    "### Deployment"
   ],
   "metadata": {}
  },
  {
   "cell_type": "code",
   "execution_count": null,
   "source": [
    "# create pipeline\r\n"
   ],
   "outputs": [],
   "metadata": {}
  },
  {
   "cell_type": "code",
   "execution_count": 706,
   "source": [
    "# Save model\r\n",
    "pickle.dump(logreg, open('output/logistic_regression.sav', 'wb'))"
   ],
   "outputs": [],
   "metadata": {}
  },
  {
   "cell_type": "markdown",
   "source": [
    "# Predicting the Test Set"
   ],
   "metadata": {}
  },
  {
   "cell_type": "code",
   "execution_count": 750,
   "source": [
    "#Loading Test data\r\n",
    "X_test=pd.read_csv('test.csv').set_index('id')\r\n",
    "print(\"Test data shape:\", X_test.shape)\r\n",
    "X_test.head()"
   ],
   "outputs": [
    {
     "output_type": "stream",
     "name": "stdout",
     "text": [
      "Test data shape: (300, 8)\n"
     ]
    },
    {
     "output_type": "execute_result",
     "data": {
      "text/html": [
       "<div>\n",
       "<style scoped>\n",
       "    .dataframe tbody tr th:only-of-type {\n",
       "        vertical-align: middle;\n",
       "    }\n",
       "\n",
       "    .dataframe tbody tr th {\n",
       "        vertical-align: top;\n",
       "    }\n",
       "\n",
       "    .dataframe thead th {\n",
       "        text-align: right;\n",
       "    }\n",
       "</style>\n",
       "<table border=\"1\" class=\"dataframe\">\n",
       "  <thead>\n",
       "    <tr style=\"text-align: right;\">\n",
       "      <th></th>\n",
       "      <th>Timestamp</th>\n",
       "      <th>Daily Time Spent on Site</th>\n",
       "      <th>Age</th>\n",
       "      <th>Area Income</th>\n",
       "      <th>Daily Internet Usage</th>\n",
       "      <th>Ad Topic Line</th>\n",
       "      <th>gender</th>\n",
       "      <th>Country</th>\n",
       "    </tr>\n",
       "    <tr>\n",
       "      <th>id</th>\n",
       "      <th></th>\n",
       "      <th></th>\n",
       "      <th></th>\n",
       "      <th></th>\n",
       "      <th></th>\n",
       "      <th></th>\n",
       "      <th></th>\n",
       "      <th></th>\n",
       "    </tr>\n",
       "  </thead>\n",
       "  <tbody>\n",
       "    <tr>\n",
       "      <th>2200</th>\n",
       "      <td>2016-06-04 17:24:07</td>\n",
       "      <td>43.88</td>\n",
       "      <td>54</td>\n",
       "      <td>31523.09</td>\n",
       "      <td>166.85</td>\n",
       "      <td>Enhanced methodical database</td>\n",
       "      <td>1</td>\n",
       "      <td>Somalia</td>\n",
       "    </tr>\n",
       "    <tr>\n",
       "      <th>2201</th>\n",
       "      <td>2016-06-05 00:29:13</td>\n",
       "      <td>66.40</td>\n",
       "      <td>40</td>\n",
       "      <td>77567.85</td>\n",
       "      <td>214.42</td>\n",
       "      <td>Digitized heuristic solution</td>\n",
       "      <td>0</td>\n",
       "      <td>Antigua and Barbuda</td>\n",
       "    </tr>\n",
       "    <tr>\n",
       "      <th>2202</th>\n",
       "      <td>2016-06-05 00:29:13</td>\n",
       "      <td>79.52</td>\n",
       "      <td>34</td>\n",
       "      <td>NaN</td>\n",
       "      <td>141.58</td>\n",
       "      <td>Customer-focused 24/7 concept</td>\n",
       "      <td>0</td>\n",
       "      <td>United States of America</td>\n",
       "    </tr>\n",
       "    <tr>\n",
       "      <th>2203</th>\n",
       "      <td>2016-06-05 07:54:30</td>\n",
       "      <td>52.35</td>\n",
       "      <td>25</td>\n",
       "      <td>33293.78</td>\n",
       "      <td>147.61</td>\n",
       "      <td>Mandatory 4thgeneration structure</td>\n",
       "      <td>1</td>\n",
       "      <td>Mali</td>\n",
       "    </tr>\n",
       "    <tr>\n",
       "      <th>2204</th>\n",
       "      <td>2016-06-05 07:54:30</td>\n",
       "      <td>81.51</td>\n",
       "      <td>36</td>\n",
       "      <td>NaN</td>\n",
       "      <td>195.93</td>\n",
       "      <td>Monitored local Internet solution</td>\n",
       "      <td>0</td>\n",
       "      <td>Croatia</td>\n",
       "    </tr>\n",
       "  </tbody>\n",
       "</table>\n",
       "</div>"
      ],
      "text/plain": [
       "                Timestamp  Daily Time Spent on Site  Age  Area Income  \\\n",
       "id                                                                      \n",
       "2200  2016-06-04 17:24:07                     43.88   54     31523.09   \n",
       "2201  2016-06-05 00:29:13                     66.40   40     77567.85   \n",
       "2202  2016-06-05 00:29:13                     79.52   34          NaN   \n",
       "2203  2016-06-05 07:54:30                     52.35   25     33293.78   \n",
       "2204  2016-06-05 07:54:30                     81.51   36          NaN   \n",
       "\n",
       "      Daily Internet Usage                      Ad Topic Line  gender  \\\n",
       "id                                                                      \n",
       "2200                166.85       Enhanced methodical database       1   \n",
       "2201                214.42       Digitized heuristic solution       0   \n",
       "2202                141.58      Customer-focused 24/7 concept       0   \n",
       "2203                147.61  Mandatory 4thgeneration structure       1   \n",
       "2204                195.93  Monitored local Internet solution       0   \n",
       "\n",
       "                       Country  \n",
       "id                              \n",
       "2200                   Somalia  \n",
       "2201       Antigua and Barbuda  \n",
       "2202  United States of America  \n",
       "2203                      Mali  \n",
       "2204                   Croatia  "
      ]
     },
     "metadata": {},
     "execution_count": 750
    }
   ],
   "metadata": {
    "colab": {},
    "colab_type": "code",
    "id": "Hsxh3SMgIKSY",
    "outputId": "d98d0f00-f33f-407b-df59-a9915bb03fa1"
   }
  },
  {
   "cell_type": "markdown",
   "source": [
    "### Transform data"
   ],
   "metadata": {
    "colab": {},
    "colab_type": "code",
    "id": "7tBCHjd3IKSp"
   }
  },
  {
   "cell_type": "code",
   "execution_count": 751,
   "source": [
    "# feature extraction of time of day\r\n",
    "date_pattern='%Y-%m-%d'\r\n",
    "time_pattern='%H:%M:%S'\r\n",
    "full_pattern = ' '.join([date_pattern, time_pattern])\r\n",
    "\r\n",
    "X_test['Time of Day'] = pd.to_datetime(X_test['Timestamp'], format = full_pattern).dt.hour\r\n",
    "X_test.drop('Timestamp',1, inplace=True)"
   ],
   "outputs": [],
   "metadata": {}
  },
  {
   "cell_type": "code",
   "execution_count": 752,
   "source": [
    "# Encode country click preference\r\n",
    "click_pref = X_test['Country'].apply(get_country_label)\r\n",
    "X_test['Country Click Pref'] = click_pref.astype('category').cat.codes\r\n",
    "X_test.drop('Country', 1, inplace=True)"
   ],
   "outputs": [],
   "metadata": {}
  },
  {
   "cell_type": "code",
   "execution_count": 753,
   "source": [
    "# subset to relevant variables for KNN impute of missing values\r\n",
    "keep = ['Daily Time Spent on Site','Age','Area Income','Daily Internet Usage','gender','Time of Day','Country Click Pref']\r\n",
    "X_test = X_test[keep]\r\n",
    "# scale variables and impute missing values in dataset\r\n",
    "imputer = KNNImputer(n_neighbors=20, weights='uniform')\r\n",
    "X_test = pd.DataFrame(imputer.fit_transform(scale(X_test)), columns=X_test.columns, index=X_test.index.values)\r\n",
    "# final subset of features\r\n",
    "keep = ['Daily Time Spent on Site','Age','Area Income','Daily Internet Usage']\r\n",
    "X_test = X_test[keep]\r\n",
    "X_test.head()"
   ],
   "outputs": [
    {
     "output_type": "execute_result",
     "data": {
      "text/html": [
       "<div>\n",
       "<style scoped>\n",
       "    .dataframe tbody tr th:only-of-type {\n",
       "        vertical-align: middle;\n",
       "    }\n",
       "\n",
       "    .dataframe tbody tr th {\n",
       "        vertical-align: top;\n",
       "    }\n",
       "\n",
       "    .dataframe thead th {\n",
       "        text-align: right;\n",
       "    }\n",
       "</style>\n",
       "<table border=\"1\" class=\"dataframe\">\n",
       "  <thead>\n",
       "    <tr style=\"text-align: right;\">\n",
       "      <th></th>\n",
       "      <th>Daily Time Spent on Site</th>\n",
       "      <th>Age</th>\n",
       "      <th>Area Income</th>\n",
       "      <th>Daily Internet Usage</th>\n",
       "    </tr>\n",
       "  </thead>\n",
       "  <tbody>\n",
       "    <tr>\n",
       "      <th>2200</th>\n",
       "      <td>-1.334717</td>\n",
       "      <td>2.010123</td>\n",
       "      <td>-1.578961</td>\n",
       "      <td>-0.391373</td>\n",
       "    </tr>\n",
       "    <tr>\n",
       "      <th>2201</th>\n",
       "      <td>0.083614</td>\n",
       "      <td>0.457048</td>\n",
       "      <td>1.681929</td>\n",
       "      <td>0.710656</td>\n",
       "    </tr>\n",
       "    <tr>\n",
       "      <th>2202</th>\n",
       "      <td>0.909924</td>\n",
       "      <td>-0.208556</td>\n",
       "      <td>0.061806</td>\n",
       "      <td>-0.976790</td>\n",
       "    </tr>\n",
       "    <tr>\n",
       "      <th>2203</th>\n",
       "      <td>-0.801269</td>\n",
       "      <td>-1.206961</td>\n",
       "      <td>-1.453561</td>\n",
       "      <td>-0.837096</td>\n",
       "    </tr>\n",
       "    <tr>\n",
       "      <th>2204</th>\n",
       "      <td>1.035256</td>\n",
       "      <td>0.013312</td>\n",
       "      <td>0.444150</td>\n",
       "      <td>0.282308</td>\n",
       "    </tr>\n",
       "  </tbody>\n",
       "</table>\n",
       "</div>"
      ],
      "text/plain": [
       "      Daily Time Spent on Site       Age  Area Income  Daily Internet Usage\n",
       "2200                 -1.334717  2.010123    -1.578961             -0.391373\n",
       "2201                  0.083614  0.457048     1.681929              0.710656\n",
       "2202                  0.909924 -0.208556     0.061806             -0.976790\n",
       "2203                 -0.801269 -1.206961    -1.453561             -0.837096\n",
       "2204                  1.035256  0.013312     0.444150              0.282308"
      ]
     },
     "metadata": {},
     "execution_count": 753
    }
   ],
   "metadata": {
    "colab": {},
    "colab_type": "code",
    "id": "1Vk1EEy9IKSv"
   }
  },
  {
   "cell_type": "markdown",
   "source": [
    "### Load Model"
   ],
   "metadata": {
    "colab": {},
    "colab_type": "code",
    "id": "nkQU41WSIKSz"
   }
  },
  {
   "cell_type": "code",
   "execution_count": 754,
   "source": [
    "# filename for stored logistic regression model\r\n",
    "fname = 'output/logistic_regression.sav'\r\n",
    "logreg = pickle.load(open(fname, 'rb'))\r\n",
    "type(logreg)"
   ],
   "outputs": [
    {
     "output_type": "execute_result",
     "data": {
      "text/plain": [
       "sklearn.linear_model._logistic.LogisticRegression"
      ]
     },
     "metadata": {},
     "execution_count": 754
    }
   ],
   "metadata": {}
  },
  {
   "cell_type": "markdown",
   "source": [
    "### Predict New Data"
   ],
   "metadata": {}
  },
  {
   "cell_type": "code",
   "execution_count": 755,
   "source": [
    "y_pred = logreg.predict(X_test)\r\n",
    "submission = pd.DataFrame({\r\n",
    "    'id': X_test.index.values,\r\n",
    "    'Clicked': y_pred\r\n",
    "})\r\n",
    "submission.head(10)"
   ],
   "outputs": [
    {
     "output_type": "execute_result",
     "data": {
      "text/html": [
       "<div>\n",
       "<style scoped>\n",
       "    .dataframe tbody tr th:only-of-type {\n",
       "        vertical-align: middle;\n",
       "    }\n",
       "\n",
       "    .dataframe tbody tr th {\n",
       "        vertical-align: top;\n",
       "    }\n",
       "\n",
       "    .dataframe thead th {\n",
       "        text-align: right;\n",
       "    }\n",
       "</style>\n",
       "<table border=\"1\" class=\"dataframe\">\n",
       "  <thead>\n",
       "    <tr style=\"text-align: right;\">\n",
       "      <th></th>\n",
       "      <th>id</th>\n",
       "      <th>Clicked</th>\n",
       "    </tr>\n",
       "  </thead>\n",
       "  <tbody>\n",
       "    <tr>\n",
       "      <th>0</th>\n",
       "      <td>2200</td>\n",
       "      <td>1</td>\n",
       "    </tr>\n",
       "    <tr>\n",
       "      <th>1</th>\n",
       "      <td>2201</td>\n",
       "      <td>0</td>\n",
       "    </tr>\n",
       "    <tr>\n",
       "      <th>2</th>\n",
       "      <td>2202</td>\n",
       "      <td>1</td>\n",
       "    </tr>\n",
       "    <tr>\n",
       "      <th>3</th>\n",
       "      <td>2203</td>\n",
       "      <td>1</td>\n",
       "    </tr>\n",
       "    <tr>\n",
       "      <th>4</th>\n",
       "      <td>2204</td>\n",
       "      <td>0</td>\n",
       "    </tr>\n",
       "    <tr>\n",
       "      <th>5</th>\n",
       "      <td>2205</td>\n",
       "      <td>0</td>\n",
       "    </tr>\n",
       "    <tr>\n",
       "      <th>6</th>\n",
       "      <td>2206</td>\n",
       "      <td>0</td>\n",
       "    </tr>\n",
       "    <tr>\n",
       "      <th>7</th>\n",
       "      <td>2207</td>\n",
       "      <td>1</td>\n",
       "    </tr>\n",
       "    <tr>\n",
       "      <th>8</th>\n",
       "      <td>2208</td>\n",
       "      <td>0</td>\n",
       "    </tr>\n",
       "    <tr>\n",
       "      <th>9</th>\n",
       "      <td>2209</td>\n",
       "      <td>0</td>\n",
       "    </tr>\n",
       "  </tbody>\n",
       "</table>\n",
       "</div>"
      ],
      "text/plain": [
       "     id  Clicked\n",
       "0  2200        1\n",
       "1  2201        0\n",
       "2  2202        1\n",
       "3  2203        1\n",
       "4  2204        0\n",
       "5  2205        0\n",
       "6  2206        0\n",
       "7  2207        1\n",
       "8  2208        0\n",
       "9  2209        0"
      ]
     },
     "metadata": {},
     "execution_count": 755
    }
   ],
   "metadata": {}
  },
  {
   "cell_type": "markdown",
   "source": [
    "\n",
    "\n",
    "**Describe the most important features in the model to a management audience.**\n",
    "\n",
    "> #### Task:\n",
    "- **Visualize the top 10 features and their feature importance.**\n"
   ],
   "metadata": {
    "colab_type": "text",
    "id": "MK_rdXETIKS4"
   }
  },
  {
   "cell_type": "code",
   "execution_count": 758,
   "source": [
    "# get importance\r\n",
    "importance = logreg.coef_[0]\r\n",
    "# summarize feature importance\r\n",
    "for i,v in enumerate(importance):\r\n",
    "\tprint('Feature: {:s}, Score: {:.5f}'.format(X_test.columns[i],v))\r\n",
    "# plot feature importance\r\n",
    "plt.bar([x for x in range(len(importance))], importance)\r\n",
    "plt.show()"
   ],
   "outputs": [
    {
     "output_type": "stream",
     "name": "stdout",
     "text": [
      "Feature: Daily Time Spent on Site, Score: -1.09304\n",
      "Feature: Age, Score: 0.61647\n",
      "Feature: Area Income, Score: -0.52283\n",
      "Feature: Daily Internet Usage, Score: -1.00019\n"
     ]
    },
    {
     "output_type": "display_data",
     "data": {
      "image/png": "[encoded data removed]",
      "text/plain": [
       "<Figure size 432x288 with 1 Axes>"
      ]
     },
     "metadata": {
      "needs_background": "light"
     }
    }
   ],
   "metadata": {}
  },
  {
   "cell_type": "markdown",
   "source": [
    "> #### Task:\n",
    "- **Submit the predictions on the test dataset using your optimized model** <br/>\n",
    "    For each record in the test set (`test.csv`), predict whether a consumer clicked on an ad or not. Submit a CSV file with a header row and one row per test entry. \n",
    "    \n",
    "The file (`submissions.csv`) should have exactly 2 columns:\n",
    "   - **id**\n",
    "   - **Clicked**"
   ],
   "metadata": {
    "colab_type": "text",
    "id": "UFogmgYZIKTE"
   }
  },
  {
   "cell_type": "code",
   "execution_count": 759,
   "source": [
    "submission.head(10)"
   ],
   "outputs": [
    {
     "output_type": "execute_result",
     "data": {
      "text/html": [
       "<div>\n",
       "<style scoped>\n",
       "    .dataframe tbody tr th:only-of-type {\n",
       "        vertical-align: middle;\n",
       "    }\n",
       "\n",
       "    .dataframe tbody tr th {\n",
       "        vertical-align: top;\n",
       "    }\n",
       "\n",
       "    .dataframe thead th {\n",
       "        text-align: right;\n",
       "    }\n",
       "</style>\n",
       "<table border=\"1\" class=\"dataframe\">\n",
       "  <thead>\n",
       "    <tr style=\"text-align: right;\">\n",
       "      <th></th>\n",
       "      <th>id</th>\n",
       "      <th>Clicked</th>\n",
       "    </tr>\n",
       "  </thead>\n",
       "  <tbody>\n",
       "    <tr>\n",
       "      <th>0</th>\n",
       "      <td>2200</td>\n",
       "      <td>1</td>\n",
       "    </tr>\n",
       "    <tr>\n",
       "      <th>1</th>\n",
       "      <td>2201</td>\n",
       "      <td>0</td>\n",
       "    </tr>\n",
       "    <tr>\n",
       "      <th>2</th>\n",
       "      <td>2202</td>\n",
       "      <td>1</td>\n",
       "    </tr>\n",
       "    <tr>\n",
       "      <th>3</th>\n",
       "      <td>2203</td>\n",
       "      <td>1</td>\n",
       "    </tr>\n",
       "    <tr>\n",
       "      <th>4</th>\n",
       "      <td>2204</td>\n",
       "      <td>0</td>\n",
       "    </tr>\n",
       "    <tr>\n",
       "      <th>5</th>\n",
       "      <td>2205</td>\n",
       "      <td>0</td>\n",
       "    </tr>\n",
       "    <tr>\n",
       "      <th>6</th>\n",
       "      <td>2206</td>\n",
       "      <td>0</td>\n",
       "    </tr>\n",
       "    <tr>\n",
       "      <th>7</th>\n",
       "      <td>2207</td>\n",
       "      <td>1</td>\n",
       "    </tr>\n",
       "    <tr>\n",
       "      <th>8</th>\n",
       "      <td>2208</td>\n",
       "      <td>0</td>\n",
       "    </tr>\n",
       "    <tr>\n",
       "      <th>9</th>\n",
       "      <td>2209</td>\n",
       "      <td>0</td>\n",
       "    </tr>\n",
       "  </tbody>\n",
       "</table>\n",
       "</div>"
      ],
      "text/plain": [
       "     id  Clicked\n",
       "0  2200        1\n",
       "1  2201        0\n",
       "2  2202        1\n",
       "3  2203        1\n",
       "4  2204        0\n",
       "5  2205        0\n",
       "6  2206        0\n",
       "7  2207        1\n",
       "8  2208        0\n",
       "9  2209        0"
      ]
     },
     "metadata": {},
     "execution_count": 759
    }
   ],
   "metadata": {}
  },
  {
   "cell_type": "code",
   "execution_count": 760,
   "source": [
    "# write submission to csv\r\n",
    "submission.to_csv('output/submissions.csv')"
   ],
   "outputs": [],
   "metadata": {}
  }
 ],
 "metadata": {
  "colab": {
   "collapsed_sections": [],
   "name": "ads_questions_updated.ipynb",
   "provenance": [],
   "toc_visible": true
  },
  "kernelspec": {
   "name": "python3",
   "display_name": "Python 3.8.8 64-bit"
  },
  "language_info": {
   "codemirror_mode": {
    "name": "ipython",
    "version": 3
   },
   "file_extension": ".py",
   "mimetype": "text/x-python",
   "name": "python",
   "nbconvert_exporter": "python",
   "pygments_lexer": "ipython3",
   "version": "3.8.8"
  },
  "toc": {
   "base_numbering": 1,
   "nav_menu": {},
   "number_sections": true,
   "sideBar": true,
   "skip_h1_title": false,
   "title_cell": "Table of Contents",
   "title_sidebar": "Contents",
   "toc_cell": false,
   "toc_position": {},
   "toc_section_display": true,
   "toc_window_display": false
  },
  "interpreter": {
   "hash": "696d099865d2fa3a0c40c6c742221787313d3f506e3c6a4a4e248f3f3c6df6b6"
  }
 },
 "nbformat": 4,
 "nbformat_minor": 4
}